{
 "cells": [
  {
   "cell_type": "code",
   "execution_count": 2,
   "metadata": {},
   "outputs": [],
   "source": [
    "import pandas as pd\n",
    "import numpy as np\n",
    "import matplotlib.pyplot as plt\n",
    "import seaborn as sn\n",
    "from sklearn.feature_extraction.text import TfidfVectorizer as tfidf\n",
    "\n",
    "from sklearn.model_selection import train_test_split\n",
    "from sklearn.neighbors import KNeighborsClassifier as knn\n",
    "from sklearn.tree import DecisionTreeClassifier\n",
    "from sklearn.model_selection import cross_validate\n",
    "from sklearn.model_selection import train_test_split"
   ]
  },
  {
   "cell_type": "code",
   "execution_count": 3,
   "metadata": {},
   "outputs": [],
   "source": [
    "politics = pd.read_csv(\"./final_csvs/politics.csv\", index_col = 0)\n",
    "money = pd.read_csv(\"./final_csvs/money.csv\", index_col = 0)\n",
    "sports = pd.read_csv(\"./final_csvs/sports.csv\", index_col = 0)\n",
    "tech = pd.read_csv(\"./final_csvs/tech.csv\")"
   ]
  },
  {
   "cell_type": "code",
   "execution_count": 4,
   "metadata": {},
   "outputs": [
    {
     "data": {
      "text/plain": [
       "(1779, 2588, 4122)"
      ]
     },
     "execution_count": 4,
     "metadata": {},
     "output_type": "execute_result"
    }
   ],
   "source": [
    "len(money), len(sports), len(tech)"
   ]
  },
  {
   "cell_type": "code",
   "execution_count": 5,
   "metadata": {},
   "outputs": [
    {
     "data": {
      "text/plain": [
       "Index(['url', 'title', 'author', 'published', 'claps', 'text', 'tags',\n",
       "       'duration', 'username'],\n",
       "      dtype='object')"
      ]
     },
     "execution_count": 5,
     "metadata": {},
     "output_type": "execute_result"
    }
   ],
   "source": [
    "sports.columns"
   ]
  },
  {
   "cell_type": "code",
   "execution_count": 6,
   "metadata": {},
   "outputs": [],
   "source": [
    "#there was a bug with the webscraping: people with 2020 claps have the wrong number of claps. \n",
    "#checked via website, having differing number of claps\n",
    "politics = politics[politics.claps != 2020]\n",
    "\n",
    "#get ratio of clap to followers, put as a new feature\n",
    "clap_ratio = politics.claps / politics.followers\n",
    "\n",
    "#get number of followers:\n",
    "followers = politics.followers\n",
    "\n",
    "#put the clap ratio as a new feature\n",
    "politics[\"clap_ratio\"] = clap_ratio"
   ]
  },
  {
   "cell_type": "code",
   "execution_count": 7,
   "metadata": {},
   "outputs": [
    {
     "data": {
      "text/html": [
       "<div>\n",
       "<style scoped>\n",
       "    .dataframe tbody tr th:only-of-type {\n",
       "        vertical-align: middle;\n",
       "    }\n",
       "\n",
       "    .dataframe tbody tr th {\n",
       "        vertical-align: top;\n",
       "    }\n",
       "\n",
       "    .dataframe thead th {\n",
       "        text-align: right;\n",
       "    }\n",
       "</style>\n",
       "<table border=\"1\" class=\"dataframe\">\n",
       "  <thead>\n",
       "    <tr style=\"text-align: right;\">\n",
       "      <th></th>\n",
       "      <th>url</th>\n",
       "      <th>title</th>\n",
       "      <th>author</th>\n",
       "      <th>username</th>\n",
       "      <th>user_since</th>\n",
       "      <th>following</th>\n",
       "      <th>followers</th>\n",
       "      <th>published</th>\n",
       "      <th>claps</th>\n",
       "      <th>text</th>\n",
       "      <th>tags</th>\n",
       "      <th>clap_ratio</th>\n",
       "    </tr>\n",
       "  </thead>\n",
       "  <tbody>\n",
       "    <tr>\n",
       "      <th>0</th>\n",
       "      <td>https://medium.com/@lizardgrey/lets-pass-on-th...</td>\n",
       "      <td>Let’s Pass on the Pizzazz, NBC, and Listen to ...</td>\n",
       "      <td>Elizabeth Grey</td>\n",
       "      <td>medium.com/@lizardgrey</td>\n",
       "      <td>2019.0</td>\n",
       "      <td>82.0</td>\n",
       "      <td>57.0</td>\n",
       "      <td>Nov 14</td>\n",
       "      <td>22</td>\n",
       "      <td>['[Photo courtesy of Pixabay, There is a diffe...</td>\n",
       "      <td>['Politics', 'Impeachment', 'Ukraine', 'Diplom...</td>\n",
       "      <td>0.385965</td>\n",
       "    </tr>\n",
       "    <tr>\n",
       "      <th>1</th>\n",
       "      <td>https://medium.com/swlh/politics-isnt-my-passi...</td>\n",
       "      <td>Politics Isn’t My Passion</td>\n",
       "      <td>Elizabeth Grey</td>\n",
       "      <td>medium.com/@lizardgrey</td>\n",
       "      <td>2019.0</td>\n",
       "      <td>82.0</td>\n",
       "      <td>57.0</td>\n",
       "      <td>Nov 12</td>\n",
       "      <td>103</td>\n",
       "      <td>['[image courtesy of Pixabay, Last night I was...</td>\n",
       "      <td>['Top ', 'Story', 'Submit, ', 'Politics', 'Tru...</td>\n",
       "      <td>1.807018</td>\n",
       "    </tr>\n",
       "    <tr>\n",
       "      <th>2</th>\n",
       "      <td>https://medium.com/@lizardgrey/my-no-lies-diet...</td>\n",
       "      <td>The No More Lies Diet Book</td>\n",
       "      <td>Elizabeth Grey</td>\n",
       "      <td>medium.com/@lizardgrey</td>\n",
       "      <td>2019.0</td>\n",
       "      <td>82.0</td>\n",
       "      <td>57.0</td>\n",
       "      <td>Nov 10</td>\n",
       "      <td>2</td>\n",
       "      <td>['[I can’t write about politics today. It’s to...</td>\n",
       "      <td>['Weight ', 'Loss', 'Self ', 'Improvement', 'E...</td>\n",
       "      <td>0.035088</td>\n",
       "    </tr>\n",
       "    <tr>\n",
       "      <th>3</th>\n",
       "      <td>https://medium.com/the-slowdown/how-likely-is-...</td>\n",
       "      <td>How Likely is a Real-life Terminator?</td>\n",
       "      <td>Amie Haven</td>\n",
       "      <td>medium.com/@amiehaven</td>\n",
       "      <td>2019.0</td>\n",
       "      <td>17.0</td>\n",
       "      <td>21.0</td>\n",
       "      <td>Nov 14</td>\n",
       "      <td>104</td>\n",
       "      <td>['[Lethal autonomous weapon systems (LAWS) are...</td>\n",
       "      <td>['About', 'Pitch ', 'Us ', 'Slalom, ', 'Artifi...</td>\n",
       "      <td>4.952381</td>\n",
       "    </tr>\n",
       "    <tr>\n",
       "      <th>4</th>\n",
       "      <td>https://medium.com/@lizardgrey/lets-pass-on-th...</td>\n",
       "      <td>Let’s Pass on the Pizzazz, NBC, and Listen to ...</td>\n",
       "      <td>Elizabeth Grey</td>\n",
       "      <td>medium.com/@lizardgrey</td>\n",
       "      <td>2019.0</td>\n",
       "      <td>82.0</td>\n",
       "      <td>57.0</td>\n",
       "      <td>Nov 14</td>\n",
       "      <td>22</td>\n",
       "      <td>['[Photo courtesy of Pixabay, There is a diffe...</td>\n",
       "      <td>['Politics', 'Impeachment', 'Ukraine', 'Diplom...</td>\n",
       "      <td>0.385965</td>\n",
       "    </tr>\n",
       "  </tbody>\n",
       "</table>\n",
       "</div>"
      ],
      "text/plain": [
       "                                                 url  \\\n",
       "0  https://medium.com/@lizardgrey/lets-pass-on-th...   \n",
       "1  https://medium.com/swlh/politics-isnt-my-passi...   \n",
       "2  https://medium.com/@lizardgrey/my-no-lies-diet...   \n",
       "3  https://medium.com/the-slowdown/how-likely-is-...   \n",
       "4  https://medium.com/@lizardgrey/lets-pass-on-th...   \n",
       "\n",
       "                                               title          author  \\\n",
       "0  Let’s Pass on the Pizzazz, NBC, and Listen to ...  Elizabeth Grey   \n",
       "1                          Politics Isn’t My Passion  Elizabeth Grey   \n",
       "2                         The No More Lies Diet Book  Elizabeth Grey   \n",
       "3              How Likely is a Real-life Terminator?      Amie Haven   \n",
       "4  Let’s Pass on the Pizzazz, NBC, and Listen to ...  Elizabeth Grey   \n",
       "\n",
       "                 username  user_since  following  followers published  claps  \\\n",
       "0  medium.com/@lizardgrey      2019.0       82.0       57.0    Nov 14     22   \n",
       "1  medium.com/@lizardgrey      2019.0       82.0       57.0    Nov 12    103   \n",
       "2  medium.com/@lizardgrey      2019.0       82.0       57.0    Nov 10      2   \n",
       "3   medium.com/@amiehaven      2019.0       17.0       21.0    Nov 14    104   \n",
       "4  medium.com/@lizardgrey      2019.0       82.0       57.0    Nov 14     22   \n",
       "\n",
       "                                                text  \\\n",
       "0  ['[Photo courtesy of Pixabay, There is a diffe...   \n",
       "1  ['[image courtesy of Pixabay, Last night I was...   \n",
       "2  ['[I can’t write about politics today. It’s to...   \n",
       "3  ['[Lethal autonomous weapon systems (LAWS) are...   \n",
       "4  ['[Photo courtesy of Pixabay, There is a diffe...   \n",
       "\n",
       "                                                tags  clap_ratio  \n",
       "0  ['Politics', 'Impeachment', 'Ukraine', 'Diplom...    0.385965  \n",
       "1  ['Top ', 'Story', 'Submit, ', 'Politics', 'Tru...    1.807018  \n",
       "2  ['Weight ', 'Loss', 'Self ', 'Improvement', 'E...    0.035088  \n",
       "3  ['About', 'Pitch ', 'Us ', 'Slalom, ', 'Artifi...    4.952381  \n",
       "4  ['Politics', 'Impeachment', 'Ukraine', 'Diplom...    0.385965  "
      ]
     },
     "execution_count": 7,
     "metadata": {},
     "output_type": "execute_result"
    }
   ],
   "source": [
    "politics.head()"
   ]
  },
  {
   "cell_type": "markdown",
   "metadata": {},
   "source": [
    "## NLP"
   ]
  },
  {
   "cell_type": "code",
   "execution_count": 8,
   "metadata": {},
   "outputs": [],
   "source": [
    "import random"
   ]
  },
  {
   "cell_type": "markdown",
   "metadata": {},
   "source": [
    "making train and test set:"
   ]
  },
  {
   "cell_type": "code",
   "execution_count": 9,
   "metadata": {},
   "outputs": [],
   "source": [
    "#politics has empty text tags\n",
    "politics = politics[~(politics.text == '[]')]\n",
    "money = money[~(money.text == '[]')]\n",
    "sports = sports[~(sports.text == '[]')]\n",
    "tech = tech[~(tech.text == '[]')]"
   ]
  },
  {
   "cell_type": "markdown",
   "metadata": {},
   "source": [
    "take subset nan values !"
   ]
  },
  {
   "cell_type": "code",
   "execution_count": 10,
   "metadata": {},
   "outputs": [],
   "source": [
    "#down sample\n",
    "np.random.seed = 42\n",
    "pol = politics.sample(2000, replace= False)[[\"text\"]].reset_index(drop=True)\n",
    "mon = money.sample(len(money), replace = False)[[\"text\"]].reset_index(drop=True)\n",
    "spo = sports.sample(len(sports), replace = False)[[\"text\"]].reset_index(drop=True)\n",
    "tec = tech.sample(2000, replace = False)[[\"text\"]].reset_index(drop=True)"
   ]
  },
  {
   "cell_type": "code",
   "execution_count": 11,
   "metadata": {},
   "outputs": [],
   "source": [
    "#adding on the labels:\n",
    "pol[\"label\"] = [0] * len(pol)\n",
    "mon[\"label\"] = [1] * len(mon)\n",
    "spo[\"label\"] = [2] * len(spo)\n",
    "tec[\"label\"] = [3] * len(tec)"
   ]
  },
  {
   "cell_type": "code",
   "execution_count": 12,
   "metadata": {},
   "outputs": [],
   "source": [
    "#need to split them up to train and test\n",
    "len_mon = len(mon)\n",
    "len_pol = len(pol)\n",
    "len_tec = len(tec)\n",
    "len_spo = len(spo)"
   ]
  },
  {
   "cell_type": "code",
   "execution_count": 13,
   "metadata": {},
   "outputs": [
    {
     "data": {
      "text/plain": [
       "(1647, 2000, 2000, 2588)"
      ]
     },
     "execution_count": 13,
     "metadata": {},
     "output_type": "execute_result"
    }
   ],
   "source": [
    "len_mon, len_pol, len_tec, len_spo"
   ]
  },
  {
   "cell_type": "code",
   "execution_count": 14,
   "metadata": {},
   "outputs": [],
   "source": [
    "#need to get train set\n",
    "len_train_mon = int(len_mon * .80)\n",
    "len_train_pol = int(len_pol * .80)\n",
    "len_train_tec = int(len_tec * .80)\n",
    "len_train_spo = int(len_spo * .80)"
   ]
  },
  {
   "cell_type": "code",
   "execution_count": 15,
   "metadata": {},
   "outputs": [],
   "source": [
    "#train sets\n",
    "train_mon = mon.iloc[:len_train_mon]\n",
    "train_pol = pol.iloc[:len_train_pol]\n",
    "train_tec = tec.iloc[:len_train_tec]\n",
    "train_spo = spo.iloc[:len_train_spo]\n",
    "\n",
    "#test sets\n",
    "test_mon = mon.iloc[len_train_mon:]\n",
    "test_pol = pol.iloc[len_train_pol:]\n",
    "test_tec = tec.iloc[len_train_tec:]\n",
    "test_spo = spo.iloc[len_train_spo:]"
   ]
  },
  {
   "cell_type": "code",
   "execution_count": 39,
   "metadata": {},
   "outputs": [],
   "source": [
    "#need to combine all categories together for train\n",
    "mp = pd.concat([train_mon, train_pol], axis = 0)\n",
    "ts = pd.concat([train_tec, train_spo], axis = 0)\n",
    "train = pd.concat([mp,ts],axis=0)\n",
    "\n",
    "#need to combine all categories together for test\n",
    "mp_ = pd.concat([test_mon, test_pol], axis = 0)\n",
    "ts_ = pd.concat([test_tec, test_spo], axis = 0)\n",
    "test = pd.concat([mp_,ts_],axis=0)"
   ]
  },
  {
   "cell_type": "code",
   "execution_count": 40,
   "metadata": {},
   "outputs": [],
   "source": [
    "train = train.sample(frac = 1, replace = False).reset_index(drop=True)\n",
    "test = test.sample(frac = 1, replace = False).reset_index(drop=True)"
   ]
  },
  {
   "cell_type": "code",
   "execution_count": 41,
   "metadata": {},
   "outputs": [
    {
     "data": {
      "text/html": [
       "<div>\n",
       "<style scoped>\n",
       "    .dataframe tbody tr th:only-of-type {\n",
       "        vertical-align: middle;\n",
       "    }\n",
       "\n",
       "    .dataframe tbody tr th {\n",
       "        vertical-align: top;\n",
       "    }\n",
       "\n",
       "    .dataframe thead th {\n",
       "        text-align: right;\n",
       "    }\n",
       "</style>\n",
       "<table border=\"1\" class=\"dataframe\">\n",
       "  <thead>\n",
       "    <tr style=\"text-align: right;\">\n",
       "      <th></th>\n",
       "      <th>text</th>\n",
       "      <th>label</th>\n",
       "    </tr>\n",
       "  </thead>\n",
       "  <tbody>\n",
       "    <tr>\n",
       "      <th>0</th>\n",
       "      <td>Enough with all the rookie talk! Luka Doncic h...</td>\n",
       "      <td>2</td>\n",
       "    </tr>\n",
       "    <tr>\n",
       "      <th>1</th>\n",
       "      <td>“Road is dead.” So goes the morose refrain fro...</td>\n",
       "      <td>2</td>\n",
       "    </tr>\n",
       "    <tr>\n",
       "      <th>2</th>\n",
       "      <td>['[I teach progressives how to communicate mor...</td>\n",
       "      <td>0</td>\n",
       "    </tr>\n",
       "    <tr>\n",
       "      <th>3</th>\n",
       "      <td>['[By YiLi Chien and Qiuhan Sun, How do Americ...</td>\n",
       "      <td>1</td>\n",
       "    </tr>\n",
       "    <tr>\n",
       "      <th>4</th>\n",
       "      <td>Last year the New Orleans Pelicans lived two d...</td>\n",
       "      <td>2</td>\n",
       "    </tr>\n",
       "  </tbody>\n",
       "</table>\n",
       "</div>"
      ],
      "text/plain": [
       "                                                text  label\n",
       "0  Enough with all the rookie talk! Luka Doncic h...      2\n",
       "1  “Road is dead.” So goes the morose refrain fro...      2\n",
       "2  ['[I teach progressives how to communicate mor...      0\n",
       "3  ['[By YiLi Chien and Qiuhan Sun, How do Americ...      1\n",
       "4  Last year the New Orleans Pelicans lived two d...      2"
      ]
     },
     "execution_count": 41,
     "metadata": {},
     "output_type": "execute_result"
    }
   ],
   "source": [
    "train.head()"
   ]
  },
  {
   "cell_type": "code",
   "execution_count": 42,
   "metadata": {},
   "outputs": [
    {
     "data": {
      "text/plain": [
       "27"
      ]
     },
     "execution_count": 42,
     "metadata": {},
     "output_type": "execute_result"
    }
   ],
   "source": [
    "sum(pd.isnull(train[\"text\"]))\n",
    "sum(pd.isnull(test[\"text\"]))"
   ]
  },
  {
   "cell_type": "code",
   "execution_count": 43,
   "metadata": {},
   "outputs": [],
   "source": [
    "#get rid of null values\n",
    "train = train[~pd.isnull(train[\"text\"])]\n",
    "test = test[~pd.isnull(test[\"text\"])]\n",
    "#get X and Y data\n",
    "all_words = train.text\n",
    "Y_training = train.label\n",
    "\n",
    "all_words_text = test.text\n",
    "Y_test_orig = test.label\n"
   ]
  },
  {
   "cell_type": "code",
   "execution_count": 44,
   "metadata": {},
   "outputs": [
    {
     "name": "stdout",
     "output_type": "stream",
     "text": [
      "['000', 'american', 'best', 'better', 'change', 'day', 'did', 'does', 'dont', 'financial', 'game', 'going', 'good', 'government', 'home', 'im', 'income', 'just', 'know', 'life', 'like', 'long', 'make', 'market', 'money', 'need', 'new', 'pay', 'people', 'political', 'president', 'right', 'said', 'say', 'state', 'states', 'team', 'thats', 'things', 'think', 'time', 'trump', 'use', 'want', 'way', 'work', 'world', 'year', 'years', 'youre']\n"
     ]
    }
   ],
   "source": [
    "#create the vector\n",
    "#focus on max_features as well\n",
    "vector = tfidf(stop_words = \"english\", strip_accents = 'ascii', max_features = 50)\n",
    "\n",
    "#fit the data\n",
    "vector.fit(all_words)\n",
    "\n",
    "#can look at the vectorizer\n",
    "print(vector.get_feature_names())"
   ]
  },
  {
   "cell_type": "code",
   "execution_count": 45,
   "metadata": {},
   "outputs": [],
   "source": [
    "#transforming the data, aka manipulating it based on the weights we \n",
    "#determined before by fitting our data \n",
    "train_trans = vector.transform(all_words)"
   ]
  },
  {
   "cell_type": "code",
   "execution_count": 23,
   "metadata": {},
   "outputs": [
    {
     "data": {
      "text/plain": [
       "<6496x50 sparse matrix of type '<class 'numpy.float64'>'\n",
       "\twith 88505 stored elements in Compressed Sparse Row format>"
      ]
     },
     "execution_count": 23,
     "metadata": {},
     "output_type": "execute_result"
    }
   ],
   "source": [
    "train_trans"
   ]
  },
  {
   "cell_type": "code",
   "execution_count": 25,
   "metadata": {},
   "outputs": [],
   "source": [
    "#create the model (look at the documentation to see if there's any \n",
    "# parameters) you should pay closer attention to.\n",
    "\n",
    "#this is how you create a basic decision tree\n",
    "dt = DecisionTreeClassifier(max_depth = 10)\n",
    "\n",
    "#cross validation:\n",
    "scores = cross_validate(dt, train_trans, Y_training, cv = 5)\n",
    "\n",
    "#fit the model, use your train data\n",
    "#dt.fit(train_trans, Y_train)"
   ]
  },
  {
   "cell_type": "code",
   "execution_count": 26,
   "metadata": {},
   "outputs": [
    {
     "data": {
      "text/plain": [
       "{'fit_time': array([0.40595078, 0.43679118, 0.40092635, 0.35006738, 0.37699175]),\n",
       " 'score_time': array([0.00299048, 0.00199652, 0.00299311, 0.0019958 , 0.00199509]),\n",
       " 'test_score': array([0.7217525 , 0.73230769, 0.72517321, 0.73420647, 0.71109399])}"
      ]
     },
     "execution_count": 26,
     "metadata": {},
     "output_type": "execute_result"
    }
   ],
   "source": [
    "#these scores are a very basic baseline model (without any hyperparameter tuning)\n",
    "scores"
   ]
  },
  {
   "cell_type": "markdown",
   "metadata": {},
   "source": [
    "### Hyperparameter tuning:\n",
    "https://medium.com/@mohtedibf/indepth-parameter-tuning-for-decision-tree-6753118a03c3\n",
    "tuning hyperparameters listed above in this article. \n",
    "(could use hyperopt or grid search, but would take too long)."
   ]
  },
  {
   "cell_type": "code",
   "execution_count": 27,
   "metadata": {},
   "outputs": [],
   "source": [
    "from sklearn.model_selection import KFold"
   ]
  },
  {
   "cell_type": "code",
   "execution_count": null,
   "metadata": {},
   "outputs": [],
   "source": [
    "#doing grid search\n",
    "clf = GridSearchCV(dt, parameters, cv = 3)"
   ]
  },
  {
   "cell_type": "code",
   "execution_count": null,
   "metadata": {},
   "outputs": [],
   "source": [
    "#dict to keep my results:\n",
    "tuning_dict = {}\n",
    "i = 0\n",
    "#a makeshift gridsearch:\n",
    "for max_depth_i in range(8, 16):\n",
    "    for min_sample_splits_i in np.arange(.01, 0.22, .1):\n",
    "        i = i + 1\n",
    "        print(i)\n",
    "        #this is how you create a basic decision tree\n",
    "        dt = DecisionTreeClassifier(\n",
    "            max_depth = max_depth_i)\n",
    "        #making vectorizer:\n",
    "        vector = tfidf(stop_words = \"english\", strip_accents = 'ascii', max_features = 100)\n",
    "\n",
    "\n",
    "        #cross validation:\n",
    "        kfold = KFold(n_splits = 3)\n",
    "        for train_index, test_index in kfold.split(train):\n",
    "            #split into train and test:\n",
    "            X_train, X_test = train[\"text\"].iloc[train_index], train['text'].iloc[test_index]\n",
    "            Y_train, Y_test = train[\"label\"].iloc[train_index], train['label'].iloc[test_index]\n",
    "\n",
    "            #fit vectorizer on the train data:\n",
    "            X_train_trans = vector.fit_transform(X_train)\n",
    "\n",
    "            #DO NOT refit it onto the test data!\n",
    "            X_test_trans = vector.transform(X_test)\n",
    "\n",
    "            #fit on the decision tree\n",
    "            dt.fit(X_train_trans, Y_train)\n",
    "            test_scores = dt.score(X_test_trans, Y_test)\n",
    "            train_scores = dt.score(X_train_trans, Y_train)\n",
    "\n",
    "            #add to the dictionary\n",
    "\n",
    "            tuning_dict[i] = {\"train\": np.mean(train_scores), \"test\":np.mean(test_scores), \"params\":[max_depth_i]}\n",
    "\n",
    "\n",
    "        #fit the model, use your train data\n",
    "        #dt.fit(train_trans, Y_train)"
   ]
  },
  {
   "cell_type": "code",
   "execution_count": null,
   "metadata": {},
   "outputs": [],
   "source": [
    "dt = DecisionTreeClassifier(\n",
    "            max_depth = 10)\n",
    "#making vectorizer:\n",
    "vector = tfidf(stop_words = \"english\", strip_accents = 'ascii', max_features = None)\n",
    "\n",
    "max_depth_value = []\n",
    "test_scores = []\n",
    "train_scores = []\n",
    "\n",
    "#cross validation:\n",
    "kfold = KFold(n_splits = 3)\n",
    "for i in range(10):\n",
    "    for train_index, test_index in kfold.split(train):\n",
    "        #split into train and test:\n",
    "        X_train, X_test = train[\"text\"].iloc[train_index], train['text'].iloc[test_index]\n",
    "        Y_train, Y_test = train[\"label\"].iloc[train_index], train['label'].iloc[test_index]\n",
    "\n",
    "        #fit vectorizer on the train data:\n",
    "        X_train_trans = vector.fit_transform(X_train)\n",
    "\n",
    "        #DO NOT refit it onto the test data!\n",
    "        X_test_trans = vector.transform(X_test)\n",
    "\n",
    "        #fit on the decision tree\n",
    "        dt.fit(X_train_trans, Y_train)\n",
    "        test_score = dt.score(X_test_trans, Y_test)\n",
    "        train_score = dt.score(X_train_trans, Y_train)\n",
    "    test_scores.append(test_score)"
   ]
  },
  {
   "cell_type": "code",
   "execution_count": 57,
   "metadata": {},
   "outputs": [
    {
     "data": {
      "text/plain": [
       "(0.7478060046189376, 0.8233664280766566)"
      ]
     },
     "execution_count": 57,
     "metadata": {},
     "output_type": "execute_result"
    }
   ],
   "source": [
    "test_scores, train_scores"
   ]
  },
  {
   "cell_type": "code",
   "execution_count": 29,
   "metadata": {},
   "outputs": [],
   "source": [
    "dt = DecisionTreeClassifier(\n",
    "            max_depth = 100)\n",
    "\n",
    "#making vectorizer:\n",
    "vector = tfidf(stop_words = \"english\", strip_accents = 'ascii', max_features = None)\n",
    "\n",
    "\n",
    "#cross validation:\n",
    "kfold = KFold(n_splits = 3)\n",
    "for train_index, test_index in kfold.split(train):\n",
    "    #split into train and test:\n",
    "    X_train, X_test = train[\"text\"].iloc[train_index], train['text'].iloc[test_index]\n",
    "    Y_train, Y_test = train[\"label\"].iloc[train_index], train['label'].iloc[test_index]\n",
    "\n",
    "    #fit vectorizer on the train data:\n",
    "    X_train_trans = vector.fit_transform(X_train)\n",
    "\n",
    "    #DO NOT refit it onto the test data!\n",
    "    X_test_trans = vector.transform(X_test)\n",
    "\n",
    "    #fit on the decision tree\n",
    "    dt.fit(X_train_trans, Y_train)\n",
    "    test_scores = dt.score(X_test_trans, Y_test)\n",
    "    train_scores = dt.score(X_train_trans, Y_train)"
   ]
  },
  {
   "cell_type": "code",
   "execution_count": 30,
   "metadata": {},
   "outputs": [
    {
     "data": {
      "text/plain": [
       "(0.8143187066974595, 0.9868390671900253)"
      ]
     },
     "execution_count": 30,
     "metadata": {},
     "output_type": "execute_result"
    }
   ],
   "source": [
    "test_scores, train_scores"
   ]
  },
  {
   "cell_type": "markdown",
   "metadata": {},
   "source": [
    "#### Final tests:\n",
    "now that we know what hyperparameters work better, we can use that and train it on the entire TRAIN set (keeping the hyperparameters fixed, that was what CV was used for!). Then we can score the final trained model on the test data."
   ]
  },
  {
   "cell_type": "code",
   "execution_count": 46,
   "metadata": {},
   "outputs": [],
   "source": [
    "#final vector written here (no max number of features)\n",
    "vector = tfidf(stop_words = \"english\", strip_accents = 'ascii', max_features = None)\n",
    "\n",
    "#fit the tfidf on all the train data:\n",
    "train_final = vector.fit_transform(train[\"text\"])\n",
    "\n",
    "#the final transformation and fitting before using the test data:\n",
    "test_final = vector.transform(all_words_text)"
   ]
  },
  {
   "cell_type": "code",
   "execution_count": 47,
   "metadata": {},
   "outputs": [
    {
     "data": {
      "text/plain": [
       "0.8359037631091919"
      ]
     },
     "execution_count": 47,
     "metadata": {},
     "output_type": "execute_result"
    }
   ],
   "source": [
    "#fit model on FULL train data\n",
    "dt.fit(train_final, train[\"label\"])\n",
    "\n",
    "#score it on the test data\n",
    "final_score = dt.score(test_final, Y_test_orig)\n",
    "\n",
    "#the final score\n",
    "final_score"
   ]
  },
  {
   "cell_type": "markdown",
   "metadata": {},
   "source": [
    "Making the Confusion Matrix:"
   ]
  },
  {
   "cell_type": "code",
   "execution_count": 48,
   "metadata": {},
   "outputs": [],
   "source": [
    "#get predictions from the decision tree\n",
    "predictions = dt.predict(test_final)"
   ]
  },
  {
   "cell_type": "code",
   "execution_count": 49,
   "metadata": {},
   "outputs": [
    {
     "data": {
      "text/plain": [
       "array([0, 3, 0, ..., 2, 3, 3], dtype=int64)"
      ]
     },
     "execution_count": 49,
     "metadata": {},
     "output_type": "execute_result"
    }
   ],
   "source": [
    "predictions"
   ]
  },
  {
   "cell_type": "code",
   "execution_count": 72,
   "metadata": {},
   "outputs": [],
   "source": [
    "#creating a function to normalize the confusion marix:\n",
    "#used sklearn docs for the labels and axis!\n",
    "\n",
    "def normed_cm(real, predictions):\n",
    "    \"\"\"Majority of code from:\n",
    "    https://scikit-learn.org/stable/auto_examples/model_selection/plot_confusion_matrix.html\n",
    "    to make a confusion matrix, given real labels and predicted labels\"\"\"\n",
    "    \n",
    "    #get the confusion matrix:\n",
    "    cm = confusion_matrix(real, predictions)\n",
    "    \n",
    "    #normalized\n",
    "    normed = []\n",
    "    for row in np.arange(4):\n",
    "         normed.append(cm[row]/sum(cm[row]))\n",
    "    cm = np.array(normed)\n",
    "\n",
    "    #axis and labels:\n",
    "    fig, ax = plt.subplots()\n",
    "    classes = [\"politics\", \"money\", \"sports\", \"tech\"]\n",
    "    im = ax.imshow(cm, interpolation='nearest', cmap=plt.cm.Blues)\n",
    "    ax.set(xticks=np.arange(cm.shape[1]),\n",
    "               yticks=np.arange(cm.shape[0]),\n",
    "               # ... and label them with the respective list entries\n",
    "               xticklabels=classes, yticklabels=classes,\n",
    "               title=\"Comparing Class Classification\",\n",
    "               ylabel='True label',\n",
    "               xlabel='Predicted label');\n",
    "    \n",
    "    # Rotate the tick labels and set their alignment.\n",
    "    plt.setp(ax.get_xticklabels(), rotation=45, ha=\"right\",\n",
    "             rotation_mode=\"anchor\")\n",
    "    # Loop over data dimensions and create text annotations.\n",
    "    fmt = '.2f'\n",
    "    thresh = cm.max() / 2.\n",
    "    for i in range(cm.shape[0]):\n",
    "        for j in range(cm.shape[1]):\n",
    "            ax.text(j, i, format(cm[i, j], fmt),\n",
    "                    ha=\"center\", va=\"center\",\n",
    "                    color=\"white\" if cm[i, j] > thresh else \"black\")\n",
    "    fig.tight_layout()\n",
    "    return ax"
   ]
  },
  {
   "cell_type": "code",
   "execution_count": 73,
   "metadata": {},
   "outputs": [
    {
     "data": {
      "text/plain": [
       "<matplotlib.axes._subplots.AxesSubplot at 0x192349fc160>"
      ]
     },
     "execution_count": 73,
     "metadata": {},
     "output_type": "execute_result"
    },
    {
     "data": {
      "image/png": "[encoded data removed]",
      "text/plain": [
       "<Figure size 432x288 with 1 Axes>"
      ]
     },
     "metadata": {
      "needs_background": "light"
     },
     "output_type": "display_data"
    }
   ],
   "source": [
    "normed_cm(test[\"label\"],predictions)"
   ]
  },
  {
   "cell_type": "code",
   "execution_count": 50,
   "metadata": {},
   "outputs": [],
   "source": [
    "from sklearn.metrics import confusion_matrix "
   ]
  },
  {
   "cell_type": "code",
   "execution_count": 60,
   "metadata": {},
   "outputs": [
    {
     "data": {
      "text/plain": [
       "array([[344,  27,  14,  15],\n",
       "       [ 20, 285,  13,  12],\n",
       "       [ 10,  10, 419,  70],\n",
       "       [ 11,   6,  58, 307]], dtype=int64)"
      ]
     },
     "execution_count": 60,
     "metadata": {},
     "output_type": "execute_result"
    }
   ],
   "source": [
    "#get the confusion matrix:\n",
    "cm = confusion_matrix(test[\"label\"], predictions)\n",
    "cm"
   ]
  },
  {
   "cell_type": "code",
   "execution_count": 62,
   "metadata": {},
   "outputs": [
    {
     "data": {
      "text/plain": [
       "array([0.86  , 0.0675, 0.035 , 0.0375])"
      ]
     },
     "execution_count": 62,
     "metadata": {},
     "output_type": "execute_result"
    }
   ],
   "source": [
    "cm[0]/sum(cm[0])"
   ]
  },
  {
   "cell_type": "code",
   "execution_count": 63,
   "metadata": {},
   "outputs": [],
   "source": [
    "normed = []\n",
    "for row in np.arange(4):\n",
    "     normed.append(cm[row]/sum(cm[row]))"
   ]
  },
  {
   "cell_type": "code",
   "execution_count": 66,
   "metadata": {},
   "outputs": [],
   "source": [
    "cm = np.array(normed)"
   ]
  },
  {
   "cell_type": "markdown",
   "metadata": {},
   "source": [
    "plotting the confusion matrix: https://scikit-learn.org/stable/auto_examples/model_selection/plot_confusion_matrix.html"
   ]
  },
  {
   "cell_type": "code",
   "execution_count": 67,
   "metadata": {},
   "outputs": [
    {
     "data": {
      "image/png": "[encoded data removed]",
      "text/plain": [
       "<Figure size 432x288 with 1 Axes>"
      ]
     },
     "metadata": {
      "needs_background": "light"
     },
     "output_type": "display_data"
    }
   ],
   "source": [
    "fig, ax = plt.subplots()\n",
    "classes = [\"politics\", \"money\", \"sports\", \"tech\"]\n",
    "im = ax.imshow(cm, interpolation='nearest', cmap=plt.cm.Blues)\n",
    "ax.set(xticks=np.arange(cm.shape[1]),\n",
    "           yticks=np.arange(cm.shape[0]),\n",
    "           # ... and label them with the respective list entries\n",
    "           xticklabels=classes, yticklabels=classes,\n",
    "           title=\"Comparing Class Classification\",\n",
    "           ylabel='True label',\n",
    "           xlabel='Predicted label');"
   ]
  }
 ],
 "metadata": {
  "kernelspec": {
   "display_name": "Python 3",
   "language": "python",
   "name": "python3"
  },
  "language_info": {
   "codemirror_mode": {
    "name": "ipython",
    "version": 3
   },
   "file_extension": ".py",
   "mimetype": "text/x-python",
   "name": "python",
   "nbconvert_exporter": "python",
   "pygments_lexer": "ipython3",
   "version": "3.7.3"
  }
 },
 "nbformat": 4,
 "nbformat_minor": 2
}
