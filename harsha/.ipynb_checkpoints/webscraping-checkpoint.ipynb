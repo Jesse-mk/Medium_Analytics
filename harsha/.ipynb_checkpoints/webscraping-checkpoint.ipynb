{
 "cells": [
  {
   "cell_type": "markdown",
   "metadata": {},
   "source": [
    "<h1> Important div classes to get data from (medium.com articles) </h1>\n",
    "\n",
    "div class='o n' is where data for user name, article upload date, and read time is located\n",
    "\n",
    "div class='n p' contains the whole article with title, name info, article itself, etc (use for paragraphs)"
   ]
  },
  {
   "cell_type": "code",
   "execution_count": 8,
   "metadata": {},
   "outputs": [],
   "source": [
    "# BeautifulSoup and requests library import\n",
    "from bs4 import BeautifulSoup\n",
    "import requests "
   ]
  },
  {
   "cell_type": "code",
   "execution_count": 9,
   "metadata": {},
   "outputs": [],
   "source": [
    "#page url\n",
    "page_link = \"https://medium.com/@margolestz/stendhal-syndrome-having-an-art-attack-in-florence-italy-5aedab5f1c89\""
   ]
  },
  {
   "cell_type": "code",
   "execution_count": 10,
   "metadata": {},
   "outputs": [],
   "source": [
    "#parsing content from page and storing it\n",
    "page_content = BeautifulSoup(page_response.content, \"html.parser\")"
   ]
  },
  {
   "cell_type": "code",
   "execution_count": 11,
   "metadata": {},
   "outputs": [],
   "source": [
    "#empty list to store data in\n",
    "textContent = []"
   ]
  },
  {
   "cell_type": "code",
   "execution_count": 12,
   "metadata": {},
   "outputs": [],
   "source": [
    "#adding up to 20 <p> paragraph elements to the textContent list\n",
    "for i in range(0, 17):\n",
    "    paragraphs = page_content.find_all(\"p\")[i].text\n",
    "    textContent.append(paragraphs)"
   ]
  },
  {
   "cell_type": "code",
   "execution_count": 13,
   "metadata": {},
   "outputs": [
    {
     "name": "stdout",
     "output_type": "stream",
     "text": [
      "It seems that taking in too much art in Florence, Italy can be bad for your health. Stendhal Syndrome, also known as the Florence Syndrome, is a psychosomatic condition which can affect sensitive souls when they overdose on art — and it usually happens in Florence.\n",
      "\n",
      "Since I’m going to Florence soon, I’ll have to be very careful…\n",
      "\n",
      "The syndrome takes its name from French author, Marie-Henri Beyle, better known as Stendhal. Stendhal visited Florence in the early 1800s and wrote about it in his book, Rome, Naples et Florence (1817). He was deeply moved by the art and history with which this Italian city overflowed.\n",
      "\n",
      "He had read and studied about all the great men who had lived here before, but he wasn’t prepared for the feelings that would surge through him in the church of Santa Croce. As he stepped through the door into the cool dimness of the interior, his eyes adjusted, and he saw Michelangelo’s tomb to his right. He must have caught his breath as he reached out and lightly touched the stone covering the resting place of this great genius who had sculpted David and painted the Sistine Chapel.\n",
      "\n",
      "A bit farther along he saw the beautiful tomb carved by Canova for Alfieri, the playwright and poet… Next, he came to the burial place of political philosopher Machiavelli… Then there was Galileo. Stendhal stood in front his tomb pondering the great astronomer and physicist.\n",
      "\n",
      "Then he sat and studied the frescoed ceiling — les Sibylles du Volterrano. He was almost transported by its beauty. He wrote that it was the most moved he had ever been by any painting.\n",
      "\n",
      "What men had lived in Florence! And in addition to these men whose tombs he had just visited, Tuscany had been home to Dante, Boccacio and Petrarque. They had all walked the streets of Florence and now he was there too, treading in their footsteps. He felt so near to them. He was in awe and almost in a trance.\n",
      "\n",
      "When he walked out of the church, his heart began to pound violently. He felt dizzy. He felt like his life had dried up within him. He walked unsteadily and felt like he would fall at any moment.\n",
      "\n",
      "He was so overcome by what he had just seen and experienced that he had to sit. He stumbled over to one of the benches in the piazza outside the church and sat until he could walk again.\n",
      "\n",
      "More than a century and a half later, Psychiatrist Graziella Magherini began to study those same symptoms. She noticed that about once a month or more, she would see tourists brought into the psychiatric ward at the Santa Maria Nuova Hospital in Florence where she worked. Their complaints were similar to those described by Stendhal: heart palpitations, dizziness, and a feeling of disorientation. And in severe cases, even a loss of identity, depression and paranoia.\n",
      "\n",
      "And, just like Stendhal, the patients often reported that these symptoms began when they were contemplating beautiful works of art: Michelangelo’s David, Caravaggio’s Bacchus, or Botticelli’s Venus were often mentioned. Dr. Magherini began documenting these cases and called the condition Stendhal Syndrome after the French author who was one of the earliest to record its symptoms.\n",
      "\n",
      "Stendhal Syndrome is also called the Florence Syndrome. Florence is compact and filled to the brim with art. It was the birthplace of the Renaissance and many of the great artists and thinkers of the time were concentrated there. Reminders of them still exist all over the city.\n",
      "\n",
      "Although “art attacks” seem to be a regular occurrence in Florence, they can happen anywhere people are overcome by art or very moving experiences. There is also a Paris Syndrome and a Jerusalem Syndrome with similar effects.\n",
      "\n",
      "According to Dr. Magherini’s study, Italians seem to be immune to Stendhal Syndrome — presumably because they grow up around so much art. More than half of those affected are from Northern Europe and they are often single women around 40 traveling alone.\n",
      "\n",
      "I don’t fit that profile, and I’ve been to Florence many times, so I think I’m pretty safe. However, I do remember an experience I had years ago on my first visit there when I was taking art and art history courses.\n",
      "\n",
      "In preparation, I had studied some of the art and architecture of Florence, and I was especially fascinated by the cathedral (il Duomo) and the way it was built. I had seen lots of photos of it in books, but when I walked into the piazza and actually stood in front of it for the first time, I really did have a hard time breathing and felt a bit faint. I was overcome by the beauty and the building was so much more magnificent than any photo could show.\n",
      "\n",
      "Was that a slight case of Stendhal Syndrome? I don’t know, but luckily, I recovered right away. I was in Florence for a month taking classes, and I walked by that amazing cathedral every day. By the end of my stay I was completely immune to it — just like the Italians. I could look at it with no heart palpitations at all. But I haven’t been there for several years, so maybe I had better sneak up on it at first.\n",
      "\n",
      "This article first appeared on CuriousRambler.com\n",
      "\n",
      "Read more articles like this on CuriousRambler.com\n",
      "\n",
      "Written by\n",
      "\n"
     ]
    }
   ],
   "source": [
    "#display gathered data in a more user-friendly format\n",
    "for i in textContent:\n",
    "    print(i + \"\\n\")"
   ]
  },
  {
   "cell_type": "code",
   "execution_count": null,
   "metadata": {},
   "outputs": [],
   "source": []
  }
 ],
 "metadata": {
  "kernelspec": {
   "display_name": "Python 3",
   "language": "python",
   "name": "python3"
  },
  "language_info": {
   "codemirror_mode": {
    "name": "ipython",
    "version": 3
   },
   "file_extension": ".py",
   "mimetype": "text/x-python",
   "name": "python",
   "nbconvert_exporter": "python",
   "pygments_lexer": "ipython3",
   "version": "3.7.4"
  }
 },
 "nbformat": 4,
 "nbformat_minor": 2
}
