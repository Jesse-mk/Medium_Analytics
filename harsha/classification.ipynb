{
 "cells": [
  {
   "cell_type": "markdown",
   "metadata": {},
   "source": [
    "<h1>Classification and Data Modeling</h1>"
   ]
  },
  {
   "cell_type": "code",
   "execution_count": 70,
   "metadata": {},
   "outputs": [],
   "source": [
    "#importing libraries\n",
    "import pandas as pd\n",
    "import numpy as np\n",
    "import matplotlib.pyplot as plt\n",
    "import seaborn as sn\n",
    "from sklearn.feature_extraction.text import TfidfVectorizer as tfidf\n",
    "\n",
    "#importing classifiers\n",
    "from sklearn.model_selection import train_test_split\n",
    "from sklearn.neighbors import KNeighborsClassifier\n",
    "from sklearn.tree import DecisionTreeClassifier"
   ]
  },
  {
   "cell_type": "code",
   "execution_count": 71,
   "metadata": {},
   "outputs": [],
   "source": [
    "#saving scraped data to pandas dataframes\n",
    "politics = pd.read_csv(\"../data/Politics_data_full.csv\", index_col = 0)\n",
    "\n",
    "money = pd.read_csv(\"../data/Medium_Money_Data_Final.csv\", index_col = 0)\n",
    "\n",
    "art = pd.read_csv(\"../data/Medium_Articles_Art_Data.csv\", index_col = 0)"
   ]
  },
  {
   "cell_type": "markdown",
   "metadata": {},
   "source": [
    "<h2>NLP</h2>"
   ]
  },
  {
   "cell_type": "code",
   "execution_count": 72,
   "metadata": {},
   "outputs": [
    {
     "data": {
      "text/plain": [
       "(0       ['[Photo courtesy of Pixabay, There is a diffe...\n",
       " 1       ['[image courtesy of Pixabay, Last night I was...\n",
       " 2       ['[I can’t write about politics today. It’s to...\n",
       " 3       ['[Lethal autonomous weapon systems (LAWS) are...\n",
       " 4       ['[Photo courtesy of Pixabay, There is a diffe...\n",
       "                               ...                        \n",
       " 3190    ['[There’s trouble in centrist paradise as Qui...\n",
       " 3193                                                   []\n",
       " 3194    ['[On January 20th, 2017, Donald J. Trump was ...\n",
       " 3195    ['[Hochman Salkin, IRS Commissioner Charles Re...\n",
       " 3196    ['[Since the Mueller investigation was launche...\n",
       " Name: text, Length: 3000, dtype: object,\n",
       " 0       ['[Potential ways to Save using a Free Library...\n",
       " 1       ['[By Tara Lachapelle, Netflix Inc. broke the ...\n",
       " 2       ['[By Noah Smith, The great irony of the ironi...\n",
       " 3       ['[By Faye Flam, It’s become a kind of sport t...\n",
       " 4       ['[The Apple Card, a collaborative product bet...\n",
       "                               ...                        \n",
       " 1495    ['[Just to set the tone for this article, visu...\n",
       " 1496    ['[5 Reasons Why Home Buyers Aren’t Interested...\n",
       " 1497    ['[As the market digests last Friday’s nonfarm...\n",
       " 1498    ['[If you’re having a hard time controlling sp...\n",
       " 1499    ['[I’ve never been a great planner, but growin...\n",
       " Name: text, Length: 1500, dtype: object,\n",
       " 0      ['[I first saw the photograph, “Shooting the A...\n",
       " 1      ['[The chorus of Shape of You by Ed Sheeran ma...\n",
       " 2      ['[Wolff Gallery, Portland Oregon | Sept 6 — O...\n",
       " 3                                                    NaN\n",
       " 4                                                    NaN\n",
       "                              ...                        \n",
       " 995    ['[The year was 1574. Master potter Kato Kagem...\n",
       " 996    ['[The possibilities are endless, When I trave...\n",
       " 997                                                   []\n",
       " 998                                                   []\n",
       " 999                                                   []\n",
       " Name: text, Length: 1000, dtype: object)"
      ]
     },
     "execution_count": 72,
     "metadata": {},
     "output_type": "execute_result"
    }
   ],
   "source": [
    "#there was a bug with the webscraping: people with 2020 claps have the wrong number of claps. \n",
    "#checked via website, having differing number of claps\n",
    "politics = politics[politics.claps != 2020]\n",
    "\n",
    "#we need to do a bit of preprocessing first! \n",
    "\n",
    "#politics data\n",
    "str1 = politics.text.iloc[:3000]\n",
    "str1.dropna()\n",
    "\n",
    "#money data \n",
    "str2 = money.text.iloc[:1500] \n",
    "str2.dropna()\n",
    "\n",
    "#art data\n",
    "str3 = art.text.iloc[:1000]\n",
    "str3.dropna()\n",
    "\n",
    "str1, str2, str3"
   ]
  },
  {
   "cell_type": "code",
   "execution_count": 73,
   "metadata": {},
   "outputs": [],
   "source": [
    "#puts all strings together\n",
    "all_str = pd.concat([str1,str2,str3]).reset_index(drop=True)\n",
    "all_str.replace('[]', np.nan, inplace=True)\n",
    "all_str = all_str.dropna()"
   ]
  },
  {
   "cell_type": "code",
   "execution_count": 74,
   "metadata": {},
   "outputs": [
    {
     "name": "stdout",
     "output_type": "stream",
     "text": [
      "['000', 'american', 'art', 'change', 'country', 'day', 'did', 'does', 'dont', 'financial', 'going', 'good', 'government', 'im', 'just', 'know', 'life', 'like', 'long', 'make', 'market', 'money', 'need', 'new', 'pay', 'people', 'political', 'power', 'president', 'public', 'right', 'said', 'say', 'social', 'state', 'states', 'thats', 'things', 'think', 'time', 'trump', 'use', 'want', 'way', 'white', 'work', 'world', 'year', 'years', 'youre']\n"
     ]
    }
   ],
   "source": [
    "#create the vector\n",
    "#focus on max_features as well\n",
    "vector = tfidf(stop_words = \"english\", strip_accents = 'ascii', max_features = 50)\n",
    "\n",
    "#fit the data\n",
    "vector.fit(all_str)\n",
    "\n",
    "#can look at the vectorizer\n",
    "print(vector.get_feature_names())"
   ]
  },
  {
   "cell_type": "code",
   "execution_count": 75,
   "metadata": {},
   "outputs": [],
   "source": [
    "#transforming the data, aka manipulating it based on the weights we \n",
    "#determined before by fitting our data \n",
    "train = vector.transform(all_str)"
   ]
  },
  {
   "cell_type": "code",
   "execution_count": 76,
   "metadata": {},
   "outputs": [],
   "source": [
    "#making and cleaning test data\n",
    "test1 = politics.text.iloc[3000:]\n",
    "test1.dropna()\n",
    "\n",
    "test2 = money.text.iloc[1500:]\n",
    "test2.dropna()\n",
    "\n",
    "test3 = art.text.iloc[1000:]\n",
    "test3.dropna()\n",
    "\n",
    "test_set = pd.concat([test1, test2, test3]).reset_index(drop=True)\n",
    "test_set.replace('[]', np.nan, inplace=True)\n",
    "test_set = test_set.dropna()"
   ]
  },
  {
   "cell_type": "code",
   "execution_count": 77,
   "metadata": {},
   "outputs": [],
   "source": [
    "#still need to preprocess (in string form)\n",
    "test_trans = vector.transform(test_set)"
   ]
  },
  {
   "cell_type": "code",
   "execution_count": 78,
   "metadata": {},
   "outputs": [],
   "source": [
    "train_Y = [0] * all_str.size\n",
    "test_Y = [0] * test_set.size"
   ]
  },
  {
   "cell_type": "code",
   "execution_count": 79,
   "metadata": {},
   "outputs": [
    {
     "data": {
      "text/plain": [
       "KNeighborsClassifier(algorithm='auto', leaf_size=30, metric='minkowski',\n",
       "                     metric_params=None, n_jobs=None, n_neighbors=5, p=2,\n",
       "                     weights='uniform')"
      ]
     },
     "execution_count": 79,
     "metadata": {},
     "output_type": "execute_result"
    }
   ],
   "source": [
    "#create the model (look at the documentation to see if there's any \n",
    "# parameters) you should pay closer attention to.\n",
    "\n",
    "#decision tree\n",
    "dt = DecisionTreeClassifier()\n",
    "dt.fit(train, train_Y)\n",
    "\n",
    "#knn\n",
    "knn = KNeighborsClassifier()\n",
    "knn.fit(train, train_Y)"
   ]
  },
  {
   "cell_type": "code",
   "execution_count": 80,
   "metadata": {},
   "outputs": [
    {
     "data": {
      "text/plain": [
       "(1.0, 1.0)"
      ]
     },
     "execution_count": 80,
     "metadata": {},
     "output_type": "execute_result"
    }
   ],
   "source": [
    "dt.score(test_trans, test_Y), knn.score(test_trans, test_Y)"
   ]
  }
 ],
 "metadata": {
  "kernelspec": {
   "display_name": "Python 3",
   "language": "python",
   "name": "python3"
  },
  "language_info": {
   "codemirror_mode": {
    "name": "ipython",
    "version": 3
   },
   "file_extension": ".py",
   "mimetype": "text/x-python",
   "name": "python",
   "nbconvert_exporter": "python",
   "pygments_lexer": "ipython3",
   "version": "3.7.5"
  }
 },
 "nbformat": 4,
 "nbformat_minor": 2
}
