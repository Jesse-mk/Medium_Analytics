{
 "cells": [
  {
   "cell_type": "markdown",
   "metadata": {},
   "source": [
    "<h1>Classification and Data Modeling</h1>"
   ]
  },
  {
   "cell_type": "code",
   "execution_count": 87,
   "metadata": {},
   "outputs": [],
   "source": [
    "#importing libraries\n",
    "import pandas as pd\n",
    "import numpy as np\n",
    "import matplotlib.pyplot as plt\n",
    "import seaborn as sn\n",
    "from sklearn.feature_extraction.text import TfidfVectorizer as tfidf\n",
    "\n",
    "#importing classifiers\n",
    "from sklearn.model_selection import train_test_split\n",
    "from sklearn.neighbors import KNeighborsClassifier\n",
    "from sklearn.tree import DecisionTreeClassifier"
   ]
  },
  {
   "cell_type": "code",
   "execution_count": 88,
   "metadata": {},
   "outputs": [
    {
     "data": {
      "text/plain": [
       "(0       ['[Photo courtesy of Pixabay, There is a diffe...\n",
       " 1       ['[image courtesy of Pixabay, Last night I was...\n",
       " 2       ['[I can’t write about politics today. It’s to...\n",
       " 3       ['[Lethal autonomous weapon systems (LAWS) are...\n",
       " 4       ['[Photo courtesy of Pixabay, There is a diffe...\n",
       "                               ...                        \n",
       " 3143    ['[Candace Owens, an African-American commenta...\n",
       " 3144    ['[Byrne Hobart makes some interesting points ...\n",
       " 3145    ['[If karma were to exist, it’s hard to imagin...\n",
       " 3146    ['[I’ve written before about potentially fatal...\n",
       " 3147    ['[Migration scored with film audiences in 201...\n",
       " Name: text, Length: 3148, dtype: object,\n",
       " 0       ['[Potential ways to Save using a Free Library...\n",
       " 1       ['[By Tara Lachapelle, Netflix Inc. broke the ...\n",
       " 2       ['[By Noah Smith, The great irony of the ironi...\n",
       " 3       ['[By Faye Flam, It’s become a kind of sport t...\n",
       " 4       ['[No matter what lifestyle you plan in retire...\n",
       "                               ...                        \n",
       " 1581    ['[On Sunday, The New York Times published an ...\n",
       " 1582    ['[You probably have them too in your purse or...\n",
       " 1583    ['[Why you need to know this: A Roth IRA is th...\n",
       " 1584    ['[by Rachel Laban, “Only four more days until...\n",
       " 1585    ['[By Chadwick MatlinIllustration by Paul Wind...\n",
       " Name: text, Length: 1586, dtype: object,\n",
       " 0      ['[I first saw the photograph, “Shooting the A...\n",
       " 1      ['[The chorus of Shape of You by Ed Sheeran ma...\n",
       " 2      ['[Wolff Gallery, Portland Oregon | Sept 6 — O...\n",
       " 3      ['[The place to begin this story is about 570 ...\n",
       " 4      ['[Why do some people think they shouldn’t hav...\n",
       "                              ...                        \n",
       " 979    ['[By Tom Rassieur, John E. Andrus III Curator...\n",
       " 980    ['[Psychedelic art gets a bad rap because of i...\n",
       " 981    ['[“You could have the world in the palm of yo...\n",
       " 982    ['[Editor Foreword: This guide goes hand in ha...\n",
       " 983    ['[Have you ever heard of Tatsuya Tanaka and h...\n",
       " Name: text, Length: 984, dtype: object)"
      ]
     },
     "execution_count": 88,
     "metadata": {},
     "output_type": "execute_result"
    }
   ],
   "source": [
    "#saving scraped data to pandas dataframes\n",
    "politics = pd.read_csv(\"../data/Politics_data_full.csv\", index_col = 0)\n",
    "politics.text.replace('[]', np.nan, inplace=True)\n",
    "politics = politics = politics.dropna().reset_index(drop=True)\n",
    "\n",
    "money = pd.read_csv(\"../data/Medium_Money_Data_Final.csv\", index_col = 0)\n",
    "money.text.replace(\"[]\", np.nan, inplace=True)\n",
    "money = money.dropna().reset_index(drop=True)\n",
    "\n",
    "art = pd.read_csv(\"../data/Medium_Articles_Art_Data.csv\", index_col = 0)\n",
    "art.text.replace(\"[]\", np.nan, inplace=True)\n",
    "art = art.dropna().reset_index(drop=True)\n",
    "\n",
    "politics.text, money.text, art.text"
   ]
  },
  {
   "cell_type": "markdown",
   "metadata": {},
   "source": [
    "<h2>NLP</h2>"
   ]
  },
  {
   "cell_type": "code",
   "execution_count": 98,
   "metadata": {},
   "outputs": [
    {
     "data": {
      "text/plain": [
       "(1044    ['[Donald Trump and Republican crony Tom Cotto...\n",
       " 2511    ['[North Korea more-or-less steals one of Trum...\n",
       " 2116    [\"[Recently, I announced the kickoff of the so...\n",
       " 715     ['[Speaker of the House Nancy Pelosi announced...\n",
       " 549     ['[In less than a day after White House gave i...\n",
       "                               ...                        \n",
       " 703     [\"[While there has been much debate over why t...\n",
       " 626     ['[By Eric Levitz, Earlier this year, Elizabet...\n",
       " 2716    ['[President Trump refuses to acknowledge that...\n",
       " 147     ['[Based on the research of Tricia Moravec, Te...\n",
       " 762     ['[And it’s all because of the two-party syste...\n",
       " Name: text, Length: 900, dtype: object,\n",
       " 852     ['[After publishing my last article about Carb...\n",
       " 354     ['[You’re no doubt aware that the more financi...\n",
       " 582     ['[Recently, personal finance expert and TV pe...\n",
       " 445     ['[WeWork’s business model is simple. It lease...\n",
       " 88      ['[The online landscape (especially places lik...\n",
       "                               ...                        \n",
       " 800     ['[If there’s any golden rule of budgeting, it...\n",
       " 1063    ['[Credit cards are like a power saw. Use them...\n",
       " 60      ['[In my first position as a Junior Developer,...\n",
       " 594     ['[Marijuana stocks’ sky-high valuations have ...\n",
       " 202     ['[Many people are very diligent at their work...\n",
       " Name: text, Length: 900, dtype: object,\n",
       " 310    ['[By Maddie Armitage, Digital Project Manager...\n",
       " 552    ['[“No daughter of mine is going to get naked ...\n",
       " 652    ['[Instagram, originally was just an app that ...\n",
       " 308    ['[The story goes like this: Helen was the wif...\n",
       " 356    ['[Have you noticed that sometimes an unfinish...\n",
       "                              ...                        \n",
       " 830    ['[For the past year, it seems like jukebox mu...\n",
       " 832    ['[by Freya Marshall Payne, As a devoted Willi...\n",
       " 317    ['[In May, Claude Monet’s “Meules” sold for $1...\n",
       " 251    ['[Édouard Manet completed A Bar at the Folies...\n",
       " 518    ['[In an interview with Asymptote Journal, art...\n",
       " Name: text, Length: 900, dtype: object)"
      ]
     },
     "execution_count": 98,
     "metadata": {},
     "output_type": "execute_result"
    }
   ],
   "source": [
    "#politics data\n",
    "str1 = politics.text.sample(n=900)\n",
    "\n",
    "#money data \n",
    "str2 = money.text.sample(n=900)\n",
    "\n",
    "#art data\n",
    "str3 = art.text.sample(n=900)\n",
    "\n",
    "str1, str2, str3"
   ]
  },
  {
   "cell_type": "code",
   "execution_count": 99,
   "metadata": {},
   "outputs": [],
   "source": [
    "#puts all strings together\n",
    "all_str = pd.concat([str1,str2,str3]).reset_index(drop=True)"
   ]
  },
  {
   "cell_type": "code",
   "execution_count": 101,
   "metadata": {},
   "outputs": [
    {
     "name": "stdout",
     "output_type": "stream",
     "text": [
      "['000', 'american', 'art', 'artist', 'artists', 'better', 'day', 'debt', 'did', 'different', 'does', 'dont', 'financial', 'going', 'good', 'im', 'income', 'just', 'know', 'life', 'like', 'long', 'look', 'make', 'making', 'market', 'money', 'need', 'new', 'painting', 'pay', 'people', 'political', 'president', 'really', 'right', 'say', 'thats', 'things', 'think', 'time', 'trump', 'use', 'want', 'way', 'work', 'world', 'year', 'years', 'youre']\n"
     ]
    }
   ],
   "source": [
    "#create the vector\n",
    "#focus on max_features as well\n",
    "vector = tfidf(stop_words = \"english\", strip_accents = 'ascii', max_features = 50)\n",
    "\n",
    "#fit the data\n",
    "vector.fit(all_str)\n",
    "\n",
    "#can look at the vectorizer\n",
    "print(vector.get_feature_names())"
   ]
  },
  {
   "cell_type": "code",
   "execution_count": 102,
   "metadata": {},
   "outputs": [],
   "source": [
    "#transforming the data, aka manipulating it based on the weights we \n",
    "#determined before by fitting our data \n",
    "train = vector.transform(all_str)"
   ]
  },
  {
   "cell_type": "code",
   "execution_count": 103,
   "metadata": {},
   "outputs": [],
   "source": [
    "#making and cleaning test data\n",
    "test1 = politics.text\n",
    "\n",
    "test2 = money.text\n",
    "\n",
    "test3 = art.text\n",
    "\n",
    "test_set = pd.concat([test1, test2, test3]).reset_index(drop=True)"
   ]
  },
  {
   "cell_type": "code",
   "execution_count": 104,
   "metadata": {},
   "outputs": [],
   "source": [
    "#still need to preprocess (in string form)\n",
    "test_trans = vector.transform(test_set)"
   ]
  },
  {
   "cell_type": "code",
   "execution_count": 105,
   "metadata": {},
   "outputs": [],
   "source": [
    "train_Y = [0] * 900 + [1] * 900 + [2] * 900\n",
    "test_Y = [0] * test1.size + [1] * test2.size + [2] * test3.size"
   ]
  },
  {
   "cell_type": "code",
   "execution_count": 109,
   "metadata": {},
   "outputs": [
    {
     "data": {
      "text/plain": [
       "KNeighborsClassifier(algorithm='auto', leaf_size=30, metric='minkowski',\n",
       "                     metric_params=None, n_jobs=None, n_neighbors=2, p=2,\n",
       "                     weights='uniform')"
      ]
     },
     "execution_count": 109,
     "metadata": {},
     "output_type": "execute_result"
    }
   ],
   "source": [
    "#create the model (look at the documentation to see if there's any \n",
    "# parameters) you should pay closer attention to.\n",
    "\n",
    "#decision tree\n",
    "dt = DecisionTreeClassifier(max_depth = 19)\n",
    "dt.fit(train, train_Y)\n",
    "\n",
    "#knn\n",
    "knn = KNeighborsClassifier(n_neighbors = 2)\n",
    "knn.fit(train, train_Y)"
   ]
  },
  {
   "cell_type": "code",
   "execution_count": 110,
   "metadata": {},
   "outputs": [
    {
     "data": {
      "text/plain": [
       "(0.9275970619097587, 0.9179783140958377)"
      ]
     },
     "execution_count": 110,
     "metadata": {},
     "output_type": "execute_result"
    }
   ],
   "source": [
    "dt.score(test_trans, test_Y), knn.score(test_trans, test_Y)"
   ]
  },
  {
   "cell_type": "code",
   "execution_count": 108,
   "metadata": {},
   "outputs": [
    {
     "data": {
      "text/plain": [
       "(19, 2)"
      ]
     },
     "execution_count": 108,
     "metadata": {},
     "output_type": "execute_result"
    }
   ],
   "source": [
    "dt_scores = []\n",
    "knn_scores = []\n",
    "for i in range(25):\n",
    "    dt = DecisionTreeClassifier(max_depth = i+1)\n",
    "    dt.fit(train, train_Y)\n",
    "    dt_scores.append(dt.score(test_trans, test_Y))\n",
    "    \n",
    "    knn = KNeighborsClassifier(n_neighbors = i+1)\n",
    "    knn.fit(train, train_Y)\n",
    "    knn_scores.append(knn.score(test_trans, test_Y))\n",
    "    \n",
    "dt_scores.index(max(dt_scores))+1, knn_scores.index(max(knn_scores))+1"
   ]
  },
  {
   "cell_type": "code",
   "execution_count": null,
   "metadata": {},
   "outputs": [],
   "source": []
  }
 ],
 "metadata": {
  "kernelspec": {
   "display_name": "Python 3",
   "language": "python",
   "name": "python3"
  },
  "language_info": {
   "codemirror_mode": {
    "name": "ipython",
    "version": 3
   },
   "file_extension": ".py",
   "mimetype": "text/x-python",
   "name": "python",
   "nbconvert_exporter": "python",
   "pygments_lexer": "ipython3",
   "version": "3.7.5"
  }
 },
 "nbformat": 4,
 "nbformat_minor": 2
}
