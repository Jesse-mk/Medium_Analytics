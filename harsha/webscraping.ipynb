{
 "cells": [
  {
   "cell_type": "markdown",
   "metadata": {},
   "source": [
    "<h1>Imports and Initial Variable Declarations</h1>"
   ]
  },
  {
   "cell_type": "code",
   "execution_count": 161,
   "metadata": {},
   "outputs": [],
   "source": [
    "# BeautifulSoup and requests library import\n",
    "from bs4 import BeautifulSoup\n",
    "import requests \n",
    "import re"
   ]
  },
  {
   "cell_type": "code",
   "execution_count": 162,
   "metadata": {},
   "outputs": [],
   "source": [
    "#page url\n",
    "page_link = \"https://medium.com/@veronicawalsing/how-to-love-something-for-13-years-35cdee86a383\""
   ]
  },
  {
   "cell_type": "code",
   "execution_count": 163,
   "metadata": {},
   "outputs": [],
   "source": [
    "#page request\n",
    "page_response = requests.get(page_link, timeout=5)"
   ]
  },
  {
   "cell_type": "code",
   "execution_count": 164,
   "metadata": {},
   "outputs": [],
   "source": [
    "#parsing content from page and storing it\n",
    "page_content = BeautifulSoup(page_response.content, \"html.parser\")"
   ]
  },
  {
   "cell_type": "code",
   "execution_count": 165,
   "metadata": {},
   "outputs": [],
   "source": [
    "#empty list to store user data\n",
    "data = []"
   ]
  },
  {
   "cell_type": "markdown",
   "metadata": {},
   "source": [
    "<h1>Finding and Adding Title to Data</h1>"
   ]
  },
  {
   "cell_type": "code",
   "execution_count": 166,
   "metadata": {},
   "outputs": [],
   "source": [
    "#grabs div that stores title info\n",
    "titleInfo = page_content.find_all('div', attrs={\"class\":\"n p\"})"
   ]
  },
  {
   "cell_type": "code",
   "execution_count": 167,
   "metadata": {},
   "outputs": [],
   "source": [
    "#finds title within titleInfo div\n",
    "href = str(titleInfo).index(\"<h1\")\n",
    "start = str(titleInfo)[href:].index(\">\")+href+1\n",
    "end = str(titleInfo)[href:].index(\"</h1>\")+href\n",
    "\n",
    "#appends title to data list after removing extra tags\n",
    "title = re.sub(re.compile('<.*?>'), '', str(titleInfo)[start:end])\n",
    "data.append(title)"
   ]
  },
  {
   "cell_type": "markdown",
   "metadata": {},
   "source": [
    "<h1>Finding and Adding Author to Data</h1>"
   ]
  },
  {
   "cell_type": "code",
   "execution_count": 168,
   "metadata": {},
   "outputs": [],
   "source": [
    "#grabs div that stores user info\n",
    "userInfo = page_content.find_all('div',attrs={\"class\":\"o n\"})"
   ]
  },
  {
   "cell_type": "code",
   "execution_count": 169,
   "metadata": {},
   "outputs": [],
   "source": [
    "#finds authors name within userInfo div\n",
    "href = str(userInfo)[24:].index(\"<a class=\")+24\n",
    "start = str(userInfo)[href:].index(\">\")+href+1\n",
    "end = str(userInfo)[href:].index(\"</a>\")+href\n",
    "\n",
    "#appends authors name to data list\n",
    "author = str(userInfo)[start:end]\n",
    "data.append(author)"
   ]
  },
  {
   "cell_type": "markdown",
   "metadata": {},
   "source": [
    "<h1>Finding and Adding Author Page URL to Data</h1>"
   ]
  },
  {
   "cell_type": "code",
   "execution_count": 170,
   "metadata": {},
   "outputs": [],
   "source": [
    "#finds date within userInfo div\n",
    "href = str(userInfo)[24:].index(\"<a class=\")\n",
    "start = str(userInfo)[href:].index(\"href=\")+href+6\n",
    "end = str(userInfo)[start:].index(\"?source\")+start\n",
    "\n",
    "#appends date to data list\n",
    "url = \"medium.com\" + str(userInfo)[start:end]\n",
    "data.append(url)"
   ]
  },
  {
   "cell_type": "markdown",
   "metadata": {},
   "source": [
    "<h1>Pulling User Profile Page</h1>"
   ]
  },
  {
   "cell_type": "code",
   "execution_count": 171,
   "metadata": {},
   "outputs": [],
   "source": [
    "#user url\n",
    "user_link = \"https://\" + data[2]"
   ]
  },
  {
   "cell_type": "code",
   "execution_count": 172,
   "metadata": {},
   "outputs": [],
   "source": [
    "#user page request\n",
    "user_response = requests.get(user_link, timeout=5)"
   ]
  },
  {
   "cell_type": "code",
   "execution_count": 173,
   "metadata": {
    "scrolled": true
   },
   "outputs": [],
   "source": [
    "#parsing content from user page to store follower count\n",
    "user_content = BeautifulSoup(user_response.content, \"html.parser\")"
   ]
  },
  {
   "cell_type": "code",
   "execution_count": 174,
   "metadata": {},
   "outputs": [],
   "source": [
    "#user tag\n",
    "user_href = re.sub(\"medium.com\", \"\", data[2])"
   ]
  },
  {
   "cell_type": "markdown",
   "metadata": {},
   "source": [
    "<h1>Finds and adds member since data to data list</h1>"
   ]
  },
  {
   "cell_type": "code",
   "execution_count": 175,
   "metadata": {},
   "outputs": [],
   "source": [
    "memberInfo = user_content.find_all(\"span\")\n",
    "year = re.findall(\"[0-9]{4}\", str(memberInfo))[0]\n",
    "data.append(year)"
   ]
  },
  {
   "cell_type": "markdown",
   "metadata": {},
   "source": [
    "<h1>Finds and adds following count to data list</h1>"
   ]
  },
  {
   "cell_type": "code",
   "execution_count": 176,
   "metadata": {},
   "outputs": [],
   "source": [
    "#returns following count and adds to data list\n",
    "followingInfo = user_content.find_all('a', attrs={\"href\":user_href+\"/following\"})\n",
    "following = re.sub(\"[^0-9]\", \"\", str(followingInfo))\n",
    "data.append(following)"
   ]
  },
  {
   "cell_type": "markdown",
   "metadata": {},
   "source": [
    "<h1>Finds and adds follower count to data list</h1>"
   ]
  },
  {
   "cell_type": "code",
   "execution_count": 177,
   "metadata": {
    "scrolled": false
   },
   "outputs": [],
   "source": [
    "#returns follower count and adds to data list\n",
    "followerInfo = user_content.find_all('a', attrs={\"href\":user_href+\"/followers\"})\n",
    "followers = re.sub(\"[^0-9]\", \"\", str(followerInfo))\n",
    "data.append(followers)"
   ]
  },
  {
   "cell_type": "markdown",
   "metadata": {},
   "source": [
    "<h1>Finding and Adding Date to Data</h1>"
   ]
  },
  {
   "cell_type": "code",
   "execution_count": 178,
   "metadata": {},
   "outputs": [],
   "source": [
    "#finds date within userInfo div\n",
    "href = str(userInfo)[end:].index(\"<a class=\")+end\n",
    "start = str(userInfo)[href:].index(\">\")+href+1\n",
    "end = str(userInfo)[href:].index(\"</a>\")+href\n",
    "\n",
    "#appends date to data list\n",
    "date = str(userInfo)[start:end]\n",
    "data.append(date)"
   ]
  },
  {
   "cell_type": "markdown",
   "metadata": {},
   "source": [
    "<h1>Finding and Adding Number of Claps to Data</h1>"
   ]
  },
  {
   "cell_type": "code",
   "execution_count": 179,
   "metadata": {},
   "outputs": [],
   "source": [
    "#grabs all paragraphs in the article\n",
    "clapInfo = page_content.find_all('div',attrs={\"class\":\"n o\"})"
   ]
  },
  {
   "cell_type": "code",
   "execution_count": 180,
   "metadata": {},
   "outputs": [],
   "source": [
    "#finds claps within clapInfo div\n",
    "result = re.sub(re.compile('<.*?>'), '', str(clapInfo))\n",
    "result = re.findall(\"\\d+\", result)\n",
    "\n",
    "#appends claps to data list\n",
    "if len(result) == 0:\n",
    "    data.append('0')\n",
    "\n",
    "else:\n",
    "    data.append(result[0])"
   ]
  },
  {
   "cell_type": "markdown",
   "metadata": {},
   "source": [
    "<h1>Adding a List of the Text Content to Data</h1>"
   ]
  },
  {
   "cell_type": "code",
   "execution_count": 181,
   "metadata": {
    "scrolled": false
   },
   "outputs": [],
   "source": [
    "#grabs all paragraphs in the article\n",
    "textContent = page_content.find_all(\"p\")\n",
    "textInfo = str(textContent)\n",
    "\n",
    "#RegEx that cleans paragraph data by removing html tags and extra commas\n",
    "result = re.sub(re.compile('<.*?>'), '', textInfo)\n",
    "result = re.split(\"\\., \", result)\n",
    "result = result[:-1]\n",
    "data.append(result)"
   ]
  },
  {
   "cell_type": "markdown",
   "metadata": {},
   "source": [
    "<h1>Finding and adding a list of tags to data</h1>"
   ]
  },
  {
   "cell_type": "code",
   "execution_count": 182,
   "metadata": {},
   "outputs": [
    {
     "data": {
      "text/plain": [
       "['How to Love Something for 13 Years',\n",
       " 'Veronica Walsingham',\n",
       " 'medium.com/@veronicawalsing',\n",
       " '2019',\n",
       " '5',\n",
       " '273',\n",
       " 'Nov 11',\n",
       " '10',\n",
       " ['[When I was younger, I was that annoying friend who asked questions like, “What’s your favorite part about life?” I still remember my friend Angie’s answer. She said, very simply, “Firsts.”, Angie explained that the first time you do something is always the best time because it’s the way you’ll never experience it again. Every other time you do that thing, you’ll do it with the knowledge of what it’s like to do it, but the first time, it’s pure experience',\n",
       "  'It was such a good answer that I’ve remembered it all this time. But here’s something I don’t remember: the first time I watched Sex and the City. As I played the first episode, there was no visceral memory of the first time I had watched it. In a way, I like this because it’s like I never watched Sex and the City for a first time, but rather it’s a show in my DNA',\n",
       "  'But I also don’t like this, because I love this show and you’re supposed to remember falling in love. That’s why questions like, “How did you two meet?” and “When did you know they were the one?” exist. But I don’t know how I met Sex and the City nor how I knew it was the one',\n",
       "  'I remember the experience of watching several of my favorite shows for the first time. I sat in the green armchair in the living room of my childhood home and watched the season two finale of Grey’s Anatomy, my mother saying she couldn’t believe they actually aired McDreamy sliding off Meredith’s underwear (the scandal!) while I felt like I was understanding desire for the very first time. When Meredith said, “I can’t breathe with you looking at me like that, so just stop,” and Derek, somehow invoking a cowboy-like energy, went, “Do you think I want to look at you?” it became the lens through which I’d forever measure desire. And if I think about that scene, I can still feel the lines of fabric of the armchair. I know where that armchair was positioned in the living room, so I know where I was positioned in the world, the very first time I experienced it',\n",
       "  'If you asked me how I met Gossip Girl, I’d tell you that I watched the series premiere on the floor of a dorm room belonging to a girl who once yelled at her father for buying the wrong brand of water bottles. I knew Gossip Girl was the one when I watched the season two premiere, which I know aired on Labor Day 2008 because I returned home early from my aunt’s BBQ to watch Blair ask Chuck to say those three words, eight letters. Breaking Bad, The Good Wife, The Leftovers, I have specific memories of experiencing moments from these shows for the first time. But Sex and the City, the show that I’ve probably watched most in my life, the show that’s probably molded me more than any other, is the one I cannot remember watching for the first time',\n",
       "  'While watching the first episode of Sex and the City doesn’t bring back a memory of the first time I saw it, I can tell you, undoubtedly, that I used to hate this episode because I used to hate the entire first season, so much so that I’d begin my DVD rewatches with season two. But now, I love the first season. Carrie says things like, “Welcome to the age of uninnocence.” The entire show opens with a tale about two characters we literally never see again. It is chaotic good',\n",
       "  'When I first watched Sex and the City, I was a 17-year-old mean girl. Exactly how my mind worked back then, I don’t know. I was awful. But I think I didn’t like season one because it’s fairly experimental. In an effort to adapt a newspaper column, in which Candace Bushnell did heavy reporting, into a television show, they employed Carrie breaking the fourth wall and talking heads of those being interviewed for the column. I don’t know if this would have worked long-term, as the show shifted away from it mid-second season, but I appreciate it now',\n",
       "  'I think what I initially liked about the show was the formula: every episode has four plots following each main character, two of which were more comedic and two more dramatic. I initially liked the fairy tale quality and the happy ending of the sixth season. I liked the surface level appeal of the show. And I’m grateful for these elements, as they made it a show that 17-year-old me could enjoy. If I didn’t begin loving Sex and the City with such fierce intensity at 17, I’m not quite sure who I’d be at 30, and it was those elements that seduced the younger version of myself',\n",
       "  'It’s funny that Sex and the City helped inform who I am at 30 and this 30-year-old version of myself dislikes many of the elements that drew the 17-year-old me to the show. Now, I think the neat formula can sometimes feel repetitive. I prefer the experimental episodes of Broad City, Girls, You’re the Worst, and Atlanta to how fixed and orderly every episode of Sex and the City is. I also connect much less to the romanticism and happy ending. Of course, this isn’t to say I love the show less than before. I just love other things: I love that Carrie is an anti-hero. I love that Charlotte is low-key the most sex-obsessed character. I love some of the genius editing that makes eating a salad a deliciously filthy joke through the lens of the previous scene. I love the clothes, the anxiety, and the self-obsession',\n",
       "  'The internet is full of articles about how being married to one person is like falling in love with many different people throughout a lifetime. It’s a true sentiment. I’ve been in a relationship with Eric for seven years, three of which we’ve been married, and even in just this time, he’s been many different people. I mean, he’s still him, but I’ve loved variations of him, just as he’d loved variations of me',\n",
       "  'Loving several variations of someone is true to any long-term relationship, be it partners, friends, or family. What’s interesting about having a long-term relationship with a television show is that the show doesn’t fundamentally change, but you do, and because you do, so does the way you view the show. Sex and the City is an anchor around which I’ve changed, and in my changing, Sex and the City has become a different show, even though it hasn’t changed at all',\n",
       "  'And yes, I’m aware that I’m comparing my relationship with a television show to my marriage, but, I assure you, I’m not deeply unhinged. I just really love the stories I love',\n",
       "  'Maybe the mark of both a truly great relationship, and a truly great television show, is that several versions of yourself can love the object of your affection. I don’t know who I’ll be in another 13 years, willing I’m still alive, but will I love still love Sex and the City? Abso-fucking-lutely—I’ll just probably love it, yet again, for a different set of reasons'],\n",
       " ['Television', 'Culture', 'Love', 'Relationships']]"
      ]
     },
     "execution_count": 182,
     "metadata": {},
     "output_type": "execute_result"
    }
   ],
   "source": [
    "tagInfo = page_content.find_all(\"ul\")\n",
    "tags = re.sub(re.compile('<.*?>'), '', str(tagInfo))\n",
    "tags = re.sub(\"]\", \"\", tags)\n",
    "tags = re.findall('[A-Z][^A-Z]*', tags)\n",
    "data.append(tags)\n",
    "data"
   ]
  },
  {
   "cell_type": "markdown",
   "metadata": {},
   "source": [
    "The data list is in the order <strong>[Title, Author, Author Page, Member Since, Following Count, Follower Count, Data Published, Number of Claps, Text Content, List of Tags] </strong>"
   ]
  },
  {
   "cell_type": "code",
   "execution_count": null,
   "metadata": {},
   "outputs": [],
   "source": []
  }
 ],
 "metadata": {
  "kernelspec": {
   "display_name": "Python 3",
   "language": "python",
   "name": "python3"
  },
  "language_info": {
   "codemirror_mode": {
    "name": "ipython",
    "version": 3
   },
   "file_extension": ".py",
   "mimetype": "text/x-python",
   "name": "python",
   "nbconvert_exporter": "python",
   "pygments_lexer": "ipython3",
   "version": "3.7.3"
  }
 },
 "nbformat": 4,
 "nbformat_minor": 2
}
