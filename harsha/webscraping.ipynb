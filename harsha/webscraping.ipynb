{
 "cells": [
  {
   "cell_type": "markdown",
   "metadata": {},
   "source": [
    "<h1>Imports and Initial Variable Declarations</h1>"
   ]
  },
  {
   "cell_type": "code",
   "execution_count": 160,
   "metadata": {},
   "outputs": [],
   "source": [
    "# BeautifulSoup and requests library import\n",
    "from bs4 import BeautifulSoup\n",
    "import requests "
   ]
  },
  {
   "cell_type": "code",
   "execution_count": 161,
   "metadata": {},
   "outputs": [],
   "source": [
    "#page url\n",
    "page_link = \"https://medium.com/@margolestz/stendhal-syndrome-having-an-art-attack-in-florence-italy-5aedab5f1c89\""
   ]
  },
  {
   "cell_type": "code",
   "execution_count": 162,
   "metadata": {},
   "outputs": [],
   "source": [
    "#page request\n",
    "page_response = requests.get(page_link, timeout=5)"
   ]
  },
  {
   "cell_type": "code",
   "execution_count": 163,
   "metadata": {},
   "outputs": [],
   "source": [
    "#parsing content from page and storing it\n",
    "page_content = BeautifulSoup(page_response.content, \"html.parser\")"
   ]
  },
  {
   "cell_type": "code",
   "execution_count": 174,
   "metadata": {},
   "outputs": [],
   "source": [
    "#empty list to store user data\n",
    "data = []"
   ]
  },
  {
   "cell_type": "markdown",
   "metadata": {},
   "source": [
    "<h1>Finding and Adding Title to Data</h1>"
   ]
  },
  {
   "cell_type": "code",
   "execution_count": 175,
   "metadata": {},
   "outputs": [],
   "source": [
    "#grabs div that stores title info\n",
    "titleInfo = page_content.find_all('div',attrs={\"id\":\"ea10\"})"
   ]
  },
  {
   "cell_type": "code",
   "execution_count": 176,
   "metadata": {},
   "outputs": [
    {
     "data": {
      "text/plain": [
       "['Stendhal Syndrome: Having an Art Attack in Florence, Italy']"
      ]
     },
     "execution_count": 176,
     "metadata": {},
     "output_type": "execute_result"
    }
   ],
   "source": [
    "#finds authors name within userInfo div\n",
    "href = str(titleInfo).index(\"<h1\")\n",
    "start = str(titleInfo)[href:].index(\">\")+href+1\n",
    "end = str(titleInfo)[href:].index(\"</h1>\")+href\n",
    "\n",
    "#appends authors name to data list\n",
    "title = str(titleInfo)[start:end]\n",
    "data.append(title)\n",
    "data"
   ]
  },
  {
   "cell_type": "markdown",
   "metadata": {},
   "source": [
    "<h1>Finding and Adding Author to Data</h1>"
   ]
  },
  {
   "cell_type": "code",
   "execution_count": 177,
   "metadata": {},
   "outputs": [],
   "source": [
    "#grabs div that stores user info\n",
    "userInfo = page_content.find_all('div',attrs={\"class\":\"o n\"})"
   ]
  },
  {
   "cell_type": "code",
   "execution_count": 178,
   "metadata": {},
   "outputs": [
    {
     "data": {
      "text/plain": [
       "['Stendhal Syndrome: Having an Art Attack in Florence, Italy', 'Margo Lestz']"
      ]
     },
     "execution_count": 178,
     "metadata": {},
     "output_type": "execute_result"
    }
   ],
   "source": [
    "#finds authors name within userInfo div\n",
    "href = str(userInfo)[24:].index(\"<a class=\")+24\n",
    "start = str(userInfo)[href:].index(\">\")+href+1\n",
    "end = str(userInfo)[href:].index(\"</a>\")+href\n",
    "\n",
    "#appends authors name to data list\n",
    "author = str(userInfo)[start:end]\n",
    "data.append(author)\n",
    "data"
   ]
  },
  {
   "cell_type": "markdown",
   "metadata": {},
   "source": [
    "<h1>Finding and Adding Date to Data</h1>"
   ]
  },
  {
   "cell_type": "code",
   "execution_count": 179,
   "metadata": {},
   "outputs": [
    {
     "data": {
      "text/plain": [
       "['Stendhal Syndrome: Having an Art Attack in Florence, Italy',\n",
       " 'Margo Lestz',\n",
       " 'Oct 26']"
      ]
     },
     "execution_count": 179,
     "metadata": {},
     "output_type": "execute_result"
    }
   ],
   "source": [
    "#finds date within userInfo div\n",
    "href = str(userInfo)[end:].index(\"<a class=\")+end\n",
    "start = str(userInfo)[href:].index(\">\")+href+1\n",
    "end = str(userInfo)[href:].index(\"</a>\")+href\n",
    "\n",
    "#appends date to data list\n",
    "date = str(userInfo)[start:end]\n",
    "data.append(date)\n",
    "data"
   ]
  },
  {
   "cell_type": "markdown",
   "metadata": {},
   "source": [
    "<h1>Adding a List of the Text Content to Data</h1>"
   ]
  },
  {
   "cell_type": "code",
   "execution_count": 180,
   "metadata": {},
   "outputs": [],
   "source": [
    "#grabs all paragraphs in the article\n",
    "textContent = [page_content.find_all(\"p\")]"
   ]
  },
  {
   "cell_type": "code",
   "execution_count": 181,
   "metadata": {},
   "outputs": [],
   "source": [
    "#function that cleans the paragraph data by removing html tags and extra commas\n",
    "def clear_tags(string):\n",
    "    start_indices = []\n",
    "    end_indices = []\n",
    "    \n",
    "    new_list = []\n",
    "    \n",
    "    for i in range(len(string)):\n",
    "        if string[i] == \"<\":\n",
    "            start_indices.append(i)\n",
    "        elif string[i] == \">\":\n",
    "            end_indices.append(i+1)\n",
    "    \n",
    "    for i in range(len(start_indices)-1):\n",
    "        new_list.append(string[ end_indices[i] : start_indices[i+1] ])\n",
    "        \n",
    "    while \", \" in new_list: \n",
    "        new_list.remove(\", \")    \n",
    "        \n",
    "    return new_list"
   ]
  },
  {
   "cell_type": "code",
   "execution_count": 182,
   "metadata": {
    "scrolled": false
   },
   "outputs": [
    {
     "data": {
      "text/plain": [
       "['Stendhal Syndrome: Having an Art Attack in Florence, Italy',\n",
       " 'Margo Lestz',\n",
       " 'Oct 26',\n",
       " ['It seems that taking in too much art in Florence, Italy can be bad for your health. Stendhal Syndrome, also known as the Florence Syndrome, is a psychosomatic condition which can affect sensitive souls when they overdose on art — and it usually happens in Florence.',\n",
       "  'Since I’m going to Florence soon, I’ll have to be very careful…',\n",
       "  'The syndrome takes its name from French author, Marie-Henri Beyle, better known as Stendhal. Stendhal visited Florence in the early 1800s and wrote about it in his book, Rome, Naples et Florence (1817). He was deeply moved by the art and history with which this Italian city overflowed.',\n",
       "  'He had read and studied about all the great men who had lived here before, but he wasn’t prepared for the feelings that would surge through him in the church of Santa Croce. As he stepped through the door into the cool dimness of the interior, his eyes adjusted, and he saw Michelangelo’s tomb to his right. He must have caught his breath as he reached out and lightly touched the stone covering the resting place of this great genius who had sculpted David and painted the Sistine Chapel.',\n",
       "  'A bit farther along he saw the beautiful tomb carved by Canova for Alfieri, the playwright and poet… Next, he came to the burial place of political philosopher Machiavelli… Then there was Galileo. Stendhal stood in front his tomb pondering the great astronomer and physicist.',\n",
       "  'Then he sat and studied the frescoed ceiling — les Sibylles du Volterrano. He was almost transported by its beauty. He wrote that it was the most moved he had ever been by any painting.',\n",
       "  'What men had lived in Florence! And in addition to these men whose tombs he had just visited, Tuscany had been home to Dante, Boccacio and Petrarque. They had all walked the streets of Florence and now he was there too, treading in their footsteps. He felt so near to them. He was in awe and almost in a trance.',\n",
       "  'When he walked out of the church, his heart began to pound violently. He felt dizzy. He felt like his life had dried up within him. He walked unsteadily and felt like he would fall at any moment.',\n",
       "  'He was so overcome by what he had just seen and experienced that he had to sit. He stumbled over to one of the benches in the piazza outside the church and sat until he could walk again.',\n",
       "  'More than a century and a half later, Psychiatrist Graziella Magherini began to study those same symptoms. She noticed that about once a month or more, she would see tourists brought into the psychiatric ward at the Santa Maria Nuova Hospital in Florence where she worked. Their complaints were similar to those described by Stendhal: heart palpitations, dizziness, and a feeling of disorientation. And in severe cases, even a loss of identity, depression and paranoia.',\n",
       "  'And, just like Stendhal, the patients often reported that these symptoms began when they were contemplating beautiful works of art: Michelangelo’s David, Caravaggio’s Bacchus, or Botticelli’s Venus were often mentioned. Dr. Magherini began documenting these cases and called the condition Stendhal Syndrome after the French author who was one of the earliest to record its symptoms.',\n",
       "  'Stendhal Syndrome is also called the Florence Syndrome. Florence is compact and filled to the brim with art. It was the birthplace of the Renaissance and many of the great artists and thinkers of the time were concentrated there. Reminders of them still exist all over the city.',\n",
       "  'Although “art attacks” seem to be a regular occurrence in Florence, they can happen anywhere people are overcome by art or very moving experiences. There is also a Paris Syndrome and a Jerusalem Syndrome with similar effects.',\n",
       "  'According to Dr. Magherini’s study, Italians seem to be immune to Stendhal Syndrome — presumably because they grow up around so much art. More than half of those affected are from Northern Europe and they are often single women around 40 traveling alone.',\n",
       "  'I don’t fit that profile, and I’ve been to Florence many times, so I think I’m pretty safe. However, I do remember an experience I had years ago on my first visit there when I was taking art and art history courses.',\n",
       "  'In preparation, I had studied some of the art and architecture of Florence, and I was especially fascinated by the cathedral (il Duomo) and the way it was built. I had seen lots of photos of it in books, but when I walked into the piazza and actually stood in front of it for the first time, I really did have a hard time breathing and felt a bit faint. I was overcome by the beauty and the building was so much more magnificent than any photo could show.',\n",
       "  'Was that a slight case of Stendhal Syndrome? I don’t know, but luckily, I recovered right away. I was in Florence for a month taking classes, and I walked by that amazing cathedral every day. By the end of my stay I was completely immune to it — just like the Italians. I could look at it with no heart palpitations at all. But I haven’t been there for several years, so maybe I had better sneak up on it at first.',\n",
       "  'This article first appeared on ',\n",
       "  'CuriousRambler.com',\n",
       "  '',\n",
       "  'Read more articles like this on ',\n",
       "  'CuriousRambler.com',\n",
       "  '',\n",
       "  'Written by']]"
      ]
     },
     "execution_count": 182,
     "metadata": {},
     "output_type": "execute_result"
    }
   ],
   "source": [
    "#appends text to the list\n",
    "text = clear_tags(str(textContent))\n",
    "data.append(text)\n",
    "data"
   ]
  }
 ],
 "metadata": {
  "kernelspec": {
   "display_name": "Python 3",
   "language": "python",
   "name": "python3"
  },
  "language_info": {
   "codemirror_mode": {
    "name": "ipython",
    "version": 3
   },
   "file_extension": ".py",
   "mimetype": "text/x-python",
   "name": "python",
   "nbconvert_exporter": "python",
   "pygments_lexer": "ipython3",
   "version": "3.7.4"
  }
 },
 "nbformat": 4,
 "nbformat_minor": 2
}
