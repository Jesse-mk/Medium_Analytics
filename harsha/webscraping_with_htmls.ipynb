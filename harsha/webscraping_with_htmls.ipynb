{
 "cells": [
  {
   "cell_type": "markdown",
   "metadata": {},
   "source": [
    "<h1>Imports and Initial Variable Declarations</h1>"
   ]
  },
  {
   "cell_type": "code",
   "execution_count": 4,
   "metadata": {},
   "outputs": [],
   "source": [
    "# BeautifulSoup and requests library import\n",
    "from bs4 import BeautifulSoup\n",
    "import requests \n",
    "import re\n",
    "import pandas as pd"
   ]
  },
  {
   "cell_type": "code",
   "execution_count": 5,
   "metadata": {},
   "outputs": [
    {
     "ename": "FileNotFoundError",
     "evalue": "[Errno 2] File b'cleaned_htmls.csv' does not exist: b'cleaned_htmls.csv'",
     "output_type": "error",
     "traceback": [
      "\u001b[1;31m---------------------------------------------------------------------------\u001b[0m",
      "\u001b[1;31mFileNotFoundError\u001b[0m                         Traceback (most recent call last)",
      "\u001b[1;32m<ipython-input-5-e124e1c4de6c>\u001b[0m in \u001b[0;36m<module>\u001b[1;34m\u001b[0m\n\u001b[0;32m      1\u001b[0m \u001b[1;31m#cleaned htmls (entire html should work)\u001b[0m\u001b[1;33m\u001b[0m\u001b[1;33m\u001b[0m\u001b[1;33m\u001b[0m\u001b[0m\n\u001b[1;32m----> 2\u001b[1;33m \u001b[0mhtmls\u001b[0m \u001b[1;33m=\u001b[0m \u001b[0mpd\u001b[0m\u001b[1;33m.\u001b[0m\u001b[0mread_csv\u001b[0m\u001b[1;33m(\u001b[0m\u001b[1;34m\"cleaned_htmls.csv\"\u001b[0m\u001b[1;33m)\u001b[0m\u001b[1;33m\u001b[0m\u001b[1;33m\u001b[0m\u001b[0m\n\u001b[0m",
      "\u001b[1;32m~\\Anaconda3\\lib\\site-packages\\pandas\\io\\parsers.py\u001b[0m in \u001b[0;36mparser_f\u001b[1;34m(filepath_or_buffer, sep, delimiter, header, names, index_col, usecols, squeeze, prefix, mangle_dupe_cols, dtype, engine, converters, true_values, false_values, skipinitialspace, skiprows, skipfooter, nrows, na_values, keep_default_na, na_filter, verbose, skip_blank_lines, parse_dates, infer_datetime_format, keep_date_col, date_parser, dayfirst, iterator, chunksize, compression, thousands, decimal, lineterminator, quotechar, quoting, doublequote, escapechar, comment, encoding, dialect, tupleize_cols, error_bad_lines, warn_bad_lines, delim_whitespace, low_memory, memory_map, float_precision)\u001b[0m\n\u001b[0;32m    700\u001b[0m                     skip_blank_lines=skip_blank_lines)\n\u001b[0;32m    701\u001b[0m \u001b[1;33m\u001b[0m\u001b[0m\n\u001b[1;32m--> 702\u001b[1;33m         \u001b[1;32mreturn\u001b[0m \u001b[0m_read\u001b[0m\u001b[1;33m(\u001b[0m\u001b[0mfilepath_or_buffer\u001b[0m\u001b[1;33m,\u001b[0m \u001b[0mkwds\u001b[0m\u001b[1;33m)\u001b[0m\u001b[1;33m\u001b[0m\u001b[1;33m\u001b[0m\u001b[0m\n\u001b[0m\u001b[0;32m    703\u001b[0m \u001b[1;33m\u001b[0m\u001b[0m\n\u001b[0;32m    704\u001b[0m     \u001b[0mparser_f\u001b[0m\u001b[1;33m.\u001b[0m\u001b[0m__name__\u001b[0m \u001b[1;33m=\u001b[0m \u001b[0mname\u001b[0m\u001b[1;33m\u001b[0m\u001b[1;33m\u001b[0m\u001b[0m\n",
      "\u001b[1;32m~\\Anaconda3\\lib\\site-packages\\pandas\\io\\parsers.py\u001b[0m in \u001b[0;36m_read\u001b[1;34m(filepath_or_buffer, kwds)\u001b[0m\n\u001b[0;32m    427\u001b[0m \u001b[1;33m\u001b[0m\u001b[0m\n\u001b[0;32m    428\u001b[0m     \u001b[1;31m# Create the parser.\u001b[0m\u001b[1;33m\u001b[0m\u001b[1;33m\u001b[0m\u001b[1;33m\u001b[0m\u001b[0m\n\u001b[1;32m--> 429\u001b[1;33m     \u001b[0mparser\u001b[0m \u001b[1;33m=\u001b[0m \u001b[0mTextFileReader\u001b[0m\u001b[1;33m(\u001b[0m\u001b[0mfilepath_or_buffer\u001b[0m\u001b[1;33m,\u001b[0m \u001b[1;33m**\u001b[0m\u001b[0mkwds\u001b[0m\u001b[1;33m)\u001b[0m\u001b[1;33m\u001b[0m\u001b[1;33m\u001b[0m\u001b[0m\n\u001b[0m\u001b[0;32m    430\u001b[0m \u001b[1;33m\u001b[0m\u001b[0m\n\u001b[0;32m    431\u001b[0m     \u001b[1;32mif\u001b[0m \u001b[0mchunksize\u001b[0m \u001b[1;32mor\u001b[0m \u001b[0miterator\u001b[0m\u001b[1;33m:\u001b[0m\u001b[1;33m\u001b[0m\u001b[1;33m\u001b[0m\u001b[0m\n",
      "\u001b[1;32m~\\Anaconda3\\lib\\site-packages\\pandas\\io\\parsers.py\u001b[0m in \u001b[0;36m__init__\u001b[1;34m(self, f, engine, **kwds)\u001b[0m\n\u001b[0;32m    893\u001b[0m             \u001b[0mself\u001b[0m\u001b[1;33m.\u001b[0m\u001b[0moptions\u001b[0m\u001b[1;33m[\u001b[0m\u001b[1;34m'has_index_names'\u001b[0m\u001b[1;33m]\u001b[0m \u001b[1;33m=\u001b[0m \u001b[0mkwds\u001b[0m\u001b[1;33m[\u001b[0m\u001b[1;34m'has_index_names'\u001b[0m\u001b[1;33m]\u001b[0m\u001b[1;33m\u001b[0m\u001b[1;33m\u001b[0m\u001b[0m\n\u001b[0;32m    894\u001b[0m \u001b[1;33m\u001b[0m\u001b[0m\n\u001b[1;32m--> 895\u001b[1;33m         \u001b[0mself\u001b[0m\u001b[1;33m.\u001b[0m\u001b[0m_make_engine\u001b[0m\u001b[1;33m(\u001b[0m\u001b[0mself\u001b[0m\u001b[1;33m.\u001b[0m\u001b[0mengine\u001b[0m\u001b[1;33m)\u001b[0m\u001b[1;33m\u001b[0m\u001b[1;33m\u001b[0m\u001b[0m\n\u001b[0m\u001b[0;32m    896\u001b[0m \u001b[1;33m\u001b[0m\u001b[0m\n\u001b[0;32m    897\u001b[0m     \u001b[1;32mdef\u001b[0m \u001b[0mclose\u001b[0m\u001b[1;33m(\u001b[0m\u001b[0mself\u001b[0m\u001b[1;33m)\u001b[0m\u001b[1;33m:\u001b[0m\u001b[1;33m\u001b[0m\u001b[1;33m\u001b[0m\u001b[0m\n",
      "\u001b[1;32m~\\Anaconda3\\lib\\site-packages\\pandas\\io\\parsers.py\u001b[0m in \u001b[0;36m_make_engine\u001b[1;34m(self, engine)\u001b[0m\n\u001b[0;32m   1120\u001b[0m     \u001b[1;32mdef\u001b[0m \u001b[0m_make_engine\u001b[0m\u001b[1;33m(\u001b[0m\u001b[0mself\u001b[0m\u001b[1;33m,\u001b[0m \u001b[0mengine\u001b[0m\u001b[1;33m=\u001b[0m\u001b[1;34m'c'\u001b[0m\u001b[1;33m)\u001b[0m\u001b[1;33m:\u001b[0m\u001b[1;33m\u001b[0m\u001b[1;33m\u001b[0m\u001b[0m\n\u001b[0;32m   1121\u001b[0m         \u001b[1;32mif\u001b[0m \u001b[0mengine\u001b[0m \u001b[1;33m==\u001b[0m \u001b[1;34m'c'\u001b[0m\u001b[1;33m:\u001b[0m\u001b[1;33m\u001b[0m\u001b[1;33m\u001b[0m\u001b[0m\n\u001b[1;32m-> 1122\u001b[1;33m             \u001b[0mself\u001b[0m\u001b[1;33m.\u001b[0m\u001b[0m_engine\u001b[0m \u001b[1;33m=\u001b[0m \u001b[0mCParserWrapper\u001b[0m\u001b[1;33m(\u001b[0m\u001b[0mself\u001b[0m\u001b[1;33m.\u001b[0m\u001b[0mf\u001b[0m\u001b[1;33m,\u001b[0m \u001b[1;33m**\u001b[0m\u001b[0mself\u001b[0m\u001b[1;33m.\u001b[0m\u001b[0moptions\u001b[0m\u001b[1;33m)\u001b[0m\u001b[1;33m\u001b[0m\u001b[1;33m\u001b[0m\u001b[0m\n\u001b[0m\u001b[0;32m   1123\u001b[0m         \u001b[1;32melse\u001b[0m\u001b[1;33m:\u001b[0m\u001b[1;33m\u001b[0m\u001b[1;33m\u001b[0m\u001b[0m\n\u001b[0;32m   1124\u001b[0m             \u001b[1;32mif\u001b[0m \u001b[0mengine\u001b[0m \u001b[1;33m==\u001b[0m \u001b[1;34m'python'\u001b[0m\u001b[1;33m:\u001b[0m\u001b[1;33m\u001b[0m\u001b[1;33m\u001b[0m\u001b[0m\n",
      "\u001b[1;32m~\\Anaconda3\\lib\\site-packages\\pandas\\io\\parsers.py\u001b[0m in \u001b[0;36m__init__\u001b[1;34m(self, src, **kwds)\u001b[0m\n\u001b[0;32m   1851\u001b[0m         \u001b[0mkwds\u001b[0m\u001b[1;33m[\u001b[0m\u001b[1;34m'usecols'\u001b[0m\u001b[1;33m]\u001b[0m \u001b[1;33m=\u001b[0m \u001b[0mself\u001b[0m\u001b[1;33m.\u001b[0m\u001b[0musecols\u001b[0m\u001b[1;33m\u001b[0m\u001b[1;33m\u001b[0m\u001b[0m\n\u001b[0;32m   1852\u001b[0m \u001b[1;33m\u001b[0m\u001b[0m\n\u001b[1;32m-> 1853\u001b[1;33m         \u001b[0mself\u001b[0m\u001b[1;33m.\u001b[0m\u001b[0m_reader\u001b[0m \u001b[1;33m=\u001b[0m \u001b[0mparsers\u001b[0m\u001b[1;33m.\u001b[0m\u001b[0mTextReader\u001b[0m\u001b[1;33m(\u001b[0m\u001b[0msrc\u001b[0m\u001b[1;33m,\u001b[0m \u001b[1;33m**\u001b[0m\u001b[0mkwds\u001b[0m\u001b[1;33m)\u001b[0m\u001b[1;33m\u001b[0m\u001b[1;33m\u001b[0m\u001b[0m\n\u001b[0m\u001b[0;32m   1854\u001b[0m         \u001b[0mself\u001b[0m\u001b[1;33m.\u001b[0m\u001b[0munnamed_cols\u001b[0m \u001b[1;33m=\u001b[0m \u001b[0mself\u001b[0m\u001b[1;33m.\u001b[0m\u001b[0m_reader\u001b[0m\u001b[1;33m.\u001b[0m\u001b[0munnamed_cols\u001b[0m\u001b[1;33m\u001b[0m\u001b[1;33m\u001b[0m\u001b[0m\n\u001b[0;32m   1855\u001b[0m \u001b[1;33m\u001b[0m\u001b[0m\n",
      "\u001b[1;32mpandas/_libs/parsers.pyx\u001b[0m in \u001b[0;36mpandas._libs.parsers.TextReader.__cinit__\u001b[1;34m()\u001b[0m\n",
      "\u001b[1;32mpandas/_libs/parsers.pyx\u001b[0m in \u001b[0;36mpandas._libs.parsers.TextReader._setup_parser_source\u001b[1;34m()\u001b[0m\n",
      "\u001b[1;31mFileNotFoundError\u001b[0m: [Errno 2] File b'cleaned_htmls.csv' does not exist: b'cleaned_htmls.csv'"
     ]
    }
   ],
   "source": [
    "#cleaned htmls (entire html should work)\n",
    "htmls = pd.read_csv(\"cleaned_htmls.csv\")"
   ]
  },
  {
   "cell_type": "code",
   "execution_count": 601,
   "metadata": {},
   "outputs": [],
   "source": [
    "#page url\n",
    "page_link = \"https://medium.com/@cvonhassett/elizabeth-peyton-aire-and-angels-6072f9891dca\""
   ]
  },
  {
   "cell_type": "code",
   "execution_count": 602,
   "metadata": {},
   "outputs": [],
   "source": [
    "#page request\n",
    "page_response = requests.get(page_link, timeout=5)"
   ]
  },
  {
   "cell_type": "code",
   "execution_count": 603,
   "metadata": {},
   "outputs": [],
   "source": [
    "#parsing content from page and storing it\n",
    "page_content = BeautifulSoup(page_response.content, \"html.parser\")"
   ]
  },
  {
   "cell_type": "code",
   "execution_count": 604,
   "metadata": {},
   "outputs": [],
   "source": [
    "#empty list to store user data\n",
    "data = []"
   ]
  },
  {
   "cell_type": "markdown",
   "metadata": {},
   "source": [
    "<h1>Finding and Adding Title to Data</h1>"
   ]
  },
  {
   "cell_type": "code",
   "execution_count": 605,
   "metadata": {},
   "outputs": [],
   "source": [
    "#grabs div that stores title info\n",
    "titleInfo = page_content.find_all('div',attrs={\"class\":\"n p\"})"
   ]
  },
  {
   "cell_type": "code",
   "execution_count": 606,
   "metadata": {},
   "outputs": [],
   "source": [
    "#finds title within titleInfo div\n",
    "href = str(titleInfo).index(\"<h1\")\n",
    "start = str(titleInfo)[href:].index(\">\")+href+1\n",
    "end = str(titleInfo)[href:].index(\"</h1>\")+href\n",
    "\n",
    "#appends title to data list after removing extra tags\n",
    "title = re.sub(re.compile('<.*?>'), '', str(titleInfo)[start:end])\n",
    "data.append(title)"
   ]
  },
  {
   "cell_type": "markdown",
   "metadata": {},
   "source": [
    "<h1>Finding and Adding Author to Data</h1>"
   ]
  },
  {
   "cell_type": "code",
   "execution_count": 607,
   "metadata": {},
   "outputs": [],
   "source": [
    "#grabs div that stores user info\n",
    "userInfo = page_content.find_all('div',attrs={\"class\":\"o n\"})"
   ]
  },
  {
   "cell_type": "code",
   "execution_count": 608,
   "metadata": {},
   "outputs": [],
   "source": [
    "#finds authors name within userInfo div\n",
    "href = str(userInfo)[24:].index(\"<a class=\")+24\n",
    "start = str(userInfo)[href:].index(\">\")+href+1\n",
    "end = str(userInfo)[href:].index(\"</a>\")+href\n",
    "\n",
    "#appends authors name to data list\n",
    "author = str(userInfo)[start:end]\n",
    "data.append(author)"
   ]
  },
  {
   "cell_type": "markdown",
   "metadata": {},
   "source": [
    "<h1>Finding and Adding Author Page URL to Data</h1>"
   ]
  },
  {
   "cell_type": "code",
   "execution_count": 609,
   "metadata": {},
   "outputs": [],
   "source": [
    "#finds date within userInfo div\n",
    "href = str(userInfo)[24:].index(\"<a class=\")\n",
    "start = str(userInfo)[href:].index(\"href=\")+href+6\n",
    "end = str(userInfo)[start:].index(\"?source\")+start\n",
    "\n",
    "#appends date to data list\n",
    "url = \"medium.com\" + str(userInfo)[start:end]\n",
    "data.append(url)"
   ]
  },
  {
   "cell_type": "markdown",
   "metadata": {},
   "source": [
    "<h1>Finding and Adding Date to Data</h1>"
   ]
  },
  {
   "cell_type": "code",
   "execution_count": 610,
   "metadata": {},
   "outputs": [],
   "source": [
    "#finds date within userInfo div\n",
    "href = str(userInfo)[end:].index(\"<a class=\")+end\n",
    "start = str(userInfo)[href:].index(\">\")+href+1\n",
    "end = str(userInfo)[href:].index(\"</a>\")+href\n",
    "\n",
    "#appends date to data list\n",
    "date = str(userInfo)[start:end]\n",
    "data.append(date)"
   ]
  },
  {
   "cell_type": "markdown",
   "metadata": {},
   "source": [
    "<h1>Finding and Adding Number of Claps to Data</h1>"
   ]
  },
  {
   "cell_type": "code",
   "execution_count": 611,
   "metadata": {},
   "outputs": [],
   "source": [
    "#grabs all paragraphs in the article\n",
    "clapInfo = page_content.find_all('div',attrs={\"class\":\"n o\"})"
   ]
  },
  {
   "cell_type": "code",
   "execution_count": 612,
   "metadata": {},
   "outputs": [],
   "source": [
    "#finds claps within clapInfo div\n",
    "result = re.sub(re.compile('<.*?>'), '', str(clapInfo))\n",
    "result = re.findall(\"\\d+\", result)\n",
    "\n",
    "#appends claps to data list\n",
    "if len(result) == 0:\n",
    "    data.append('0')\n",
    "\n",
    "else:\n",
    "    data.append(result[0])"
   ]
  },
  {
   "cell_type": "markdown",
   "metadata": {},
   "source": [
    "<h1>Adding a List of the Text Content to Data</h1>"
   ]
  },
  {
   "cell_type": "code",
   "execution_count": 613,
   "metadata": {
    "scrolled": false
   },
   "outputs": [
    {
     "data": {
      "text/plain": [
       "['Elizabeth Peyton: Aire and Angels',\n",
       " 'Riot Material',\n",
       " 'medium.com/@cvonhassett',\n",
       " 'Nov 6',\n",
       " '0',\n",
       " ['[at National Portrait Gallery, London, through 5 January 2020Reviewed by Christopher P Jones, In her new solo show at the National Portrait Gallery in London, New York artist Elizabeth Peyton offers a procession of glistening vignettes, portraits of famous and not-so-famous faces, whose cool freshness leaves the visitor with an excited, if slightly outmoded sense of pursuit. Many of her male subjects carry a melancholy, morning-after expression that signals an unabashed adoption of the female gaze. Peyton has painted Kurt Cobain and David Bowie, David Hockney and scenes from the Twilight films, as well as personal friends and lovers. Her eye tends towards the sheen of beauty, where cheekbones are elevated and noses are streamlined',\n",
       "  'If the trend in contemporary art is towards the bold and brazen, then Peyton is an outlier, since every pallid-cheeked portrait here has the diminutive quality of a book cover. Her painting style has an intentional simplicity, even crudeness, where the paint is diluted and the brush marks are fragmentary. For a painter in oils her colours sit close to the surface. Her flat brushwork lends many of her sitters an androgynous ambiguity. Nobody smiles; everybody has pursed lips and Pre-Raphaelite stares; the sort of far-away lassitude that fashion photography excels in',\n",
       "  'Peyton’s subjects switch effortlessly between celebrities and personal friends, some quite obviously drawn from photographs, others bearing the marks of face-to-face portraiture. She has also made works based on paintings by artists including Eugène Delacroix and Edward Burne-Jones. “I don’t really think about who I should paint,” she has said. “The choosing is a very natural thing: this is what I am thinking about right now, or what or who I think is important in the world.” The seamless weave of her portfolio across these different subjects is an achievement of her style, which unifies the whole parade into a pleasing event of looking',\n",
       "  'The instability of images in the digital age — the unceasing recycling, the churning distribution of photos — seems to reach some sort of coherence in Peyton’s effect. The glazes of thinned oil paint, and occasionally watercolour, give all her works a strange fragile air, or else a vulnerability, one that that simultaneously draws in the viewer and closes off again',\n",
       "  'As part of the exhibition, a selection of Peyton’s works have been scattered through the permanent collection of the gallery in an attempt to position her art “within the context of historic portraiture”. There are all sorts of things that happen when an artist engages with an institution like this. A portrait of Kurt Cobain, titled Alizarin Kurt (1995) is hung beside a portrait of Queen Elizabeth I, painted around 1575. Cobain is shown in profile with his head lowered, as if kneeling before the Queen, his face concealed by a flop of red hair painted in shades of pomegranate',\n",
       "  'Another musical portrait, this time of Liam Gallagher titled Blue Liam (1996), hangs nearby, situated along a wall of 16th century portraits of English nobility. The formal portraiture of Elizabethan England has the sombre quality of deep-seriousness. Peyton’s work is sombre too, though her subjects express an entirely modern ennui that is all the more explicit — mannered even — for being hung among these centuries-old paintings',\n",
       "  'Peyton’s dexterity with a paintbrush holds up well in the comparison: her marks are far looser and quick-witted of course, but her ability to reach a direct and compelling figuration is no less evident. Mini-portraits of Jarvis Cocker and Keith Richards, each smaller than a vinyl record sleeve, have a warm, hedonistic feel. A piece depicting the German artist Isa Genzken (1980) is powerfully rendered and belies its small scale and restricted colour palette',\n",
       "  'Moving through the gallery, one of the most notable things about the main collection is how much effort artists once put into rendering the accoutrements of the-great-and-the-good. Hours of painting time spent over silk robes, embroidered tunics, lace neck-ruffs, jewellery, swords, hounds, feathers, wigs and beards. Peyton’s works contain none of these fineries; her paintings instead place value on the sentient virtues of her subject, the languorous gaze and fulsome lips, the perfect skin and poised expression. The painting Twilight (2009), which shows a scene from the movie with Kristen Stewart and Robert Pattinson, perhaps best illustrates Peyton’s use of her found-imagery, as access points to a certain elusive quality of being, that strange space supplied by modern culture somewhere between the invented and the idealised',\n",
       "  'In the ground floor rooms, Peyton is given several large spaces to occupy all to herself. These rooms contain works from the last decade or so of her practice, paintings that signify a shift towards a more intimate sphere of personal acquaintances. Many of the portraits are of friends whose lack-of-celebrity allows Peyton’s style to occupy the foreground. Empty spaces of canvas add emphasis to individual brushstrokes, which have become even thinner and appear to have been smeared as if with fingertips. The canvases themselves have been heavily primed to provide Peyton with a glossy, grain-free surface. The paint slips and glides over this polished skin, and — as so many of her portraits do — walks a fine and skilful line between jewel-like preciousness and vacuous idolatry']]"
      ]
     },
     "execution_count": 613,
     "metadata": {},
     "output_type": "execute_result"
    }
   ],
   "source": [
    "#grabs all paragraphs in the article\n",
    "textContent = page_content.find_all(\"p\")\n",
    "textInfo = str(textContent)\n",
    "\n",
    "#RegEx that cleans paragraph data by removing html tags and extra commas\n",
    "result = re.sub(re.compile('<.*?>'), '', textInfo)\n",
    "result = re.split(\"\\., \", result)\n",
    "result = result[:-1]\n",
    "data.append(result)\n",
    "data"
   ]
  },
  {
   "cell_type": "code",
   "execution_count": null,
   "metadata": {},
   "outputs": [],
   "source": []
  }
 ],
 "metadata": {
  "kernelspec": {
   "display_name": "Python 3",
   "language": "python",
   "name": "python3"
  },
  "language_info": {
   "codemirror_mode": {
    "name": "ipython",
    "version": 3
   },
   "file_extension": ".py",
   "mimetype": "text/x-python",
   "name": "python",
   "nbconvert_exporter": "python",
   "pygments_lexer": "ipython3",
   "version": "3.7.3"
  }
 },
 "nbformat": 4,
 "nbformat_minor": 2
}
