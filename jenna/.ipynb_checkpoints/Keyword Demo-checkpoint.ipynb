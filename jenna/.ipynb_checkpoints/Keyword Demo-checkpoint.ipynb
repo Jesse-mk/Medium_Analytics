{
 "cells": [
  {
   "cell_type": "markdown",
   "metadata": {},
   "source": [
    "# Techniques for keyword extraction\n",
    "\n",
    "### TFIDF ### \n",
    "Uses TFIDF to find the most relavant words and use them as keywords. Good for keywords themselves.\n",
    "\n",
    "\n",
    "### RAKE (From NTLK) ###\n",
    "Rapid Automatic Keyword Extraction. Good for multi-word phrases. \n",
    "- Calculates frequency of content words. \n",
    "- Creates list of phrases from content words.\n",
    "- Creates co-occurence matrix which counts frequencies that words are associated with each other in the list of phrases. \n",
    "- Scores each phrase based its words and their scores in the co-occurence matrix, divided by their freqencies\n",
    "\n",
    "### Machine/Deep Learning Approach ###\n",
    "- Extracting skills from CVs with Keras neural network: https://towardsdatascience.com/deep-learning-for-specific-information-extraction-from-unstructured-texts-12c5b9dceada\n",
    "- Keyword Suggestion Tool with Tensorflow: https://wordlift.io/blog/en/keyword-suggestion-tool-tensorflow/\n"
   ]
  },
  {
   "cell_type": "markdown",
   "metadata": {},
   "source": [
    "## Conclusion\n",
    "\n",
    "Because we want to use keywords for tags, which are usually individual words or at most 2-word phrases, it may be best to use TFIDF. Most of it is likely to be NLP / text pre-processing work. A deep learning approach is more advanced and based on my research has limited guides/tutorials (mostly research/graduate-level papers). \n",
    "\n",
    "\n"
   ]
  },
  {
   "cell_type": "markdown",
   "metadata": {},
   "source": [
    "Sources:\n",
    "\n",
    "1) https://nzmattgrant.wordpress.com/2018/01/31/a-comparison-of-rake-and-tf-idf-algorithms-for-finding-keywords-in-text/\n",
    "2) https://monkeylearn.com/keyword-extraction/\n",
    "3) https://medium.com/analytics-vidhya/automated-keyword-extraction-from-articles-using-nlp-bfd864f41b34\n",
    "4) https://github.com/kavgan/nlp-in-practice/blob/master/tf-idf/Keyword%20Extraction%20with%20TF-IDF%20and%20SKlearn.ipynb\n"
   ]
  },
  {
   "cell_type": "markdown",
   "metadata": {},
   "source": [
    "# Demo of TFIDF keyword extraction\n",
    "limited preprocessing and nlp"
   ]
  },
  {
   "cell_type": "code",
   "execution_count": 39,
   "metadata": {},
   "outputs": [],
   "source": [
    "import pandas as pd\n",
    "from sklearn.feature_extraction.text import TfidfVectorizer as tfidf\n",
    "from sklearn.feature_extraction.text import TfidfTransformer\n"
   ]
  },
  {
   "cell_type": "code",
   "execution_count": 40,
   "metadata": {},
   "outputs": [],
   "source": [
    "tech = pd.read_csv(\"C:/Users/Jenna/Documents/medium-tech-data.csv\")"
   ]
  },
  {
   "cell_type": "code",
   "execution_count": 41,
   "metadata": {},
   "outputs": [],
   "source": [
    "#remove nulls/empty vals\n",
    "tech = tech[pd.notnull(tech['text'])]\n",
    "tech.reset_index(inplace = True)"
   ]
  },
  {
   "cell_type": "code",
   "execution_count": 42,
   "metadata": {},
   "outputs": [
    {
     "data": {
      "text/plain": [
       "<4002x10000 sparse matrix of type '<class 'numpy.float64'>'\n",
       "\twith 182523 stored elements in Compressed Sparse Row format>"
      ]
     },
     "execution_count": 42,
     "metadata": {},
     "output_type": "execute_result"
    }
   ],
   "source": [
    "#Create TFIDF matrix from all article text\n",
    "vector = tfidf(max_df = 0.85, stop_words = \"english\", strip_accents = 'ascii', max_features = 10000)\n",
    "vector.fit_transform(tech.text.tolist())"
   ]
  },
  {
   "cell_type": "code",
   "execution_count": 59,
   "metadata": {},
   "outputs": [],
   "source": [
    "feature_names = vector.get_feature_names() #?\n",
    "test_article = []\n",
    "test_article.append(tech.text[0])"
   ]
  },
  {
   "cell_type": "code",
   "execution_count": 60,
   "metadata": {},
   "outputs": [
    {
     "data": {
      "text/plain": [
       "{'infarm': 0.341,\n",
       " 'farmers': 0.274,\n",
       " 'data': 0.244,\n",
       " 'crops': 0.208,\n",
       " 'farming': 0.204}"
      ]
     },
     "execution_count": 60,
     "metadata": {},
     "output_type": "execute_result"
    }
   ],
   "source": [
    "#Get TFIDF for individual article\n",
    "article_vector = vector.transform(test_article) \n",
    "article_coord = article_vector.tocoo()\n",
    "\n",
    "#sort vector values descending order\n",
    "tuples = zip(article_coord.col, article_coord.data)\n",
    "sorted_values = sorted(tuples, key=lambda x: (x[1], x[0]), reverse=True)\n",
    "\n",
    "#get the top 5 values\n",
    "sorted_values = sorted_values[:5]\n",
    "\n",
    "score_vals = []\n",
    "feature_vals = []\n",
    "\n",
    "for idx, score in sorted_values:\n",
    "    fname = feature_names[idx]\n",
    "\n",
    "    #keep track of feature name and its corresponding score\n",
    "    score_vals.append(round(score, 3))\n",
    "    feature_vals.append(feature_names[idx])\n",
    "\n",
    "#create a tuples of feature,score\n",
    "#results = zip(feature_vals,score_vals)\n",
    "results= {}\n",
    "for idx in range(len(feature_vals)):\n",
    "    results[feature_vals[idx]]=score_vals[idx]\n",
    "    \n",
    "results"
   ]
  },
  {
   "cell_type": "code",
   "execution_count": null,
   "metadata": {},
   "outputs": [],
   "source": []
  }
 ],
 "metadata": {
  "kernelspec": {
   "display_name": "Python 3",
   "language": "python",
   "name": "python3"
  },
  "language_info": {
   "codemirror_mode": {
    "name": "ipython",
    "version": 3
   },
   "file_extension": ".py",
   "mimetype": "text/x-python",
   "name": "python",
   "nbconvert_exporter": "python",
   "pygments_lexer": "ipython3",
   "version": "3.7.4"
  }
 },
 "nbformat": 4,
 "nbformat_minor": 4
}
