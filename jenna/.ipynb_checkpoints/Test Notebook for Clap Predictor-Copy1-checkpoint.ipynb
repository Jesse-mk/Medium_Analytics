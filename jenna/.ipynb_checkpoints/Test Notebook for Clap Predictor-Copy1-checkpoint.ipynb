{
 "cells": [
  {
   "cell_type": "markdown",
   "metadata": {},
   "source": [
    "Links:\n",
    "1. https://minimaxir.com/2017/06/reddit-deep-learning/ \n",
    "2. https://www.freecodecamp.org/news/how-to-predict-likes-and-shares-based-on-your-articles-title-using-machine-learning-47f98f0612ea/\n",
    "3. https://towardsdatascience.com/another-twitter-sentiment-analysis-with-python-part-4-count-vectorizer-b3f4944e51b5\n",
    "\n",
    "Notes: need more feature engineering (scrape or add data), also need to clean data for special characters, etc...\n",
    "\n",
    "Problems: dealing with text data, model doesn't really work\n",
    "\n",
    "- more features, diff models\n",
    "- split followers/time into diff categories\n",
    "- look at word2vec and word embedding noteboooks\n",
    "- title\n",
    "- bin the claps - then change everything to classifications - make sure to look at class differences (bc what if 80% is in bin 1)\n",
    "- confusion matrix\n",
    "- how many claps would make you money"
   ]
  },
  {
   "cell_type": "code",
   "execution_count": 12,
   "metadata": {},
   "outputs": [],
   "source": [
    "import matplotlib.pyplot as plt"
   ]
  },
  {
   "cell_type": "code",
   "execution_count": 2,
   "metadata": {},
   "outputs": [],
   "source": [
    "import tensorflow_docs as tfdocs\n",
    "import tensorflow_docs.modeling\n",
    "import tensorflow_docs.plots"
   ]
  },
  {
   "cell_type": "code",
   "execution_count": 2,
   "metadata": {},
   "outputs": [
    {
     "name": "stderr",
     "output_type": "stream",
     "text": [
      "Using TensorFlow backend.\n"
     ]
    }
   ],
   "source": [
    "import numpy as np\n",
    "import pandas as pd\n",
    "import seaborn as sns\n",
    "from sklearn.feature_extraction.text import TfidfVectorizer as tfidf\n",
    "from sklearn.model_selection import train_test_split\n",
    "import tensorflow as tf\n",
    "from tensorflow import keras\n",
    "from tensorflow.keras import layers\n",
    "from keras.models import Sequential\n",
    "from keras.layers import Dense, Dropout\n",
    "from keras.layers import Flatten\n",
    "from keras.layers.embeddings import Embedding\n",
    "from keras.preprocessing import sequence"
   ]
  },
  {
   "cell_type": "code",
   "execution_count": 97,
   "metadata": {},
   "outputs": [],
   "source": [
    "tech = pd.read_csv(r\"C:\\Users\\Jenna\\Documents\\medium-tech-data.csv\")\n",
    "politics = pd.read_csv(r\"C:\\Users\\Jenna\\Documents\\politics.csv\")\n",
    "money = pd.read_csv(r\"C:\\Users\\Jenna\\Documents\\money.csv\")\n",
    "sports = pd.read_csv(r\"C:\\Users\\Jenna\\Documents\\sports.csv\")"
   ]
  },
  {
   "cell_type": "code",
   "execution_count": 98,
   "metadata": {},
   "outputs": [],
   "source": [
    "tech = tech.drop(tech.columns[[0, 10, 11]], axis = 1) #drop null columns\n",
    "tech = tech.drop(['url', 'username'], axis = 1) #drop unused columns (for now)\n",
    "\n",
    "tech = tech[~(tech.text == '[]')]\n",
    "tech = tech.dropna() #drop null rows\n",
    "\n",
    "politics = politics[~(politics.text == '[]')]\n",
    "politics = politics.dropna() #drop null rows\n",
    "\n",
    "money = money[~(money.text == '[]')]\n",
    "money = money.dropna() #drop null rows"
   ]
  },
  {
   "cell_type": "code",
   "execution_count": 99,
   "metadata": {},
   "outputs": [
    {
     "data": {
      "text/plain": [
       "0         16\n",
       "1         84\n",
       "2          0\n",
       "3        150\n",
       "4       1.1K\n",
       "        ... \n",
       "2206     241\n",
       "2207      50\n",
       "2208     408\n",
       "2209       0\n",
       "2210       0\n",
       "Name: claps, Length: 2211, dtype: object"
      ]
     },
     "execution_count": 99,
     "metadata": {},
     "output_type": "execute_result"
    }
   ],
   "source": [
    "sports.claps"
   ]
  },
  {
   "cell_type": "markdown",
   "metadata": {},
   "source": [
    "### Visual"
   ]
  },
  {
   "cell_type": "code",
   "execution_count": 100,
   "metadata": {},
   "outputs": [],
   "source": [
    "# cleaning - making all claps into integer value\n",
    "\n",
    "def convert_to_number(x):\n",
    "    total_stars = 0\n",
    "    if 'K' in x:\n",
    "        if len(x) > 1:\n",
    "            try:\n",
    "                total_stars = float(x.replace('K', '')) * 1000 # convert k to a thousand\n",
    "            except:\n",
    "                return None\n",
    "    else:\n",
    "        try:\n",
    "            total_stars = int(x) # Less than 1000\n",
    "        except ValueError:\n",
    "            return None\n",
    "    return int(total_stars)\n",
    "\n",
    "tech['claps'] = tech['claps'].apply(convert_to_number)\n",
    "tech = tech.dropna()\n",
    "sports['claps'] = sports['claps'].apply(convert_to_number)\n",
    "sports = sports.dropna()"
   ]
  },
  {
   "cell_type": "code",
   "execution_count": 101,
   "metadata": {},
   "outputs": [],
   "source": [
    "tech = tech.loc[:, ['claps', 'text']]\n",
    "politics = politics.loc[:,['claps', 'text']]\n",
    "sports = sports.loc[:,['claps', 'text']]\n",
    "money = money.loc[:,['claps', 'text']]\n"
   ]
  },
  {
   "cell_type": "code",
   "execution_count": 102,
   "metadata": {},
   "outputs": [],
   "source": [
    "df = tech.append(politics, ignore_index = True)\n",
    "df = df.append(sports, ignore_index = True)\n",
    "df = df.append(money, ignore_index = True)"
   ]
  },
  {
   "cell_type": "code",
   "execution_count": 107,
   "metadata": {},
   "outputs": [
    {
     "data": {
      "text/plain": [
       "Text(0.5, 1.0, 'Claps in Medium Articles')"
      ]
     },
     "execution_count": 107,
     "metadata": {},
     "output_type": "execute_result"
    },
    {
     "data": {
      "image/png": "[encoded data removed]",
      "text/plain": [
       "<Figure size 432x288 with 1 Axes>"
      ]
     },
     "metadata": {
      "needs_background": "light"
     },
     "output_type": "display_data"
    }
   ],
   "source": [
    "lst = []\n",
    "for i in range(0, 1600, 100):\n",
    "    lst.append(i)\n",
    "    \n",
    "    \n",
    "\n",
    "\n",
    "plt.hist(df['claps'], bins = lst)\n",
    "plt.xlabel('Number of Claps')\n",
    "plt.ylabel('Frequency')\n",
    "plt.title('Claps in Medium Articles')\n",
    "\n",
    "        "
   ]
  },
  {
   "cell_type": "code",
   "execution_count": 116,
   "metadata": {},
   "outputs": [
    {
     "data": {
      "text/html": [
       "<div>\n",
       "<style scoped>\n",
       "    .dataframe tbody tr th:only-of-type {\n",
       "        vertical-align: middle;\n",
       "    }\n",
       "\n",
       "    .dataframe tbody tr th {\n",
       "        vertical-align: top;\n",
       "    }\n",
       "\n",
       "    .dataframe thead th {\n",
       "        text-align: right;\n",
       "    }\n",
       "</style>\n",
       "<table border=\"1\" class=\"dataframe\">\n",
       "  <thead>\n",
       "    <tr style=\"text-align: right;\">\n",
       "      <th></th>\n",
       "      <th>claps</th>\n",
       "    </tr>\n",
       "  </thead>\n",
       "  <tbody>\n",
       "    <tr>\n",
       "      <td>count</td>\n",
       "      <td>8730.000000</td>\n",
       "    </tr>\n",
       "    <tr>\n",
       "      <td>mean</td>\n",
       "      <td>450.282818</td>\n",
       "    </tr>\n",
       "    <tr>\n",
       "      <td>std</td>\n",
       "      <td>1801.373541</td>\n",
       "    </tr>\n",
       "    <tr>\n",
       "      <td>min</td>\n",
       "      <td>0.000000</td>\n",
       "    </tr>\n",
       "    <tr>\n",
       "      <td>25%</td>\n",
       "      <td>33.000000</td>\n",
       "    </tr>\n",
       "    <tr>\n",
       "      <td>50%</td>\n",
       "      <td>105.000000</td>\n",
       "    </tr>\n",
       "    <tr>\n",
       "      <td>75%</td>\n",
       "      <td>319.750000</td>\n",
       "    </tr>\n",
       "    <tr>\n",
       "      <td>max</td>\n",
       "      <td>92000.000000</td>\n",
       "    </tr>\n",
       "  </tbody>\n",
       "</table>\n",
       "</div>"
      ],
      "text/plain": [
       "              claps\n",
       "count   8730.000000\n",
       "mean     450.282818\n",
       "std     1801.373541\n",
       "min        0.000000\n",
       "25%       33.000000\n",
       "50%      105.000000\n",
       "75%      319.750000\n",
       "max    92000.000000"
      ]
     },
     "execution_count": 116,
     "metadata": {},
     "output_type": "execute_result"
    }
   ],
   "source": [
    "df.describe()\n"
   ]
  },
  {
   "cell_type": "markdown",
   "metadata": {},
   "source": [
    "### Features"
   ]
  },
  {
   "cell_type": "markdown",
   "metadata": {},
   "source": [
    "For simplicity purposes for now,\n",
    "I will just look at the text column. Will add more later\n",
    "\n",
    "(probably need to scrape/add more features such as follower data, etc.)\n"
   ]
  },
  {
   "cell_type": "code",
   "execution_count": null,
   "metadata": {},
   "outputs": [],
   "source": []
  },
  {
   "cell_type": "code",
   "execution_count": 139,
   "metadata": {},
   "outputs": [],
   "source": [
    "\n",
    "def conditions(x):\n",
    "    if x <= 50:\n",
    "        return '0-50'\n",
    "    elif x <= 200:\n",
    "        return '50-200'\n",
    "    else:\n",
    "        return '200+'\n",
    "df['Range'] = df['claps'].apply(conditions)"
   ]
  },
  {
   "cell_type": "code",
   "execution_count": 140,
   "metadata": {},
   "outputs": [],
   "source": [
    "X_train = df.text\n",
    "Y_train = df['Range']\n",
    "\n",
    "X_test = df.text\n",
    "Y_test = df['Range']"
   ]
  },
  {
   "cell_type": "code",
   "execution_count": 141,
   "metadata": {},
   "outputs": [
    {
     "data": {
      "text/plain": [
       "(<6547x50 sparse matrix of type '<class 'numpy.float64'>'\n",
       " \twith 89331 stored elements in Compressed Sparse Row format>,\n",
       " <2183x50 sparse matrix of type '<class 'numpy.float64'>'\n",
       " \twith 30427 stored elements in Compressed Sparse Row format>)"
      ]
     },
     "execution_count": 141,
     "metadata": {},
     "output_type": "execute_result"
    }
   ],
   "source": [
    "vector = tfidf(stop_words = \"english\", strip_accents = 'ascii', max_features = 50)\n",
    "vector.fit(X_train)\n",
    "train_transformed = vector.fit_transform(X_train)\n",
    "test_transformed = vector.transform(X_test)\n",
    "train_test_split(train_transformed, Y_train)[0], train_test_split(train_transformed, Y_train)[1]"
   ]
  },
  {
   "cell_type": "code",
   "execution_count": 142,
   "metadata": {},
   "outputs": [],
   "source": [
    "from sklearn.linear_model import LogisticRegression"
   ]
  },
  {
   "cell_type": "code",
   "execution_count": 143,
   "metadata": {},
   "outputs": [
    {
     "name": "stderr",
     "output_type": "stream",
     "text": [
      "C:\\Users\\Jenna\\Anaconda3\\lib\\site-packages\\sklearn\\linear_model\\logistic.py:432: FutureWarning: Default solver will be changed to 'lbfgs' in 0.22. Specify a solver to silence this warning.\n",
      "  FutureWarning)\n",
      "C:\\Users\\Jenna\\Anaconda3\\lib\\site-packages\\sklearn\\linear_model\\logistic.py:469: FutureWarning: Default multi_class will be changed to 'auto' in 0.22. Specify the multi_class option to silence this warning.\n",
      "  \"this warning.\", FutureWarning)\n"
     ]
    },
    {
     "data": {
      "text/plain": [
       "0.42668957617411224"
      ]
     },
     "execution_count": 143,
     "metadata": {},
     "output_type": "execute_result"
    }
   ],
   "source": [
    "#create the model\n",
    "logreg = LogisticRegression()\n",
    "\n",
    "\n",
    "#fit the model with training data\n",
    "logreg.fit(train_transformed, Y_train)\n",
    "\n",
    "final_score = logreg.score(test_transformed, Y_test)\n",
    "\n",
    "final_score"
   ]
  },
  {
   "cell_type": "code",
   "execution_count": 144,
   "metadata": {},
   "outputs": [],
   "source": [
    "predictions = logreg.predict(test_transformed)"
   ]
  },
  {
   "cell_type": "code",
   "execution_count": 187,
   "metadata": {},
   "outputs": [],
   "source": [
    "from sklearn.metrics import confusion_matrix\n",
    "def normed_cm(real, predictions):\n",
    "    \"\"\"Majority of code from:\n",
    "    https://scikit-learn.org/stable/auto_examples/model_selection/plot_confusion_matrix.html\n",
    "    to make a confusion matrix, given real labels and predicted labels\"\"\"\n",
    "    \n",
    "    #get the confusion matrix:\n",
    "    cm = confusion_matrix(real, predictions)\n",
    "    \n",
    "    #normalized\n",
    "    normed = []\n",
    "    for row in np.arange(3):\n",
    "         normed.append(cm[row]/sum(cm[row]))\n",
    "    cm = np.array(normed)\n",
    "\n",
    "    #axis and labels:\n",
    "    fig, ax = plt.subplots()\n",
    "    classes = [\"0-50\", \"51-200\", '200+']\n",
    "    im = ax.imshow(cm, interpolation='nearest', cmap=plt.cm.Blues)\n",
    "    ax.set(xticks=np.arange(cm.shape[1]),\n",
    "               yticks=np.arange(cm.shape[0]),\n",
    "               # ... and label them with the respective list entries\n",
    "               xticklabels=classes, yticklabels=classes,\n",
    "               title=\"Confusion Matrix for Clap Classification\",\n",
    "               ylabel='True label',\n",
    "               xlabel='Predicted label');\n",
    "    \n",
    "    # Rotate the tick labels and set their alignment.\n",
    "    plt.setp(ax.get_xticklabels(), rotation=45, ha=\"right\",\n",
    "             rotation_mode=\"anchor\")\n",
    "    # Loop over data dimensions and create text annotations.\n",
    "    fmt = '.2f'\n",
    "    thresh = cm.max() / 2.\n",
    "    for i in range(cm.shape[0]):\n",
    "        for j in range(cm.shape[1]):\n",
    "            ax.text(j, i, format(cm[i, j], fmt),\n",
    "                    ha=\"center\", va=\"center\",\n",
    "                    color=\"white\" if cm[i, j] > thresh else \"black\")\n",
    "    fig.tight_layout()\n",
    "    return ax"
   ]
  },
  {
   "cell_type": "code",
   "execution_count": 185,
   "metadata": {},
   "outputs": [
    {
     "data": {
      "text/plain": [
       "array(['0-50', '0-50', '50-200', ..., '50-200', '50-200', '50-200'],\n",
       "      dtype=object)"
      ]
     },
     "execution_count": 185,
     "metadata": {},
     "output_type": "execute_result"
    }
   ],
   "source": [
    "predictions"
   ]
  },
  {
   "cell_type": "code",
   "execution_count": 188,
   "metadata": {},
   "outputs": [
    {
     "data": {
      "text/plain": [
       "<matplotlib.axes._subplots.AxesSubplot at 0x1ee01bd6688>"
      ]
     },
     "execution_count": 188,
     "metadata": {},
     "output_type": "execute_result"
    },
    {
     "data": {
      "image/png": "[encoded data removed]",
      "text/plain": [
       "<Figure size 432x288 with 1 Axes>"
      ]
     },
     "metadata": {
      "needs_background": "light"
     },
     "output_type": "display_data"
    }
   ],
   "source": [
    "normed_cm(Y_test,predictions)"
   ]
  },
  {
   "cell_type": "code",
   "execution_count": null,
   "metadata": {},
   "outputs": [],
   "source": []
  }
 ],
 "metadata": {
  "kernelspec": {
   "display_name": "Python 3",
   "language": "python",
   "name": "python3"
  },
  "language_info": {
   "codemirror_mode": {
    "name": "ipython",
    "version": 3
   },
   "file_extension": ".py",
   "mimetype": "text/x-python",
   "name": "python",
   "nbconvert_exporter": "python",
   "pygments_lexer": "ipython3",
   "version": "3.7.4"
  }
 },
 "nbformat": 4,
 "nbformat_minor": 2
}
