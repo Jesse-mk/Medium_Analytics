{
 "cells": [
  {
   "cell_type": "code",
   "execution_count": 580,
   "metadata": {},
   "outputs": [],
   "source": [
    "import pandas as pd\n",
    "import numpy as np\n",
    "import matplotlib.pyplot as plt\n",
    "import seaborn as sn\n",
    "from sklearn.feature_extraction.text import TfidfVectorizer as tfidf\n",
    "from sklearn.model_selection import train_test_split\n",
    "from sklearn.neighbors import KNeighborsClassifier as knn\n",
    "from sklearn.tree import DecisionTreeClassifier\n",
    "from sklearn.linear_model import LogisticRegression\n",
    "from sklearn.model_selection import cross_val_score\n"
   ]
  },
  {
   "cell_type": "code",
   "execution_count": 581,
   "metadata": {},
   "outputs": [],
   "source": [
    "tech = pd.read_csv(\"/Users/jennayang/Documents/Medium Project Data/medium-tech-data.csv\")\n",
    "money = pd.read_csv(\"/Users/jennayang/Documents/Medium Project Data/Medium_Money_Data_final.csv\", index_col = 0) \n",
    "sports = pd.read_csv(\"/Users/jennayang/Documents/Medium Project Data/medium-sports-data.csv\", index_col = 0) \n",
    "politics = pd.read_csv(\"/Users/jennayang/Documents/Medium Project Data/Politics_data_full.csv\", index_col = 0) "
   ]
  },
  {
   "cell_type": "code",
   "execution_count": 582,
   "metadata": {},
   "outputs": [],
   "source": [
    "#there was a bug with the webscraping: people with 2020 claps have the wrong number of claps. \n",
    "#checked via website, having differing number of claps\n",
    "politics = politics[politics.claps != 2020]\n",
    "\n",
    "#get ratio of clap to followers, put as a new feature\n",
    "clap_ratio = politics.claps / politics.followers\n",
    "\n",
    "#get number of followers:\n",
    "followers = politics.followers\n",
    "\n",
    "#put the clap ratio as a new feature\n",
    "politics[\"clap_ratio\"] = clap_ratio\n",
    "\n"
   ]
  },
  {
   "cell_type": "code",
   "execution_count": 583,
   "metadata": {},
   "outputs": [],
   "source": [
    "#cleaning the data - removing nulls and empty vals\n",
    "tech = tech[pd.notnull(tech['text'])]\n",
    "tech.reset_index(inplace = True)\n",
    "\n",
    "sports = sports[pd.notnull(sports['text'])]\n",
    "sports.reset_index(inplace = True)\n",
    "\n",
    "politics = politics[pd.notnull(politics['text'])]\n",
    "politics.reset_index(inplace = True)\n",
    "\n",
    "money = money[pd.notnull(money['text'])] \n",
    "money.reset_index(inplace = True)\n",
    "\n",
    "politics = politics[~(politics.text == '[]')]\n",
    "money = money[~(money.text == '[]')]\n",
    "sports = sports[~(sports.text == '[]')]\n",
    "tech = tech[~(tech.text == '[]')]\n",
    "\n",
    "#shuffle and randomly select 2000 entries (downsampling tech and politics) (money keep at 1600) (sports keep at 2500)\n",
    "t = tech.sample(2000, replace= False)[[\"text\"]].reset_index(drop=True)\n",
    "s = sports.sample(len(sports), replace= False)[[\"text\"]].reset_index(drop=True)\n",
    "p = politics.sample(2000, replace= False)[[\"text\"]].reset_index(drop=True)\n",
    "m = money.sample(len(money), replace= False)[[\"text\"]].reset_index(drop=True)"
   ]
  },
  {
   "cell_type": "code",
   "execution_count": 584,
   "metadata": {},
   "outputs": [],
   "source": [
    "#Breaking our data up into training and test sets (80/20 split)\n",
    "pd.options.mode.chained_assignment = None #surpress warning\n",
    "\n",
    "#first, we need to add the labels\n",
    "t[\"label\"] = [0] * len(t)\n",
    "s[\"label\"] = [1] * len(s)\n",
    "p[\"label\"] = [2] * len(p)\n",
    "m[\"label\"] = [3] * len(m)\n",
    "\n",
    "#store index of 80/20 split\n",
    "ind_t = int(len(t) * 0.8)\n",
    "ind_s = int(len(s) * 0.8)\n",
    "ind_p = int(len(p) * 0.8)\n",
    "ind_m = int(len(m) * 0.8)\n",
    "\n",
    "#making the training set and test sets\n",
    "t_train = t.iloc[:ind_t] \n",
    "s_train = s.iloc[:ind_s] \n",
    "p_train = p.iloc[:ind_p] \n",
    "m_train = m.iloc[:ind_m] \n",
    "\n",
    "t_test = t.iloc[ind_t:] \n",
    "s_test = s.iloc[ind_s:] \n",
    "p_test = p.iloc[ind_p:] \n",
    "m_test = m.iloc[ind_m:] "
   ]
  },
  {
   "cell_type": "code",
   "execution_count": 585,
   "metadata": {},
   "outputs": [],
   "source": [
    "#combining all the topics into train and test\n",
    "ts = pd.concat([t_train, s_train], axis = 0)\n",
    "pm = pd.concat([p_train, m_train], axis = 0)\n",
    "train = pd.concat([ts, pm], axis = 0)\n",
    "\n",
    "ts_test = pd.concat([t_test, s_test], axis = 0)\n",
    "pm_test = pd.concat([p_test, m_test], axis = 0)\n",
    "test = pd.concat([ts_test, pm_test], axis = 0)"
   ]
  },
  {
   "cell_type": "code",
   "execution_count": 586,
   "metadata": {},
   "outputs": [],
   "source": [
    "#shuffling\n",
    "train = train.sample(frac = 1, replace = False).reset_index(drop=True)\n",
    "test = test.sample(frac = 1, replace = False).reset_index(drop=True)\n",
    "\n",
    "#get X and Y data from the sets\n",
    "X_train = train.text\n",
    "Y_train = train.label\n",
    "\n",
    "X_test = test.text\n",
    "Y_test = test.label\n"
   ]
  },
  {
   "cell_type": "code",
   "execution_count": 587,
   "metadata": {},
   "outputs": [
    {
     "data": {
      "text/html": [
       "<div>\n",
       "<style scoped>\n",
       "    .dataframe tbody tr th:only-of-type {\n",
       "        vertical-align: middle;\n",
       "    }\n",
       "\n",
       "    .dataframe tbody tr th {\n",
       "        vertical-align: top;\n",
       "    }\n",
       "\n",
       "    .dataframe thead th {\n",
       "        text-align: right;\n",
       "    }\n",
       "</style>\n",
       "<table border=\"1\" class=\"dataframe\">\n",
       "  <thead>\n",
       "    <tr style=\"text-align: right;\">\n",
       "      <th></th>\n",
       "      <th>text</th>\n",
       "      <th>label</th>\n",
       "    </tr>\n",
       "  </thead>\n",
       "  <tbody>\n",
       "    <tr>\n",
       "      <td>0</td>\n",
       "      <td>When Jim Bouton died on July 10th, attention f...</td>\n",
       "      <td>1</td>\n",
       "    </tr>\n",
       "    <tr>\n",
       "      <td>1</td>\n",
       "      <td>['[Saudi Arabia isn’t a very lovable country, ...</td>\n",
       "      <td>2</td>\n",
       "    </tr>\n",
       "    <tr>\n",
       "      <td>2</td>\n",
       "      <td>Look. We all do it. Everyone tries to concoct ...</td>\n",
       "      <td>1</td>\n",
       "    </tr>\n",
       "    <tr>\n",
       "      <td>3</td>\n",
       "      <td>['[You’ve recently graduated (or maybe you’ve ...</td>\n",
       "      <td>3</td>\n",
       "    </tr>\n",
       "    <tr>\n",
       "      <td>4</td>\n",
       "      <td>This blog post has been published in the conte...</td>\n",
       "      <td>0</td>\n",
       "    </tr>\n",
       "  </tbody>\n",
       "</table>\n",
       "</div>"
      ],
      "text/plain": [
       "                                                text  label\n",
       "0  When Jim Bouton died on July 10th, attention f...      1\n",
       "1  ['[Saudi Arabia isn’t a very lovable country, ...      2\n",
       "2  Look. We all do it. Everyone tries to concoct ...      1\n",
       "3  ['[You’ve recently graduated (or maybe you’ve ...      3\n",
       "4  This blog post has been published in the conte...      0"
      ]
     },
     "execution_count": 587,
     "metadata": {},
     "output_type": "execute_result"
    }
   ],
   "source": [
    "train.head()"
   ]
  },
  {
   "cell_type": "code",
   "execution_count": 588,
   "metadata": {},
   "outputs": [
    {
     "name": "stdout",
     "output_type": "stream",
     "text": [
      "['000', 'american', 'best', 'better', 'day', 'did', 'does', 'dont', 'financial', 'game', 'going', 'good', 'government', 'home', 'im', 'income', 'just', 'know', 'life', 'like', 'long', 'make', 'market', 'money', 'need', 'new', 'pay', 'people', 'point', 'political', 'president', 'really', 'right', 'said', 'say', 'states', 'team', 'thats', 'things', 'think', 'time', 'trump', 'use', 'want', 'way', 'work', 'world', 'year', 'years', 'youre']\n"
     ]
    }
   ],
   "source": [
    "#create the vector\n",
    "#focus on max_features as well\n",
    "vector = tfidf(stop_words = \"english\", strip_accents = 'ascii', max_features = 50)\n",
    "\n",
    "#fit the data\n",
    "vector.fit(X_train)\n",
    "\n",
    "#look at the vectorizer\n",
    "print(vector.get_feature_names())\n"
   ]
  },
  {
   "cell_type": "code",
   "execution_count": 590,
   "metadata": {},
   "outputs": [
    {
     "data": {
      "text/plain": [
       "(<4902x50 sparse matrix of type '<class 'numpy.float64'>'\n",
       " \twith 66395 stored elements in Compressed Sparse Row format>,\n",
       " <1635x50 sparse matrix of type '<class 'numpy.float64'>'\n",
       " \twith 22550 stored elements in Compressed Sparse Row format>)"
      ]
     },
     "execution_count": 590,
     "metadata": {},
     "output_type": "execute_result"
    }
   ],
   "source": [
    "#transforming the data, manipulating it based on the weights we \n",
    "#determined before by fitting our data \n",
    "train_transformed = vector.transform(X_train)\n",
    "test_transformed = vector.transform(X_test)\n",
    "\n",
    "#splitting\n",
    "train_test_split(train_transformed, Y_train)[0], train_test_split(train_transformed, Y_train)[1]"
   ]
  },
  {
   "cell_type": "code",
   "execution_count": null,
   "metadata": {},
   "outputs": [],
   "source": []
  },
  {
   "cell_type": "code",
   "execution_count": 598,
   "metadata": {
    "scrolled": false
   },
   "outputs": [
    {
     "data": {
      "text/plain": [
       "KNeighborsClassifier(algorithm='auto', leaf_size=30, metric='minkowski',\n",
       "                     metric_params=None, n_jobs=None, n_neighbors=37, p=2,\n",
       "                     weights='uniform')"
      ]
     },
     "execution_count": 598,
     "metadata": {},
     "output_type": "execute_result"
    }
   ],
   "source": [
    "#create the KNN model\n",
    "knearest = knn(n_neighbors = 37)\n",
    "\n",
    "#fit the model with training data\n",
    "knearest.fit(train_transformed, Y_train)\n"
   ]
  },
  {
   "cell_type": "code",
   "execution_count": 599,
   "metadata": {},
   "outputs": [
    {
     "data": {
      "text/plain": [
       "0.746177370030581"
      ]
     },
     "execution_count": 599,
     "metadata": {},
     "output_type": "execute_result"
    }
   ],
   "source": [
    "knearest.score(test_transformed, Y_test)"
   ]
  },
  {
   "cell_type": "markdown",
   "metadata": {},
   "source": [
    "# Hyperparameter Tuning and Cross Validation"
   ]
  },
  {
   "cell_type": "code",
   "execution_count": 591,
   "metadata": {},
   "outputs": [
    {
     "data": {
      "image/png": "[encoded data removed]",
      "text/plain": [
       "<Figure size 432x288 with 1 Axes>"
      ]
     },
     "metadata": {
      "needs_background": "light"
     },
     "output_type": "display_data"
    }
   ],
   "source": [
    "#Cross Validation for k\n",
    "\n",
    "# creating odd list of k for KNN (to prevent ties)\n",
    "neighbors = list(range(1, 50, 2))\n",
    "# empty list that will hold cv scores\n",
    "cv_scores = []\n",
    "\n",
    "\n",
    "# perform 10-fold cross validation\n",
    "for k in neighbors:\n",
    "    knearest = knn(n_neighbors = k)\n",
    "    scores = cross_val_score(knearest, train_transformed, Y_train, cv = 10, scoring='accuracy')\n",
    "    cv_scores.append(scores.mean())\n",
    "    \n",
    "# plot of accuracies for different k \n",
    "plt.plot(neighbors, cv_scores)\n",
    "plt.xlabel('Value of K for KNN')\n",
    "plt.ylabel('Cross-Validated Accuracy')\n",
    "plt.show()"
   ]
  },
  {
   "cell_type": "code",
   "execution_count": 592,
   "metadata": {},
   "outputs": [],
   "source": [
    "#Trying different k values\n",
    "knn_scores = []\n",
    "\n",
    "for i in range(1, 50, 2):\n",
    "    knearest = knn(n_neighbors = i)\n",
    "    knearest.fit(train_transformed, Y_train)\n",
    "    \n",
    "    knn_scores.append(knearest.score(test_transformed, Y_test))"
   ]
  },
  {
   "cell_type": "code",
   "execution_count": 595,
   "metadata": {},
   "outputs": [
    {
     "data": {
      "text/plain": [
       "[0.7137614678899082,\n",
       " 0.7223241590214067,\n",
       " 0.7345565749235474,\n",
       " 0.6978593272171254,\n",
       " 0.6984709480122324,\n",
       " 0.7064220183486238,\n",
       " 0.7033639143730887,\n",
       " 0.708868501529052,\n",
       " 0.7351681957186544,\n",
       " 0.7363914373088685,\n",
       " 0.7388379204892966,\n",
       " 0.7363914373088685,\n",
       " 0.7425076452599388,\n",
       " 0.7388379204892966,\n",
       " 0.7437308868501529,\n",
       " 0.7394495412844037,\n",
       " 0.7370030581039755,\n",
       " 0.7431192660550459,\n",
       " 0.746177370030581,\n",
       " 0.7388379204892966,\n",
       " 0.7376146788990826,\n",
       " 0.7382262996941896,\n",
       " 0.7412844036697248,\n",
       " 0.7406727828746177,\n",
       " 0.7425076452599388]"
      ]
     },
     "execution_count": 595,
     "metadata": {},
     "output_type": "execute_result"
    }
   ],
   "source": [
    "knn_scores"
   ]
  },
  {
   "cell_type": "code",
   "execution_count": 597,
   "metadata": {},
   "outputs": [
    {
     "data": {
      "text/plain": [
       "37"
      ]
     },
     "execution_count": 597,
     "metadata": {},
     "output_type": "execute_result"
    }
   ],
   "source": [
    "best_k = (knn_scores.index(max(knn_scores)) + 1) * 2 - 1\n",
    "best_k"
   ]
  },
  {
   "cell_type": "markdown",
   "metadata": {},
   "source": [
    "# Analysis"
   ]
  },
  {
   "cell_type": "code",
   "execution_count": null,
   "metadata": {},
   "outputs": [],
   "source": [
    "Clusters?\n",
    "Suprevised and Unsuprevised - clarify\n",
    "confusion matrix?"
   ]
  }
 ],
 "metadata": {
  "kernelspec": {
   "display_name": "Python 3",
   "language": "python",
   "name": "python3"
  },
  "language_info": {
   "codemirror_mode": {
    "name": "ipython",
    "version": 3
   },
   "file_extension": ".py",
   "mimetype": "text/x-python",
   "name": "python",
   "nbconvert_exporter": "python",
   "pygments_lexer": "ipython3",
   "version": "3.7.4"
  }
 },
 "nbformat": 4,
 "nbformat_minor": 2
}
