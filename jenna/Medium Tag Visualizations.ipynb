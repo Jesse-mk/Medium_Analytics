{
 "cells": [
  {
   "cell_type": "markdown",
   "metadata": {},
   "source": [
    "# Medium Tags"
   ]
  },
  {
   "cell_type": "code",
   "execution_count": 88,
   "metadata": {},
   "outputs": [],
   "source": [
    "import seaborn as sns\n",
    "import matplotlib.pyplot as plt\n",
    "import pandas as pd\n",
    "import os\n",
    "import ast"
   ]
  },
  {
   "cell_type": "code",
   "execution_count": 113,
   "metadata": {},
   "outputs": [],
   "source": [
    "#get csv files into dataframes and clean dataset\n",
    "\n",
    "tech = pd.read_csv(\"/Users/jennayang/Documents/Medium Project Data/medium-tech-data.csv\")\n",
    "tech.drop(tech.columns[[0, 10, 11]], axis = 1, inplace = True)\n",
    "tech = tech[tech.tags != '[]']  #drop rows that have no tags\n",
    "tech = tech.dropna() #drop empty rows\n",
    "tech.reset_index(inplace = True)"
   ]
  },
  {
   "cell_type": "code",
   "execution_count": 135,
   "metadata": {},
   "outputs": [],
   "source": [
    "money = pd.read_csv(\"/Users/jennayang/Documents/Medium Project Data/Money_Tags.csv\") \n",
    "money = money[money.tags != '[]']  #drop rows that have no tags\n",
    "money = money.dropna() #drop empty rows\n",
    "money.reset_index(inplace = True)"
   ]
  },
  {
   "cell_type": "code",
   "execution_count": 91,
   "metadata": {},
   "outputs": [],
   "source": [
    "sports = pd.read_csv(\"/Users/jennayang/Documents/Medium Project Data/medium-sports-data.csv\") \n",
    "sports = sports[sports.tags != '[]']  #drop rows that have no tags\n",
    "sports = sports.dropna() #drop empty rows\n",
    "sports.reset_index(inplace = True)"
   ]
  },
  {
   "cell_type": "code",
   "execution_count": 176,
   "metadata": {},
   "outputs": [],
   "source": [
    "politics = pd.read_csv(\"/Users/jennayang/Documents/Medium Project Data/Politics_data_full.csv\") \n",
    "politics = politics[politics.tags != '[]']  #drop rows that have no tags\n",
    "politics = politics.dropna() #drop empty rows\n",
    "politics.reset_index(inplace = True)"
   ]
  },
  {
   "cell_type": "markdown",
   "metadata": {},
   "source": [
    "# Wrangling - Creating aggregation of tags"
   ]
  },
  {
   "cell_type": "markdown",
   "metadata": {},
   "source": [
    "The \"tags\" column stores string representations of lists, so we must convert them to lists for easier access to the specific tags. Then, we will take aggregate all tags into a series --> dataframe to analyze them."
   ]
  },
  {
   "cell_type": "code",
   "execution_count": 130,
   "metadata": {},
   "outputs": [],
   "source": [
    "#String to list conversion\n",
    "\n",
    "pd.options.mode.chained_assignment = None  # default='warn'  #removes warning of copy\n",
    "\n",
    "#TECH\n",
    "for i in range(len(tech)):\n",
    "    string_lst = tech['tags'][i]\n",
    "    bracket = '['\n",
    "    if bracket in string_lst: #makes sure that the string is a list representation\n",
    "        lst = ast.literal_eval(string_lst)\n",
    "        tech['tags'][i] = lst"
   ]
  },
  {
   "cell_type": "code",
   "execution_count": 131,
   "metadata": {},
   "outputs": [],
   "source": [
    "#MONEY\n",
    "for i in range(len(money)):\n",
    "    string_lst = money['tags'][i]\n",
    "    bracket = '['\n",
    "    if bracket in string_lst: #makes sure that the string is a list representation\n",
    "        lst = ast.literal_eval(string_lst)\n",
    "        money['tags'][i] = lst"
   ]
  },
  {
   "cell_type": "code",
   "execution_count": 94,
   "metadata": {},
   "outputs": [],
   "source": [
    "#SPORTS\n",
    "for i in range(len(sports)):\n",
    "    string_lst = sports['tags'][i]\n",
    "    bracket = '['\n",
    "    if bracket in string_lst: #makes sure that the string is a list representation\n",
    "        lst = ast.literal_eval(string_lst)\n",
    "        sports['tags'][i] = lst"
   ]
  },
  {
   "cell_type": "code",
   "execution_count": 178,
   "metadata": {},
   "outputs": [],
   "source": [
    "#POLITICS\n",
    "for i in range(len(politics)):\n",
    "    string_lst = politics['tags'][i]\n",
    "    bracket = '['\n",
    "    if bracket in string_lst: #makes sure that the string is a list representation\n",
    "        lst = ast.literal_eval(string_lst)\n",
    "        politics['tags'][i] = lst"
   ]
  },
  {
   "cell_type": "code",
   "execution_count": 115,
   "metadata": {},
   "outputs": [],
   "source": [
    "#store all tags into big list and make dataframe\n",
    "\n",
    "#TECH\n",
    "tech_lst = []\n",
    "for tag_lst in tech['tags']:\n",
    "    for i in range(len(tag_lst)):\n",
    "        tech_lst.append(tag_lst[i])\n",
    "tags = pd.Series(tech_lst, name = 'tags') #convert list to series\n",
    "tech_tags = tags.to_frame()"
   ]
  },
  {
   "cell_type": "code",
   "execution_count": 132,
   "metadata": {},
   "outputs": [],
   "source": [
    "#MONEY\n",
    "money_lst = []\n",
    "for tag_lst in money['tags']:\n",
    "    for i in range(len(tag_lst)):\n",
    "        money_lst.append(tag_lst[i])\n",
    "tags = pd.Series(money_lst, name = 'tags') #convert list to series\n",
    "money_tags = tags.to_frame()"
   ]
  },
  {
   "cell_type": "code",
   "execution_count": 97,
   "metadata": {},
   "outputs": [],
   "source": [
    "#SPORTS\n",
    "sports_lst = []\n",
    "for tag_lst in sports['tags']:\n",
    "    for i in range(len(tag_lst)):\n",
    "        sports_lst.append(tag_lst[i])\n",
    "tags = pd.Series(sports_lst, name = 'tags') #convert list to series\n",
    "sports_tags = tags.to_frame()"
   ]
  },
  {
   "cell_type": "code",
   "execution_count": 179,
   "metadata": {},
   "outputs": [],
   "source": [
    "#POLITICS\n",
    "politics_lst = []\n",
    "for tag_lst in politics['tags']:\n",
    "    for i in range(len(tag_lst)):\n",
    "        politics_lst.append(tag_lst[i])\n",
    "tags = pd.Series(politics_lst, name = 'tags') #convert list to series\n",
    "politics_tags = tags.to_frame()"
   ]
  },
  {
   "cell_type": "markdown",
   "metadata": {},
   "source": [
    "# Technology Tags"
   ]
  },
  {
   "cell_type": "code",
   "execution_count": 116,
   "metadata": {},
   "outputs": [
    {
     "data": {
      "text/plain": [
       "(array([0, 1, 2, 3, 4, 5, 6, 7, 8, 9]), <a list of 10 Text xticklabel objects>)"
      ]
     },
     "execution_count": 116,
     "metadata": {},
     "output_type": "execute_result"
    },
    {
     "data": {
      "image/png": "[encoded data removed]",
      "text/plain": [
       "<Figure size 432x288 with 1 Axes>"
      ]
     },
     "metadata": {
      "needs_background": "light"
     },
     "output_type": "display_data"
    }
   ],
   "source": [
    "sns.countplot(x = 'tags', data = tech_tags, order = tech_tags.tags.value_counts().iloc[:10].index)\n",
    "plt.xticks(rotation=-90)\n"
   ]
  },
  {
   "cell_type": "markdown",
   "metadata": {},
   "source": [
    "# Money Tags"
   ]
  },
  {
   "cell_type": "code",
   "execution_count": 136,
   "metadata": {},
   "outputs": [
    {
     "data": {
      "text/plain": [
       "(array([0, 1, 2, 3, 4, 5, 6, 7, 8, 9]), <a list of 10 Text xticklabel objects>)"
      ]
     },
     "execution_count": 136,
     "metadata": {},
     "output_type": "execute_result"
    },
    {
     "data": {
      "image/png": "[encoded data removed]",
      "text/plain": [
       "<Figure size 432x288 with 1 Axes>"
      ]
     },
     "metadata": {
      "needs_background": "light"
     },
     "output_type": "display_data"
    }
   ],
   "source": [
    "sns.countplot(x = 'tags', data = money_tags, order = money_tags.tags.value_counts().iloc[:10].index)\n",
    "plt.xticks(rotation=-90)"
   ]
  },
  {
   "cell_type": "markdown",
   "metadata": {},
   "source": [
    "# Sports Tags"
   ]
  },
  {
   "cell_type": "code",
   "execution_count": 118,
   "metadata": {},
   "outputs": [
    {
     "data": {
      "text/plain": [
       "(array([0, 1, 2, 3, 4, 5, 6, 7, 8, 9]), <a list of 10 Text xticklabel objects>)"
      ]
     },
     "execution_count": 118,
     "metadata": {},
     "output_type": "execute_result"
    },
    {
     "data": {
      "image/png": "[encoded data removed]",
      "text/plain": [
       "<Figure size 432x288 with 1 Axes>"
      ]
     },
     "metadata": {
      "needs_background": "light"
     },
     "output_type": "display_data"
    }
   ],
   "source": [
    "sns.countplot(x = 'tags', data = sports_tags, order = sports_tags.tags.value_counts().iloc[:10].index)\n",
    "plt.xticks(rotation=-90)"
   ]
  },
  {
   "cell_type": "markdown",
   "metadata": {},
   "source": [
    "With these charts, we were trying to answer the question: what were the most common tags that authors chose to use for their articles for each topic? Based on the graphs, it looks like the most common tag by far among all topics was the topic itself (i.e Technology articles most commonly used the \"Technology\" tag), which is somewhat expected. Beyond those, we can see the subtopics within each topic that seem to be the most popular, including personal finances for the money topic and NBA for Sports. \n",
    "    "
   ]
  },
  {
   "cell_type": "markdown",
   "metadata": {},
   "source": [
    "# Politics Tags"
   ]
  },
  {
   "cell_type": "code",
   "execution_count": 181,
   "metadata": {},
   "outputs": [
    {
     "data": {
      "text/plain": [
       "(array([0, 1, 2, 3, 4, 5, 6, 7, 8, 9]), <a list of 10 Text xticklabel objects>)"
      ]
     },
     "execution_count": 181,
     "metadata": {},
     "output_type": "execute_result"
    },
    {
     "data": {
      "image/png": "[encoded data removed]",
      "text/plain": [
       "<Figure size 432x288 with 1 Axes>"
      ]
     },
     "metadata": {
      "needs_background": "light"
     },
     "output_type": "display_data"
    }
   ],
   "source": [
    "sns.countplot(x = 'tags', data = politics_tags, order = politics_tags.tags.value_counts().iloc[:10].index)\n",
    "plt.xticks(rotation=-90)"
   ]
  },
  {
   "cell_type": "markdown",
   "metadata": {},
   "source": [
    "# Sports - Data Science "
   ]
  },
  {
   "cell_type": "code",
   "execution_count": 166,
   "metadata": {},
   "outputs": [],
   "source": [
    "sports1 = pd.read_csv(\"/Users/jennayang/Documents/Medium Project Data/medium-sports-data.csv\") \n",
    "sports1 = sports1[sports1.tags != '[]']  #drop rows that have no tags\n",
    "sports1 = sports1.dropna() #drop empty rows\n",
    "sports1.reset_index(inplace = True)"
   ]
  },
  {
   "cell_type": "code",
   "execution_count": 171,
   "metadata": {},
   "outputs": [],
   "source": [
    "sports1 = sports1[sports1['tags'].str.contains(\"Data\")]\n",
    "sports1.reset_index(inplace = True)"
   ]
  },
  {
   "cell_type": "code",
   "execution_count": 173,
   "metadata": {},
   "outputs": [],
   "source": [
    "#SPORTS - DATA SCIENCE\n",
    "for i in range(len(sports1)):\n",
    "    string_lst = sports1['tags'][i]\n",
    "    bracket = '['\n",
    "    if bracket in string_lst: #makes sure that the string is a list representation\n",
    "        lst = ast.literal_eval(string_lst)\n",
    "        sports1['tags'][i] = lst\n",
    "        \n",
    "sports1_lst = []\n",
    "for tag_lst in sports1['tags']:\n",
    "    for i in range(len(tag_lst)):\n",
    "        sports1_lst.append(tag_lst[i])\n",
    "tags = pd.Series(sports1_lst, name = 'tags') #convert list to series\n",
    "sports1_tags = tags.to_frame()"
   ]
  },
  {
   "cell_type": "code",
   "execution_count": 174,
   "metadata": {},
   "outputs": [
    {
     "data": {
      "text/plain": [
       "(array([0, 1, 2, 3, 4, 5, 6, 7, 8, 9]), <a list of 10 Text xticklabel objects>)"
      ]
     },
     "execution_count": 174,
     "metadata": {},
     "output_type": "execute_result"
    },
    {
     "data": {
      "image/png": "[encoded data removed]",
      "text/plain": [
       "<Figure size 432x288 with 1 Axes>"
      ]
     },
     "metadata": {
      "needs_background": "light"
     },
     "output_type": "display_data"
    }
   ],
   "source": [
    "sns.countplot(x = 'tags', data = sports1_tags, order = sports1_tags.tags.value_counts().iloc[:10].index)\n",
    "plt.xticks(rotation=-90)"
   ]
  },
  {
   "cell_type": "markdown",
   "metadata": {},
   "source": [
    "Here I was interested in seeing the connection between data tags in the sports topic. It looks like many articles overlap between sports and data science, likely doing meaningful data analyses on sports/games."
   ]
  },
  {
   "cell_type": "code",
   "execution_count": null,
   "metadata": {},
   "outputs": [],
   "source": []
  }
 ],
 "metadata": {
  "kernelspec": {
   "display_name": "Python 3",
   "language": "python",
   "name": "python3"
  },
  "language_info": {
   "codemirror_mode": {
    "name": "ipython",
    "version": 3
   },
   "file_extension": ".py",
   "mimetype": "text/x-python",
   "name": "python",
   "nbconvert_exporter": "python",
   "pygments_lexer": "ipython3",
   "version": "3.7.4"
  }
 },
 "nbformat": 4,
 "nbformat_minor": 2
}
