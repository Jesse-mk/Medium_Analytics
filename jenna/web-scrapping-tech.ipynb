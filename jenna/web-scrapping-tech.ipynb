{
 "cells": [
  {
   "cell_type": "markdown",
   "metadata": {},
   "source": [
    "# Web Scraping Medium's Tech Page\n"
   ]
  },
  {
   "cell_type": "code",
   "execution_count": 207,
   "metadata": {},
   "outputs": [],
   "source": [
    "from bs4 import BeautifulSoup as bs\n",
    "from selenium import webdriver\n",
    "from selenium\n",
    "import requests"
   ]
  },
  {
   "cell_type": "code",
   "execution_count": 208,
   "metadata": {},
   "outputs": [],
   "source": [
    "page = requests.get('https://medium.com/topic/technology')\n",
    "soup = bs(page.content, 'html5lib')"
   ]
  },
  {
   "cell_type": "code",
   "execution_count": 225,
   "metadata": {},
   "outputs": [],
   "source": [
    "#collect all articles on page\n",
    "all_articles = soup.find_all('section');"
   ]
  },
  {
   "cell_type": "code",
   "execution_count": 223,
   "metadata": {},
   "outputs": [],
   "source": [
    "#extract and collect all urls into page_links list\n",
    "total_page_links = []\n",
    "page_links = []\n",
    "\n",
    "#collect the urls for each article\n",
    "for article in all_articles:\n",
    "    hyperlink = article.contents[0].find_all('a')[0]\n",
    "    url = 'https://medium.com' + hyperlink.get('href')\n",
    "    total_page_links.append(url)\n",
    "    \n",
    "#remove duplicates\n",
    "for url in total_page_links:\n",
    "    if url not in page_links:\n",
    "        page_links.append(url);\n",
    "        "
   ]
  },
  {
   "cell_type": "code",
   "execution_count": 224,
   "metadata": {},
   "outputs": [
    {
     "data": {
      "text/plain": [
       "['Robert Eriksson',\n",
       " 'Louise',\n",
       " 'Aphinya Dechalert',\n",
       " 'Logic Magazine',\n",
       " 'Logic Magazine',\n",
       " 'Logic Magazine',\n",
       " 'Adam French',\n",
       " 'Logic Magazine',\n",
       " 'MIT Technology Review',\n",
       " 'PCMag',\n",
       " 'Bloomberg Businessweek',\n",
       " 'Fast Company']"
      ]
     },
     "execution_count": 224,
     "metadata": {},
     "output_type": "execute_result"
    }
   ],
   "source": [
    "authors = []\n",
    "titles = []\n",
    "dates = []\n",
    "article_text = []\n",
    "\n",
    "for url in page_links:\n",
    "\n",
    "    #parse with beautiful soup\n",
    "    page = requests.get(url)\n",
    "    soup = bs(page.text, 'html5lib') \n",
    "    \n",
    "    #collect titles\n",
    "    the_title = soup.find_all('meta', {\"name\" : \"title\"})[0].get('content')\n",
    "    title.append(the_title)\n",
    "    \n",
    "    #collect authors - duplicates?\n",
    "    the_author = soup.find_all('meta', {\"name\" : \"author\"})[0].get('content')\n",
    "    authors.append(the_author)\n",
    "    \n",
    "    #collect dates\n",
    "    the_date = soup.find_all('meta', {\"property\" : \"article:published_time\"})[0].get('content')\n",
    "    dates.append(the_date)\n",
    "    \n",
    "    \n",
    "    \n",
    "\n",
    "authors"
   ]
  },
  {
   "cell_type": "code",
   "execution_count": 231,
   "metadata": {},
   "outputs": [
    {
     "data": {
      "text/plain": [
       "[<p class=\"ez fa ar by fb b fc fd fe ff fg fh fi fj fk fl fm\" id=\"a48f\">An environment variable in a named object containing data which can be used by multiple applications or processes. Basically, it is just a variable with a name and an associated value. It can be used to determine anything like location of executable files, libraries, current working directory, default shell, or local system settings.</p>,\n",
       " <p class=\"ez fa ar by fb b fc fd fe ff fg fh fi fj fk fl fm\" id=\"2f10\">For those new to mac can get overwhelmed with how to set up and manage these environment variables. This guide provides easy ways to do so.</p>,\n",
       " <p class=\"ez fa ar by fb b fc fd fe ff fg fh fi fj fk fl fm\" id=\"53ee\"><strong class=\"fb fn\">Displaying current Environment Variables</strong></p>,\n",
       " <p class=\"ez fa ar by fb b fc fd fe ff fg fh fi fj fk fl fm\" id=\"b83e\">This is very easy. Just open the <em class=\"fo\">Terminal</em> and run the command <code class=\"fp fq fr fs ft b\">printenv</code> as shown below.</p>,\n",
       " <p class=\"ez fa ar by fb b fc fd fe ff fg fh fi fj fk fl fm\" id=\"74c5\">This will list all the environment variables currently set.</p>,\n",
       " <p class=\"ez fa ar by fb b fc fd fe ff fg fh fi fj fk fl fm\" id=\"4f72\">However, for displaying the value of any specific environment variable run the <code class=\"fp fq fr fs ft b\">echo $[variable name]</code> on the terminal, as shown below.</p>,\n",
       " <p class=\"ez fa ar by fb b fc fd fe ff fg fh fi fj fk fl fm\" id=\"eee4\"><strong class=\"fb fn\">Setting temporary environment variable using terminal</strong></p>,\n",
       " <p class=\"ez fa ar by fb b fc fd fe ff fg fh fi fj fk fl fm\" id=\"c5c7\">If the environment variable you wish to set is to be used once or twice, you would like to set a temporary variable for it, avoiding unwanted variables staying in the system. You can do this simply by opening the terminal and running <code class=\"fp fq fr fs ft b\">export</code> command followed by the variable name and its value.</p>,\n",
       " <p class=\"ez fa ar by fb b fc fd fe ff fg fh fi fj fk fl fm\" id=\"e486\">The above example sets the variable <code class=\"fp fq fr fs ft b\">$JAVA_HOME</code> to the specified value. However, if your requirement is to append a value to an existing environment variable, then assign the value as</p>,\n",
       " <p class=\"ez fa ar by fb b fc fd fe ff fg fh fi fj fk fl fm\" id=\"9689\"><code class=\"fp fq fr fs ft b\">export [existing_variable_name]=[new_value]:$[existing_variable_name]</code></p>,\n",
       " <p class=\"ez fa ar by fb b fc fd fe ff fg fh fi fj fk fl fm\" id=\"02ba\">the ‘:’ here append the value to the existing value. See example below.</p>,\n",
       " <p class=\"ez fa ar by fb b fc fd fe ff fg fh fi fj fk fl fm\" id=\"6dad\"><strong class=\"fb fn\">Setting permanent environment variable using terminal</strong></p>,\n",
       " <p class=\"ez fa ar by fb b fc fd fe ff fg fh fi fj fk fl fm\" id=\"246c\">Since Mac uses bash shell, so the environment variables can be added to the <code class=\"fp fq fr fs ft b\">.bash_profile</code> directory, for the current user. The path to this file can be found using the command</p>,\n",
       " <p class=\"ez fa ar by fb b fc fd fe ff fg fh fi fj fk fl fm\" id=\"178e\">Get started by opening this file using a text editor. I’m using nano — a terminal based text editor, you may use any text editor you like — to open the file and edit it.</p>,\n",
       " <p class=\"ez fa ar by fb b fc fd fe ff fg fh fi fj fk fl fm\" id=\"d7fd\">This will open the <code class=\"fp fq fr fs ft b\">.bash_profile</code> file in the terminal.</p>,\n",
       " <p class=\"ez fa ar by fb b fc fd fe ff fg fh fi fj fk fl fm\" id=\"926a\">Note: If there is no file named <code class=\"fp fq fr fs ft b\">.bash_profile</code>, then this above <code class=\"fp fq fr fs ft b\">nano</code> command will create a new file named <code class=\"fp fq fr fs ft b\">.bash_profile</code> .</p>,\n",
       " <p class=\"ez fa ar by fb b fc fd fe ff fg fh fi fj fk fl fm\" id=\"3a95\">Now move to the end of the file, go to the next line. Now add the desired environment variables using <code class=\"fp fq fr fs ft b\">export</code> command as we did before.</p>,\n",
       " <p class=\"ez fa ar by fb b fc fd fe ff fg fh fi fj fk fl fm\" id=\"1e96\">Press <code class=\"fp fq fr fs ft b\">ctrl+X</code> to exit the editor. Press ‘<code class=\"fp fq fr fs ft b\">Y</code>’ for saving the buffer, and you will return back to the terminal screen.</p>,\n",
       " <p class=\"ez fa ar by fb b fc fd fe ff fg fh fi fj fk fl fm\" id=\"aab1\">We are done now!</p>,\n",
       " <p class=\"ez fa ar by fb b fc fd fe ff fg fh fi fj fk fl fm\" id=\"b822\">You may again run <code class=\"fp fq fr fs ft b\">echo $[variable_name]</code> to see the value of your just saved environment variable.</p>,\n",
       " <p class=\"ez fa ar by fb b fc fd fe ff fg fh fi fj fk fl fm\" id=\"faa3\">UPDATE: Don’t forget to close and reopen the terminal before using your newly set environment variable. Reopening the terminal loads the updated .bash_profile file.</p>,\n",
       " <p class=\"bx eg ey bz cc js jt\">Written by</p>]"
      ]
     },
     "execution_count": 231,
     "metadata": {},
     "output_type": "execute_result"
    }
   ],
   "source": [
    "#testing block\n",
    "the_url = 'https://medium.com/@himanshuagarwal1395/setting-up-environment-variables-in-macos-sierra-f5978369b255'\n",
    "page = requests.get(the_url)\n",
    "soup = bs(page.content, 'html5lib')\n",
    "soup.find_all('p')\n",
    "\n"
   ]
  },
  {
   "cell_type": "code",
   "execution_count": 229,
   "metadata": {},
   "outputs": [
    {
     "name": "stdout",
     "output_type": "stream",
     "text": [
      "Collecting selenium\n",
      "\u001b[?25l  Downloading https://files.pythonhosted.org/packages/80/d6/4294f0b4bce4de0abf13e17190289f9d0613b0a44e5dd6a7f5ca98459853/selenium-3.141.0-py2.py3-none-any.whl (904kB)\n",
      "\u001b[K     |████████████████████████████████| 911kB 2.8MB/s eta 0:00:01\n",
      "\u001b[?25hRequirement already satisfied: urllib3 in /Users/jennayang/opt/anaconda3/lib/python3.7/site-packages (from selenium) (1.24.2)\n",
      "Installing collected packages: selenium\n",
      "Successfully installed selenium-3.141.0\n"
     ]
    }
   ],
   "source": [
    "!pip install selenium"
   ]
  },
  {
   "cell_type": "code",
   "execution_count": null,
   "metadata": {},
   "outputs": [],
   "source": [
    "browser = webdriver.Chrome(executable_path = r\"C:/Users/jennayang/Documents/chromedriver\")\n",
    "\n"
   ]
  }
 ],
 "metadata": {
  "kernelspec": {
   "display_name": "Python 3",
   "language": "python",
   "name": "python3"
  },
  "language_info": {
   "codemirror_mode": {
    "name": "ipython",
    "version": 3
   },
   "file_extension": ".py",
   "mimetype": "text/x-python",
   "name": "python",
   "nbconvert_exporter": "python",
   "pygments_lexer": "ipython3",
   "version": "3.7.4"
  }
 },
 "nbformat": 4,
 "nbformat_minor": 2
}
