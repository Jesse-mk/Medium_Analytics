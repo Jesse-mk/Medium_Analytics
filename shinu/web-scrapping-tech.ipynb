{
 "cells": [
  {
   "cell_type": "code",
   "execution_count": 1,
   "metadata": {},
   "outputs": [],
   "source": [
    "from bs4 import BeautifulSoup as bs\n",
    "from selenium import webdriver\n",
    "from selenium.webdriver.common.keys import Keys\n",
    "from selenium.webdriver.support.ui import WebDriverWait\n",
    "import pandas as pd\n",
    "import re\n",
    "import os\n",
    "import urllib.request\n",
    "import time"
   ]
  },
  {
   "cell_type": "code",
   "execution_count": 2,
   "metadata": {},
   "outputs": [],
   "source": [
    "driver = webdriver.Chrome()\n",
    "driver.get('https://medium.com/topic/technology')\n",
    "driver.implicitly_wait(100)"
   ]
  },
  {
   "cell_type": "code",
   "execution_count": 3,
   "metadata": {},
   "outputs": [],
   "source": [
    "lst = []"
   ]
  },
  {
   "cell_type": "code",
   "execution_count": 4,
   "metadata": {},
   "outputs": [
    {
     "ename": "KeyboardInterrupt",
     "evalue": "",
     "output_type": "error",
     "traceback": [
      "\u001b[1;31m---------------------------------------------------------------------------\u001b[0m",
      "\u001b[1;31mKeyboardInterrupt\u001b[0m                         Traceback (most recent call last)",
      "\u001b[1;32m<ipython-input-4-f67c48e4dc5e>\u001b[0m in \u001b[0;36m<module>\u001b[1;34m\u001b[0m\n\u001b[0;32m     10\u001b[0m \u001b[1;33m\u001b[0m\u001b[0m\n\u001b[0;32m     11\u001b[0m         \u001b[1;31m# Wait to load page\u001b[0m\u001b[1;33m\u001b[0m\u001b[1;33m\u001b[0m\u001b[1;33m\u001b[0m\u001b[0m\n\u001b[1;32m---> 12\u001b[1;33m         \u001b[0mtime\u001b[0m\u001b[1;33m.\u001b[0m\u001b[0msleep\u001b[0m\u001b[1;33m(\u001b[0m\u001b[0mSCROLL_PAUSE_TIME\u001b[0m\u001b[1;33m)\u001b[0m\u001b[1;33m\u001b[0m\u001b[1;33m\u001b[0m\u001b[0m\n\u001b[0m\u001b[0;32m     13\u001b[0m \u001b[1;33m\u001b[0m\u001b[0m\n\u001b[0;32m     14\u001b[0m         \u001b[1;31m# Calculate new scroll height and compare with last scroll height\u001b[0m\u001b[1;33m\u001b[0m\u001b[1;33m\u001b[0m\u001b[1;33m\u001b[0m\u001b[0m\n",
      "\u001b[1;31mKeyboardInterrupt\u001b[0m: "
     ]
    }
   ],
   "source": [
    "while len(lst)<2000:\n",
    "    SCROLL_PAUSE_TIME = 0.5\n",
    "\n",
    "    # Get scroll height\n",
    "    last_height = driver.execute_script(\"return document.body.scrollHeight\")\n",
    "\n",
    "    while True:\n",
    "        # Scroll down to bottom\n",
    "        driver.execute_script(\"window.scrollTo(0, document.body.scrollHeight);\")\n",
    "\n",
    "        # Wait to load page\n",
    "        time.sleep(SCROLL_PAUSE_TIME)\n",
    "\n",
    "        # Calculate new scroll height and compare with last scroll height\n",
    "        new_height = driver.execute_script(\"return document.body.scrollHeight\")\n",
    "        if new_height == last_height:\n",
    "            break\n",
    "        last_height = new_height\n",
    "        page = driver.page_source\n",
    "        soup = bs(page, 'html5lib')\n",
    "        a_links = soup.findAll('div', {\"class\": \"fv fw\"})\n",
    "        lst = []\n",
    "        for i in range(len(a_links)):\n",
    "            if i!=0:\n",
    "                lst.append(a_links[i].find('a')['href'])"
   ]
  },
  {
   "cell_type": "code",
   "execution_count": 6,
   "metadata": {},
   "outputs": [
    {
     "data": {
      "text/plain": [
       "135"
      ]
     },
     "execution_count": 6,
     "metadata": {},
     "output_type": "execute_result"
    }
   ],
   "source": [
    "len(lst)"
   ]
  },
  {
   "cell_type": "code",
   "execution_count": 7,
   "metadata": {},
   "outputs": [],
   "source": [
    "for i in range(len(lst)):\n",
    "    if lst[i][0]=='/':\n",
    "        lst[i]= 'https://medium.com'+lst[i]"
   ]
  },
  {
   "cell_type": "code",
   "execution_count": null,
   "metadata": {},
   "outputs": [],
   "source": [
    "driver.get(lst[0])\n",
    "driver.implicitly_wait(100)"
   ]
  },
  {
   "cell_type": "code",
   "execution_count": null,
   "metadata": {},
   "outputs": [],
   "source": [
    "page = driver.page_source"
   ]
  },
  {
   "cell_type": "code",
   "execution_count": 8,
   "metadata": {},
   "outputs": [],
   "source": [
    "lst_heading = []\n",
    "lst_article = []\n",
    "lst_author = []\n",
    "lst_subheading = []"
   ]
  },
  {
   "cell_type": "code",
   "execution_count": null,
   "metadata": {},
   "outputs": [],
   "source": [
    "soup = bs(page, 'html5lib')"
   ]
  },
  {
   "cell_type": "code",
   "execution_count": null,
   "metadata": {},
   "outputs": [],
   "source": [
    "lst_heading.append(soup.find('h1').text)"
   ]
  },
  {
   "cell_type": "code",
   "execution_count": null,
   "metadata": {},
   "outputs": [],
   "source": [
    "soup.findAll('h2')"
   ]
  },
  {
   "cell_type": "code",
   "execution_count": null,
   "metadata": {},
   "outputs": [],
   "source": [
    "soup.findAll('h2')"
   ]
  },
  {
   "cell_type": "code",
   "execution_count": null,
   "metadata": {},
   "outputs": [],
   "source": [
    "if lst[3][0]=='/':\n",
    "    print('https://medium.com'+lst[3])\n",
    "driver.get(lst[1])\n",
    "driver.implicitly_wait(100)"
   ]
  },
  {
   "cell_type": "code",
   "execution_count": null,
   "metadata": {},
   "outputs": [],
   "source": [
    "page1 = driver.page_source"
   ]
  },
  {
   "cell_type": "code",
   "execution_count": null,
   "metadata": {},
   "outputs": [],
   "source": [
    "soup1 = bs(page1, 'html5lib')"
   ]
  },
  {
   "cell_type": "code",
   "execution_count": null,
   "metadata": {},
   "outputs": [],
   "source": [
    "soup1.find('h1').text"
   ]
  },
  {
   "cell_type": "code",
   "execution_count": 9,
   "metadata": {},
   "outputs": [],
   "source": [
    "for i in range(len(lst)):\n",
    "    driver.get(lst[i])\n",
    "    driver.implicitly_wait(100)\n",
    "    page = driver.page_source\n",
    "    soup = bs(page, 'html5lib')\n",
    "    lst_heading.append(soup.find('h1').text)"
   ]
  },
  {
   "cell_type": "code",
   "execution_count": 10,
   "metadata": {},
   "outputs": [
    {
     "data": {
      "text/plain": [
       "['How I Became a Lego Man',\n",
       " 'The Paradigm Shifts of the Internet for 30 Years: From Portal Sites, Search Engines to Social Networks, and What’s the Next?',\n",
       " 'Designing Safer Social VR',\n",
       " 'Apple: Reading The Quarterly Leaves',\n",
       " 'Working with the 3D Camera on the Samsung S10 5G',\n",
       " 'GANs from Zero to Hero: Best Resources for Newcomers',\n",
       " 'Can Russia Disconnect From The Global Internet?',\n",
       " 'Is it Bad to Sleep Next to a Phone? Depends Whom You Ask.',\n",
       " 'What I learned From 24 hours Without Screen Time',\n",
       " 'Remember When Everyone Made Fun of AirPods?',\n",
       " 'The Issue of Online Political Ads',\n",
       " 'The self-destruction of newspapers',\n",
       " 'Reddit’s Automoderator Is the Future of the Internet, and Deeply Imperfect',\n",
       " 'Tech History Is More Than Just ‘White, Male Wizards’',\n",
       " 'How to Build Your Own PyTorch Neural Network Layer from Scratch',\n",
       " 'Innovation in Law… Why Should You Care?',\n",
       " 'Getting started with Bitcoin data on Kaggle with Python and BigQuery',\n",
       " 'Inspired by Optimism, Married to Technology, Crossing the AI Chasm',\n",
       " 'Are AI ‘Thinking Machines’ Really Thinking?',\n",
       " 'Setting Up Swagger Docs for Golang API',\n",
       " 'Introduction to Mesa: Agent-based Modeling in Python',\n",
       " 'Analyzing the characteristics and global distribution of Data and AI startups',\n",
       " 'What I Learned From Interviewing With Top Data Science Teams\\u200a—\\u200aTips for Aspiring Data Scientists',\n",
       " 'Exploratory Data Analysis Made Easy Using Pandas Profiling',\n",
       " '‘Magic Internet Money’ May Be Too Volatile to Attain Gold Status',\n",
       " 'The Fascinating Science Behind Low-Light Photography In Smartphones',\n",
       " 'OnMyWay Promises ‘Cash’ for Driving Safe — But There’s a Catch',\n",
       " 'How ‘Innovation’ Became a Meaningless Buzzword (And How It Can Be Saved)',\n",
       " 'AirPods Pro Review: They’re Great (and Expensive)',\n",
       " 'The Awesome Potential of Quantum Computing',\n",
       " 'Facebook’s Free Speech Charade',\n",
       " 'Twitter’s Ban on Political Ads Will Hurt Activists, Labor Groups, and Organizers',\n",
       " 'Health Trackers Are Enhancing Our Senses',\n",
       " 'An Expert’s Look at Fertility Awareness Methods',\n",
       " 'Imagineering & Resurrections',\n",
       " 'Twitter Upstages Facebook With Ban on Political Ads',\n",
       " 'From Neuroscience to Computer Vision',\n",
       " 'Creating in an age of algorithms: won’t somebody think of the children?',\n",
       " 'How to Produce a Great Livestreamed Event on Any Budget: Part 1',\n",
       " 'First Steps in Electronics for Kids',\n",
       " 'Analytics is not storytelling…',\n",
       " 'Novak Djokovic Used A.I. to Train for Wimbledon',\n",
       " 'What Happens if You Try to Hijack a ZipCar to Mexico?',\n",
       " 'The Congresswomen of Color Gave Mark Zuckerberg the Reproach He Deserved',\n",
       " 'Everyone’s Wrong About the Streaming Wars',\n",
       " 'Spotify Wants to Read Your Child Their Bedtime Story',\n",
       " 'Don’t Be Evil',\n",
       " 'Netflix’s New Playback Speed Feature Is Getting Backlash From Creators',\n",
       " 'Austerity Is an Algorithm',\n",
       " 'The DNA Database Used to Find the Golden State Killer Is a National Security Leak Waiting to Happen',\n",
       " 'DeepMind’s StarCraft Bot Has a 191-Year Head Start on Humanity',\n",
       " 'A DNA Database Containing Data From 23andMe and Ancestry Is Vulnerable to Attacks',\n",
       " 'It’s Time For Smaller Smartphones',\n",
       " 'The Drone Wars Are Already Here',\n",
       " '32-Bit vs. 64-Bit OSes: What’s the Difference?',\n",
       " 'Apple’s Gender-Neutral Emojis Aren’t for Everyone',\n",
       " 'How AI Contributes to the Audiobook Industry Boom',\n",
       " 'The Easiest Way to Describe Tech Debt',\n",
       " 'Unraveling the Secret Origins of an AmazonBasics Battery',\n",
       " 'Facebook Is Giving News Another Go',\n",
       " 'What is Cloud Computing?',\n",
       " 'The Weirdest Shit to Come Out of Silicon Valley in October',\n",
       " 'Creators Say They’ve Cracked YouTube’s Monetization Algorithm',\n",
       " 'Dogs Are Dying to Make the Perfect Pet Clones',\n",
       " 'Startup Molekule Is Using the California Wildfires to Sell Its Crummy Air Purifier',\n",
       " 'How online shopping is putting further pressure on our cities',\n",
       " 'How To Fake Being a Good Programmer',\n",
       " 'Top Mobile App Trends for 2020 #Revealed',\n",
       " 'Everyday ‘Super Apps’ Challenge Apple, Android',\n",
       " 'How to become device agnostic and what it means for your data',\n",
       " 'Is the Android Ecosystem Actually Becoming Less Fragmented?!',\n",
       " 'The Real ROI of Empathy',\n",
       " 'The Strong ARM of Mobile ML',\n",
       " 'An Invisibility Cloak designed by a Canadian company',\n",
       " 'Drones, Cameras, and Deep Learning: Exploring Ways to Save the Coral Reefs',\n",
       " 'Imagine the US Was Just Hit With a Cyberattack. What Happens Next?',\n",
       " 'An Internet Clampdown Is Coming to Russia',\n",
       " 'Experiencing the Horrors of 1917 Passchendaele in 2019',\n",
       " 'Tech Shouldn’t Look Like Tech',\n",
       " 'Florida Claims to be a Driverless Car Paradise. Critics Call It a Lawless Mess',\n",
       " 'This New App Wants to Change the Way Music Gets Made',\n",
       " '5 Key Things to Know About the New AirPods Pro',\n",
       " 'YouTube Books are Still a Thing',\n",
       " 'Worldwide ERC 2019 Global Workforce Symposium — An Immigration & Tech Perspective',\n",
       " 'The Great Antitrust Awakening Can’t Be Stopped',\n",
       " 'The Connectivity Spectrum: How the Type of Product You Manufacture Impacts the Relationship You Create with the Consumer',\n",
       " 'How I See Things With Google Lens',\n",
       " 'AWS Elastic MapReduce (EMR) — 6 Caveats You Shouldn’t Ignore',\n",
       " 'The Basics: Linear Regression',\n",
       " 'About Google’s Self-Proclaimed Quantum Supremacy and its Impact on Artificial Intelligence',\n",
       " 'A Must-have Algorithm for Your Machine Learning Toolbox: XGBoost',\n",
       " 'Want to Create Your Own Apple Watch Face? Good Luck',\n",
       " 'Clean Up Your Browser Tabs Using the Best Web Clippers',\n",
       " 'Quantum Computing',\n",
       " 'The Trolley Problem Isn’t Theoretical Anymore',\n",
       " 'Consciousness — nature’s operating system for sentient beings',\n",
       " 'Art for the Digital Age',\n",
       " 'It seems AutoML is popular',\n",
       " 'A short journey of outlier detection',\n",
       " 'Augmented Reality Glasses are About to Change Everything',\n",
       " 'As The Original Moonshot Turns 50, We Still Need Public Support For Innovation',\n",
       " 'A comprehensive and practical guide to Image Processing and Computer Vision using Python: Part 1 (Introduction)',\n",
       " 'Decision Trees for Online Shopping Analysis',\n",
       " 'How smartphones are being used to combat dementia.',\n",
       " 'Animals Bow to Their Mechanical Overlords',\n",
       " 'Facebook News Won’t Fix the News',\n",
       " 'Harnessing the Power of Brain Waves in Virtual Reality: Applications for Gaming and Medicine',\n",
       " 'Tulsi Gabbard By the Numbers: Loved by the Right, Despised by the Left?',\n",
       " 'Innovation: Developing the process of the non-soul',\n",
       " 'Speaking Truth to Power: Reflections on My Career at Microsoft',\n",
       " 'What can we do with a Quantum Computer? — Gadget For Today',\n",
       " 'Amazon’s A.I. Emotion-Recognition Software Confuses Expressions for Feelings',\n",
       " 'Do Algorithms Know Your Body Better Than You?',\n",
       " 'Where Does Your Carrier Offer 5G? That’s an Excellent Question!',\n",
       " 'Take the Lesson: Don’t Mess with Navigation Labeling',\n",
       " 'Is Facebook’s Political-Ad Policy Really That Bad?',\n",
       " 'How TV Became Tech’s Favorite Vanity Project',\n",
       " 'How to Use Optical Character Recognition for Security System Development',\n",
       " 'Mining and Classifying Medical Documents',\n",
       " 'Beginners Guide to the Three Types of Machine Learning',\n",
       " 'What Does Google’s Quantum Supremacy Achievement Mean?',\n",
       " 'How Should Crypto Prepare for Google’s ‘Quantum Supremacy’?',\n",
       " 'Visual_UI',\n",
       " 'You’re Dying on the Street. A Drone Might Be Your Only Hope.',\n",
       " 'Have you thought about experimenting with a different browser?',\n",
       " 'Getting Cash for Our Data Could Actually Make Things Worse',\n",
       " 'How Streaming Saved the Romantic Comedy',\n",
       " 'Connected Kids: Is The Web Destroying Family Life As We Know It?',\n",
       " 'SpaceX’s Satellite Internet Plans for Mid-2020 Launch in the US',\n",
       " 'Are You Seeing Way More Ads on Twitter? Here’s Why.',\n",
       " 'Google Formally Claims to Have Achieved Quantum Supremacy',\n",
       " 'How To Radically Change Your Phone to Reclaim Your Attention',\n",
       " 'Mobile World Congress 2019: The Latest AI Advancements',\n",
       " 'Quantum computers and their threat to crypto',\n",
       " '23andMe’s Next Stage? Using DNA Data to Help You Make Better Health Choices']"
      ]
     },
     "execution_count": 10,
     "metadata": {},
     "output_type": "execute_result"
    }
   ],
   "source": [
    "lst_heading"
   ]
  },
  {
   "cell_type": "code",
   "execution_count": null,
   "metadata": {},
   "outputs": [],
   "source": []
  }
 ],
 "metadata": {
  "kernelspec": {
   "display_name": "Python 3",
   "language": "python",
   "name": "python3"
  },
  "language_info": {
   "codemirror_mode": {
    "name": "ipython",
    "version": 3
   },
   "file_extension": ".py",
   "mimetype": "text/x-python",
   "name": "python",
   "nbconvert_exporter": "python",
   "pygments_lexer": "ipython3",
   "version": "3.7.3"
  }
 },
 "nbformat": 4,
 "nbformat_minor": 2
}
