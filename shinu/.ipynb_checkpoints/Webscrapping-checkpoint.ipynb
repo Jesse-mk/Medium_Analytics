{
 "cells": [
  {
   "cell_type": "markdown",
   "metadata": {},
   "source": [
    "# Import packages required for webscrapping "
   ]
  },
  {
   "cell_type": "code",
   "execution_count": 2,
   "metadata": {},
   "outputs": [],
   "source": [
    "from bs4 import BeautifulSoup as bs\n",
    "from selenium import webdriver\n",
    "from selenium.webdriver.common.keys import Keys\n",
    "from selenium.webdriver.support.ui import WebDriverWait\n",
    "import pandas as pd\n",
    "import re\n",
    "import os\n",
    "import urllib.request\n",
    "import time\n",
    "import datetime"
   ]
  },
  {
   "cell_type": "markdown",
   "metadata": {},
   "source": [
    "# Create a webdriver instance"
   ]
  },
  {
   "cell_type": "code",
   "execution_count": 14,
   "metadata": {},
   "outputs": [],
   "source": [
    "driver = webdriver.Chrome()"
   ]
  },
  {
   "cell_type": "code",
   "execution_count": 164,
   "metadata": {},
   "outputs": [],
   "source": [
    "driver.get('https://medium.com/topic/sports') # driver.get('https://medium.com/topic/technology')\n",
    "driver.implicitly_wait(100)\n",
    "lst = []\n",
    "idx= 0"
   ]
  },
  {
   "cell_type": "markdown",
   "metadata": {},
   "source": [
    "# Scroll down the page"
   ]
  },
  {
   "cell_type": "code",
   "execution_count": 165,
   "metadata": {},
   "outputs": [],
   "source": [
    "while idx<1000:\n",
    "    SCROLL_PAUSE_TIME = 0.5\n",
    "\n",
    "    # Get scroll height\n",
    "    last_height = driver.execute_script(\"return document.body.scrollHeight\")\n",
    "\n",
    "    while True:\n",
    "        # Scroll down to bottom\n",
    "        driver.execute_script(\"window.scrollTo(0, document.body.scrollHeight);\")\n",
    "\n",
    "        # Wait to load page\n",
    "        time.sleep(SCROLL_PAUSE_TIME)\n",
    "\n",
    "        # Calculate new scroll height and compare with last scroll height\n",
    "        new_height = driver.execute_script(\"return document.body.scrollHeight\")\n",
    "        if new_height == last_height:\n",
    "            break\n",
    "        last_height = new_height\n",
    "    idx+=1"
   ]
  },
  {
   "cell_type": "markdown",
   "metadata": {},
   "source": [
    "# Find all the urls in the page"
   ]
  },
  {
   "cell_type": "code",
   "execution_count": 171,
   "metadata": {},
   "outputs": [],
   "source": [
    "page = driver.page_source\n",
    "soup = bs(page, 'html5lib')\n",
    "a_links = soup.findAll('div', {\"class\": \"ai fl\"})#{\"class\": \"fv fw\"})\n",
    "lst = []\n",
    "for i in range(len(a_links)):\n",
    "    if i!=0:\n",
    "        lst.append(a_links[i].find('a')['href'])"
   ]
  },
  {
   "cell_type": "code",
   "execution_count": null,
   "metadata": {},
   "outputs": [],
   "source": []
  },
  {
   "cell_type": "code",
   "execution_count": 174,
   "metadata": {},
   "outputs": [
    {
     "data": {
      "text/plain": [
       "2624"
      ]
     },
     "execution_count": 174,
     "metadata": {},
     "output_type": "execute_result"
    }
   ],
   "source": [
    "len(lst)"
   ]
  },
  {
   "cell_type": "code",
   "execution_count": 175,
   "metadata": {},
   "outputs": [
    {
     "data": {
      "text/plain": [
       "'/@burakcankoc/nba-week-3-f593cb152f46?source=topic_page---------0------------------1'"
      ]
     },
     "execution_count": 175,
     "metadata": {},
     "output_type": "execute_result"
    }
   ],
   "source": [
    "lst[0]"
   ]
  },
  {
   "cell_type": "markdown",
   "metadata": {},
   "source": [
    "# Clean the url list "
   ]
  },
  {
   "cell_type": "code",
   "execution_count": 176,
   "metadata": {},
   "outputs": [],
   "source": [
    "for i in range(len(lst)):\n",
    "    if lst[i][0]=='/':\n",
    "        lst[i]= 'https://medium.com'+lst[i]"
   ]
  },
  {
   "cell_type": "code",
   "execution_count": 177,
   "metadata": {},
   "outputs": [
    {
     "data": {
      "text/plain": [
       "'https://medium.com/@burakcankoc/nba-week-3-f593cb152f46?source=topic_page---------0------------------1'"
      ]
     },
     "execution_count": 177,
     "metadata": {},
     "output_type": "execute_result"
    }
   ],
   "source": [
    "lst[0]"
   ]
  },
  {
   "cell_type": "markdown",
   "metadata": {},
   "source": [
    "# For loop that loops through each page from url list and gets data for csv"
   ]
  },
  {
   "cell_type": "code",
   "execution_count": 206,
   "metadata": {
    "scrolled": true
   },
   "outputs": [
    {
     "ename": "ValueError",
     "evalue": "year 0 is out of range",
     "output_type": "error",
     "traceback": [
      "\u001b[1;31m---------------------------------------------------------------------------\u001b[0m",
      "\u001b[1;31mValueError\u001b[0m                                Traceback (most recent call last)",
      "\u001b[1;32m<ipython-input-206-b01ee40997b7>\u001b[0m in \u001b[0;36m<module>\u001b[1;34m\u001b[0m\n\u001b[0;32m    153\u001b[0m         \u001b[0myear\u001b[0m \u001b[1;33m=\u001b[0m \u001b[1;36m0\u001b[0m\u001b[1;33m\u001b[0m\u001b[1;33m\u001b[0m\u001b[0m\n\u001b[0;32m    154\u001b[0m         \u001b[0mmonth\u001b[0m \u001b[1;33m=\u001b[0m \u001b[1;36m0\u001b[0m\u001b[1;33m\u001b[0m\u001b[1;33m\u001b[0m\u001b[0m\n\u001b[1;32m--> 155\u001b[1;33m     \u001b[0mdate\u001b[0m \u001b[1;33m=\u001b[0m \u001b[0mdatetime\u001b[0m\u001b[1;33m.\u001b[0m\u001b[0mdatetime\u001b[0m\u001b[1;33m(\u001b[0m\u001b[0myear\u001b[0m\u001b[1;33m,\u001b[0m \u001b[0mmonth\u001b[0m\u001b[1;33m,\u001b[0m \u001b[0mint\u001b[0m\u001b[1;33m(\u001b[0m\u001b[0mdate\u001b[0m\u001b[1;33m)\u001b[0m\u001b[1;33m)\u001b[0m\u001b[1;33m\u001b[0m\u001b[1;33m\u001b[0m\u001b[0m\n\u001b[0m\u001b[0;32m    156\u001b[0m     \u001b[0mdict_csv\u001b[0m\u001b[1;33m[\u001b[0m\u001b[1;34m'title'\u001b[0m\u001b[1;33m]\u001b[0m\u001b[1;33m.\u001b[0m\u001b[0mappend\u001b[0m\u001b[1;33m(\u001b[0m\u001b[0mheader\u001b[0m\u001b[1;33m)\u001b[0m\u001b[1;33m\u001b[0m\u001b[1;33m\u001b[0m\u001b[0m\n\u001b[0;32m    157\u001b[0m     \u001b[0mdict_csv\u001b[0m\u001b[1;33m[\u001b[0m\u001b[1;34m'published'\u001b[0m\u001b[1;33m]\u001b[0m\u001b[1;33m.\u001b[0m\u001b[0mappend\u001b[0m\u001b[1;33m(\u001b[0m\u001b[0mdate\u001b[0m\u001b[1;33m)\u001b[0m\u001b[1;33m\u001b[0m\u001b[1;33m\u001b[0m\u001b[0m\n",
      "\u001b[1;31mValueError\u001b[0m: year 0 is out of range"
     ]
    }
   ],
   "source": [
    "dict_csv = {'url':[],'title':[],'author':[], 'published':[],'claps':[],'text':[], 'tags':[], 'duration':[], 'username':[]}\n",
    "for i in range(len(lst)):\n",
    "    dict_csv['url'].append(lst[i])\n",
    "    driver.get(lst[i])\n",
    "    driver.implicitly_wait(100)\n",
    "    page = driver.page_source\n",
    "    soup = bs(page, 'html5lib')\n",
    "    header = soup.find('h1')\n",
    "    if header:\n",
    "        header = header.text\n",
    "    else:\n",
    "        header = soup.find('h2').text\n",
    "    text = ''\n",
    "    claps = ''\n",
    "    writer = ''\n",
    "    month = -1\n",
    "    read = -1\n",
    "    text_idx = 0\n",
    "    date = ''\n",
    "    year = 2019\n",
    "    \n",
    "    for i in soup.find_all('p'):\n",
    "        if text_idx==0:\n",
    "            text =text + i.text\n",
    "        else: \n",
    "            text = text + ' ' + i.text\n",
    "        text_idx += 1\n",
    "        \n",
    "    text = text[:-11]\n",
    "    tag_list= []\n",
    "    \n",
    "    for i in soup.findAll('li'):\n",
    "        for k in i.findAll('a',{'href':re.compile('tag')}):\n",
    "            tag_list.append(k.text)\n",
    "        \n",
    "    for j in soup.findAll('div',{'class': 'o n'}):\n",
    "        for i in j.findAll('a'):\n",
    "            if len(re.findall(r'^(Jan\\s{1}\\d{1,2}|Jan\\s{1}\\d{1,2},\\s\\d{4})$',i.text))>0 and month==-1 and date=='':\n",
    "                month = 1\n",
    "                if ',' not in i.text.split(' ')[1]:\n",
    "                    date = i.text.split(' ')[1]\n",
    "                else:\n",
    "                    date = i.text.split(' ')[1][0]\n",
    "                    year = int(i.text.split(' ')[2])\n",
    "                break\n",
    "            elif len(re.findall(r'^(Feb\\s{1}\\d{1,2}|Feb\\s{1}\\d{1,2},\\s\\d{4})$',i.text))>0 and month==-1 and date=='':\n",
    "                month = 2\n",
    "                if ',' not in i.text.split(' ')[1]:\n",
    "                    date = i.text.split(' ')[1]\n",
    "                else:\n",
    "                    date = i.text.split(' ')[1][0]\n",
    "                    year = int(i.text.split(' ')[2])\n",
    "                break\n",
    "            elif len(re.findall(r'^(Mar\\s{1}\\d{1,2}|Mar\\s{1}\\d{1,2},\\s\\d{4})$',i.text))>0 and month==-1 and date=='':\n",
    "                month = 3\n",
    "                if ',' not in i.text.split(' ')[1]:\n",
    "                    date = i.text.split(' ')[1]\n",
    "                else:\n",
    "                    date = i.text.split(' ')[1][0]\n",
    "                    year = int(i.text.split(' ')[2])\n",
    "                break\n",
    "            elif len(re.findall(r'^(Apr\\s{1}\\d{1,2}|Apr\\s{1}\\d{1,2},\\s\\d{4})$',i.text))>0 and month==-1 and date=='':\n",
    "                month = 4\n",
    "                if ',' not in i.text.split(' ')[1]:\n",
    "                    date = i.text.split(' ')[1]\n",
    "                else:\n",
    "                    date = i.text.split(' ')[1][0]\n",
    "                    year = int(i.text.split(' ')[2])\n",
    "                break\n",
    "            elif len(re.findall(r'^(May\\s{1}\\d{1,2}|May\\s{1}\\d{1,2},\\s\\d{4})$',i.text))>0 and month==-1 and date=='':\n",
    "                month = 5\n",
    "                if ',' not in i.text.split(' ')[1]:\n",
    "                    date = i.text.split(' ')[1]\n",
    "                else:\n",
    "                    date = i.text.split(' ')[1][0]\n",
    "                    year = int(i.text.split(' ')[2])\n",
    "                break\n",
    "            elif len(re.findall(r'^(Jun\\s{1}\\d{1,2}|Jun\\s{1}\\d{1,2},\\s\\d{4})$',i.text))>0 and month==-1 and date=='':\n",
    "                month = 6\n",
    "                if ',' not in i.text.split(' ')[1]:\n",
    "                    date = i.text.split(' ')[1]\n",
    "                else:\n",
    "                    date = i.text.split(' ')[1][0]\n",
    "                    year = int(i.text.split(' ')[2])\n",
    "                break\n",
    "            elif len(re.findall(r'^(Jul\\s{1}\\d{1,2}|Jul\\s{1}\\d{1,2},\\s\\d{4})$',i.text))>0 and month==-1 and date=='':\n",
    "                month = 7\n",
    "                if ',' not in i.text.split(' ')[1]:\n",
    "                    date = i.text.split(' ')[1]\n",
    "                else:\n",
    "                    date = i.text.split(' ')[1][0]\n",
    "                    year = int(i.text.split(' ')[2])\n",
    "                break\n",
    "            elif len(re.findall(r'^(Aug\\s{1}\\d{1,2}|Aug\\s{1}\\d{1,2},\\s\\d{4})$',i.text))>0 and month==-1 and date=='':\n",
    "                month = 8\n",
    "                if ',' not in i.text.split(' ')[1]:\n",
    "                    date = i.text.split(' ')[1]\n",
    "                else:\n",
    "                    date = i.text.split(' ')[1][0]\n",
    "                    year = int(i.text.split(' ')[2])\n",
    "                break\n",
    "            elif len(re.findall(r'^(Sep\\s{1}\\d{1,2}|Sep\\s{1}\\d{1,2},\\s\\d{4})$',i.text))>0 and month==-1 and date=='':\n",
    "                month = 9\n",
    "                if ',' not in i.text.split(' ')[1]:\n",
    "                    date = i.text.split(' ')[1]\n",
    "                else:\n",
    "                    date = i.text.split(' ')[1][0]\n",
    "                    year = int(i.text.split(' ')[2])\n",
    "                break\n",
    "            elif len(re.findall(r'^(Oct\\s{1}\\d{1,2}|Oct\\s{1}\\d{1,2},\\s\\d{4})$',i.text))>0 and month==-1 and date=='':\n",
    "                month = 10\n",
    "                if ',' not in i.text.split(' ')[1]:\n",
    "                    date = i.text.split(' ')[1]\n",
    "                else:\n",
    "                    date = i.text.split(' ')[1][0]\n",
    "                    year = int(i.text.split(' ')[2])\n",
    "                break\n",
    "            elif len(re.findall(r'^(Nov\\s{1}\\d{1,2}|Nov\\s{1}\\d{1,2},\\s\\d{4})$',i.text))>0 and month==-1 and date=='':\n",
    "                month = 11\n",
    "                if ',' not in i.text.split(' ')[1]:\n",
    "                    date = i.text.split(' ')[1]\n",
    "                else:\n",
    "                    date = i.text.split(' ')[1][0]\n",
    "                    year = int(i.text.split(' ')[2])\n",
    "                break\n",
    "            elif len(re.findall(r'^(Dec\\s{1}\\d{1,2}|Dec\\s{1}\\d{1,2},\\s\\d{4})$',i.text))>0 and month==-1 and date=='':\n",
    "                month = 12\n",
    "                if ',' not in i.text.split(' ')[1]:\n",
    "                    date = i.text.split(' ')[1]\n",
    "                else:\n",
    "                    date = i.text.split(' ')[1][0]\n",
    "                    year = int(i.text.split(' ')[2])\n",
    "                break\n",
    "                \n",
    "    all_text = soup.findAll(text=True)\n",
    "    idx=0\n",
    "    for i in all_text:\n",
    "        if 'claps' in i and claps=='' and 'window' not in i:\n",
    "            claps = i.split(' ')[0]\n",
    "        elif i == 'Written by' and writer=='':\n",
    "            writer = all_text[idx+1]\n",
    "        elif 'min' in i.split(' ') and 'read' in i.split(' ') and read==-1:\n",
    "            read = i.split(' ')[2]\n",
    "        idx+=1\n",
    "    if claps=='':\n",
    "        claps=0\n",
    "    for i in soup.findAll('a'):\n",
    "        if writer in i.text:\n",
    "            user = i['href'].split('?')[0][1:]\n",
    "            break\n",
    "    if date == '':\n",
    "        date = 0\n",
    "        year = 0\n",
    "        month = 0\n",
    "    date = datetime.datetime(year, month, int(date))\n",
    "    dict_csv['title'].append(header)\n",
    "    dict_csv['published'].append(date)\n",
    "    dict_csv['claps'].append(claps)\n",
    "    dict_csv['author'].append(writer)\n",
    "    dict_csv['text'].append(text)\n",
    "    dict_csv['tags'].append(tag_list)\n",
    "    dict_csv['duration'].append(read)\n",
    "    dict_csv['username'].append(user)\n",
    "    time.sleep(0.5)"
   ]
  },
  {
   "cell_type": "code",
   "execution_count": 207,
   "metadata": {},
   "outputs": [],
   "source": [
    "#dict_csv['url']=dict_csv['url'][:-1] in case url is deleted"
   ]
  },
  {
   "cell_type": "code",
   "execution_count": 208,
   "metadata": {},
   "outputs": [],
   "source": [
    "pd.DataFrame(dict_csv).to_csv('medium-sports-data.csv')#pd.DataFrame(dict_csv).to_csv('medium-tech-data.csv')"
   ]
  }
 ],
 "metadata": {
  "kernelspec": {
   "display_name": "Python 3",
   "language": "python",
   "name": "python3"
  },
  "language_info": {
   "codemirror_mode": {
    "name": "ipython",
    "version": 3
   },
   "file_extension": ".py",
   "mimetype": "text/x-python",
   "name": "python",
   "nbconvert_exporter": "python",
   "pygments_lexer": "ipython3",
   "version": "3.7.3"
  }
 },
 "nbformat": 4,
 "nbformat_minor": 2
}
