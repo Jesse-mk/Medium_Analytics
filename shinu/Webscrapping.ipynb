{
 "cells": [
  {
   "cell_type": "markdown",
   "metadata": {},
   "source": [
    "# Import packages required for webscrapping "
   ]
  },
  {
   "cell_type": "code",
   "execution_count": 1,
   "metadata": {},
   "outputs": [],
   "source": [
    "from bs4 import BeautifulSoup as bs\n",
    "from selenium import webdriver\n",
    "from selenium.webdriver.common.keys import Keys\n",
    "from selenium.webdriver.support.ui import WebDriverWait\n",
    "import pandas as pd\n",
    "import re\n",
    "import os\n",
    "import urllib.request\n",
    "import time\n",
    "import datetime"
   ]
  },
  {
   "cell_type": "markdown",
   "metadata": {},
   "source": [
    "# Create a webdriver instance"
   ]
  },
  {
   "cell_type": "code",
   "execution_count": 2,
   "metadata": {},
   "outputs": [],
   "source": [
    "driver = webdriver.Chrome()"
   ]
  },
  {
   "cell_type": "code",
   "execution_count": 3,
   "metadata": {},
   "outputs": [],
   "source": [
    "driver.get('https://medium.com/topic/sports') # driver.get('https://medium.com/topic/technology')\n",
    "driver.implicitly_wait(100)\n",
    "lst = []\n",
    "idx= 0"
   ]
  },
  {
   "cell_type": "markdown",
   "metadata": {},
   "source": [
    "# Scroll down the page"
   ]
  },
  {
   "cell_type": "code",
   "execution_count": 4,
   "metadata": {},
   "outputs": [
    {
     "ename": "KeyboardInterrupt",
     "evalue": "",
     "output_type": "error",
     "traceback": [
      "\u001b[1;31m---------------------------------------------------------------------------\u001b[0m",
      "\u001b[1;31mKeyboardInterrupt\u001b[0m                         Traceback (most recent call last)",
      "\u001b[1;32m<ipython-input-4-d13c9a1530b0>\u001b[0m in \u001b[0;36m<module>\u001b[1;34m\u001b[0m\n\u001b[0;32m     11\u001b[0m \u001b[1;33m\u001b[0m\u001b[0m\n\u001b[0;32m     12\u001b[0m         \u001b[1;31m# Wait to load page\u001b[0m\u001b[1;33m\u001b[0m\u001b[1;33m\u001b[0m\u001b[1;33m\u001b[0m\u001b[0m\n\u001b[1;32m---> 13\u001b[1;33m         \u001b[0mtime\u001b[0m\u001b[1;33m.\u001b[0m\u001b[0msleep\u001b[0m\u001b[1;33m(\u001b[0m\u001b[0mSCROLL_PAUSE_TIME\u001b[0m\u001b[1;33m)\u001b[0m\u001b[1;33m\u001b[0m\u001b[1;33m\u001b[0m\u001b[0m\n\u001b[0m\u001b[0;32m     14\u001b[0m \u001b[1;33m\u001b[0m\u001b[0m\n\u001b[0;32m     15\u001b[0m         \u001b[1;31m# Calculate new scroll height and compare with last scroll height\u001b[0m\u001b[1;33m\u001b[0m\u001b[1;33m\u001b[0m\u001b[1;33m\u001b[0m\u001b[0m\n",
      "\u001b[1;31mKeyboardInterrupt\u001b[0m: "
     ]
    }
   ],
   "source": [
    "idx=0\n",
    "while idx<1000:\n",
    "    SCROLL_PAUSE_TIME = 0.5\n",
    "\n",
    "    # Get scroll height\n",
    "    last_height = driver.execute_script(\"return document.body.scrollHeight\")\n",
    "\n",
    "    while True:\n",
    "        # Scroll down to bottom\n",
    "        driver.execute_script(\"window.scrollTo(0, document.body.scrollHeight);\")\n",
    "\n",
    "        # Wait to load page\n",
    "        time.sleep(SCROLL_PAUSE_TIME)\n",
    "\n",
    "        # Calculate new scroll height and compare with last scroll height\n",
    "        new_height = driver.execute_script(\"return document.body.scrollHeight\")\n",
    "        if new_height == last_height:\n",
    "            break\n",
    "        last_height = new_height\n",
    "    idx+=1"
   ]
  },
  {
   "cell_type": "markdown",
   "metadata": {},
   "source": [
    "# Find all the urls in the page"
   ]
  },
  {
   "cell_type": "code",
   "execution_count": 5,
   "metadata": {},
   "outputs": [],
   "source": [
    "page = driver.page_source\n",
    "soup = bs(page, 'html5lib')\n",
    "a_links = soup.findAll('div', {\"class\": \"ai fl\"})#{\"class\": \"fv fw\"})\n",
    "lst = []\n",
    "for i in range(len(a_links)):\n",
    "    if i!=0:\n",
    "        lst.append(a_links[i].find('a')['href'])"
   ]
  },
  {
   "cell_type": "code",
   "execution_count": null,
   "metadata": {},
   "outputs": [],
   "source": []
  },
  {
   "cell_type": "code",
   "execution_count": 12,
   "metadata": {},
   "outputs": [
    {
     "data": {
      "text/plain": [
       "2662"
      ]
     },
     "execution_count": 12,
     "metadata": {},
     "output_type": "execute_result"
    }
   ],
   "source": [
    "len(lst)"
   ]
  },
  {
   "cell_type": "code",
   "execution_count": 7,
   "metadata": {},
   "outputs": [
    {
     "data": {
      "text/plain": [
       "'/@elizabeth_87041/3-things-the-paralympics-taught-me-about-success-166345f28028?source=topic_page---------0------------------1'"
      ]
     },
     "execution_count": 7,
     "metadata": {},
     "output_type": "execute_result"
    }
   ],
   "source": [
    "lst[0]"
   ]
  },
  {
   "cell_type": "markdown",
   "metadata": {},
   "source": [
    "# Clean the url list "
   ]
  },
  {
   "cell_type": "code",
   "execution_count": 8,
   "metadata": {},
   "outputs": [],
   "source": [
    "for i in range(len(lst)):\n",
    "    if lst[i][0]=='/':\n",
    "        lst[i]= 'https://medium.com'+lst[i]"
   ]
  },
  {
   "cell_type": "code",
   "execution_count": 9,
   "metadata": {},
   "outputs": [
    {
     "data": {
      "text/plain": [
       "'https://medium.com/@elizabeth_87041/3-things-the-paralympics-taught-me-about-success-166345f28028?source=topic_page---------0------------------1'"
      ]
     },
     "execution_count": 9,
     "metadata": {},
     "output_type": "execute_result"
    }
   ],
   "source": [
    "lst[0]"
   ]
  },
  {
   "cell_type": "markdown",
   "metadata": {},
   "source": [
    "# Save the list of urls into a csv"
   ]
  },
  {
   "cell_type": "code",
   "execution_count": 14,
   "metadata": {},
   "outputs": [],
   "source": [
    "pd.DataFrame(lst,columns=['urls']).to_csv('sportsurls.csv')"
   ]
  },
  {
   "cell_type": "markdown",
   "metadata": {},
   "source": [
    "# Retrieve the list of urls and skip earlier steps!"
   ]
  },
  {
   "cell_type": "code",
   "execution_count": 15,
   "metadata": {},
   "outputs": [],
   "source": [
    "lst = list(pd.read_csv('sportsurls.csv')['urls'])"
   ]
  },
  {
   "cell_type": "code",
   "execution_count": 16,
   "metadata": {},
   "outputs": [],
   "source": [
    "for i in range(len(lst)):\n",
    "    if 'https://medium.com/@NYSPORTS/why-the-kyrie-and-kd-dynamic-will-wo-3e3fd98f8785?source=topic_page---------609------------------1' == lst[i]:\n",
    "        break"
   ]
  },
  {
   "cell_type": "code",
   "execution_count": 17,
   "metadata": {},
   "outputs": [
    {
     "data": {
      "text/plain": [
       "1976"
      ]
     },
     "execution_count": 17,
     "metadata": {},
     "output_type": "execute_result"
    }
   ],
   "source": [
    "i"
   ]
  },
  {
   "cell_type": "markdown",
   "metadata": {},
   "source": [
    "# For loop that loops through each page from url list and gets data for csv"
   ]
  },
  {
   "cell_type": "code",
   "execution_count": 44,
   "metadata": {
    "scrolled": true
   },
   "outputs": [
    {
     "ename": "AttributeError",
     "evalue": "'NoneType' object has no attribute 'text'",
     "output_type": "error",
     "traceback": [
      "\u001b[1;31m---------------------------------------------------------------------------\u001b[0m",
      "\u001b[1;31mAttributeError\u001b[0m                            Traceback (most recent call last)",
      "\u001b[1;32m<ipython-input-44-34fd933bba7c>\u001b[0m in \u001b[0;36m<module>\u001b[1;34m\u001b[0m\n\u001b[0;32m     11\u001b[0m         \u001b[0mheader\u001b[0m \u001b[1;33m=\u001b[0m \u001b[0mheader\u001b[0m\u001b[1;33m.\u001b[0m\u001b[0mtext\u001b[0m\u001b[1;33m\u001b[0m\u001b[1;33m\u001b[0m\u001b[0m\n\u001b[0;32m     12\u001b[0m     \u001b[1;32melse\u001b[0m\u001b[1;33m:\u001b[0m\u001b[1;33m\u001b[0m\u001b[1;33m\u001b[0m\u001b[0m\n\u001b[1;32m---> 13\u001b[1;33m         \u001b[0mheader\u001b[0m \u001b[1;33m=\u001b[0m \u001b[0msoup\u001b[0m\u001b[1;33m.\u001b[0m\u001b[0mfind\u001b[0m\u001b[1;33m(\u001b[0m\u001b[1;34m'h2'\u001b[0m\u001b[1;33m)\u001b[0m\u001b[1;33m.\u001b[0m\u001b[0mtext\u001b[0m\u001b[1;33m\u001b[0m\u001b[1;33m\u001b[0m\u001b[0m\n\u001b[0m\u001b[0;32m     14\u001b[0m     \u001b[0mtext\u001b[0m \u001b[1;33m=\u001b[0m \u001b[1;34m''\u001b[0m\u001b[1;33m\u001b[0m\u001b[1;33m\u001b[0m\u001b[0m\n\u001b[0;32m     15\u001b[0m     \u001b[0mclaps\u001b[0m \u001b[1;33m=\u001b[0m \u001b[1;34m''\u001b[0m\u001b[1;33m\u001b[0m\u001b[1;33m\u001b[0m\u001b[0m\n",
      "\u001b[1;31mAttributeError\u001b[0m: 'NoneType' object has no attribute 'text'"
     ]
    }
   ],
   "source": [
    "dict_csv = {'url':[],'title':[],'author':[], 'published':[],'claps':[],'text':[], 'tags':[], 'duration':[], 'username':[], 'followers': [], 'following': []}\n",
    "for i in range(len(lst)):\n",
    "    index = i\n",
    "    dict_csv['url'].append(lst[i])\n",
    "    driver.get(lst[i])\n",
    "    driver.implicitly_wait(100)\n",
    "    page = driver.page_source\n",
    "    soup = bs(page, 'html5lib')\n",
    "    header = soup.find('h1')\n",
    "    if header:\n",
    "        header = header.text\n",
    "    else:\n",
    "        header = soup.find('h2').text\n",
    "    text = ''\n",
    "    claps = ''\n",
    "    writer = ''\n",
    "    month = -1\n",
    "    read = -1\n",
    "    text_idx = 0\n",
    "    date = ''\n",
    "    year = 2019\n",
    "    \n",
    "    for i in soup.find_all('p'):\n",
    "        if text_idx==0:\n",
    "            text =text + i.text\n",
    "        else: \n",
    "            text = text + ' ' + i.text\n",
    "        text_idx += 1\n",
    "        \n",
    "    text = text[:-11]\n",
    "    tag_list= []\n",
    "    \n",
    "    for i in soup.findAll('li'):\n",
    "        for k in i.findAll('a',{'href':re.compile('tag')}):\n",
    "            tag_list.append(k.text)\n",
    "        \n",
    "    for j in soup.findAll('div',{'class': 'o n'}):\n",
    "        for i in j.findAll('a'):\n",
    "            if len(re.findall(r'^(Jan\\s{1}\\d{1,2}|Jan\\s{1}\\d{1,2},\\s\\d{4})$',i.text))>0 and month==-1 and date=='':\n",
    "                month = 1\n",
    "                if ',' not in i.text.split(' ')[1]:\n",
    "                    date = i.text.split(' ')[1]\n",
    "                else:\n",
    "                    date = i.text.split(' ')[1][0]\n",
    "                    year = int(i.text.split(' ')[2])\n",
    "                break\n",
    "            elif len(re.findall(r'^(Feb\\s{1}\\d{1,2}|Feb\\s{1}\\d{1,2},\\s\\d{4})$',i.text))>0 and month==-1 and date=='':\n",
    "                month = 2\n",
    "                if ',' not in i.text.split(' ')[1]:\n",
    "                    date = i.text.split(' ')[1]\n",
    "                else:\n",
    "                    date = i.text.split(' ')[1][0]\n",
    "                    year = int(i.text.split(' ')[2])\n",
    "                break\n",
    "            elif len(re.findall(r'^(Mar\\s{1}\\d{1,2}|Mar\\s{1}\\d{1,2},\\s\\d{4})$',i.text))>0 and month==-1 and date=='':\n",
    "                month = 3\n",
    "                if ',' not in i.text.split(' ')[1]:\n",
    "                    date = i.text.split(' ')[1]\n",
    "                else:\n",
    "                    date = i.text.split(' ')[1][0]\n",
    "                    year = int(i.text.split(' ')[2])\n",
    "                break\n",
    "            elif len(re.findall(r'^(Apr\\s{1}\\d{1,2}|Apr\\s{1}\\d{1,2},\\s\\d{4})$',i.text))>0 and month==-1 and date=='':\n",
    "                month = 4\n",
    "                if ',' not in i.text.split(' ')[1]:\n",
    "                    date = i.text.split(' ')[1]\n",
    "                else:\n",
    "                    date = i.text.split(' ')[1][0]\n",
    "                    year = int(i.text.split(' ')[2])\n",
    "                break\n",
    "            elif len(re.findall(r'^(May\\s{1}\\d{1,2}|May\\s{1}\\d{1,2},\\s\\d{4})$',i.text))>0 and month==-1 and date=='':\n",
    "                month = 5\n",
    "                if ',' not in i.text.split(' ')[1]:\n",
    "                    date = i.text.split(' ')[1]\n",
    "                else:\n",
    "                    date = i.text.split(' ')[1][0]\n",
    "                    year = int(i.text.split(' ')[2])\n",
    "                break\n",
    "            elif len(re.findall(r'^(Jun\\s{1}\\d{1,2}|Jun\\s{1}\\d{1,2},\\s\\d{4})$',i.text))>0 and month==-1 and date=='':\n",
    "                month = 6\n",
    "                if ',' not in i.text.split(' ')[1]:\n",
    "                    date = i.text.split(' ')[1]\n",
    "                else:\n",
    "                    date = i.text.split(' ')[1][0]\n",
    "                    year = int(i.text.split(' ')[2])\n",
    "                break\n",
    "            elif len(re.findall(r'^(Jul\\s{1}\\d{1,2}|Jul\\s{1}\\d{1,2},\\s\\d{4})$',i.text))>0 and month==-1 and date=='':\n",
    "                month = 7\n",
    "                if ',' not in i.text.split(' ')[1]:\n",
    "                    date = i.text.split(' ')[1]\n",
    "                else:\n",
    "                    date = i.text.split(' ')[1][0]\n",
    "                    year = int(i.text.split(' ')[2])\n",
    "                break\n",
    "            elif len(re.findall(r'^(Aug\\s{1}\\d{1,2}|Aug\\s{1}\\d{1,2},\\s\\d{4})$',i.text))>0 and month==-1 and date=='':\n",
    "                month = 8\n",
    "                if ',' not in i.text.split(' ')[1]:\n",
    "                    date = i.text.split(' ')[1]\n",
    "                else:\n",
    "                    date = i.text.split(' ')[1][0]\n",
    "                    year = int(i.text.split(' ')[2])\n",
    "                break\n",
    "            elif len(re.findall(r'^(Sep\\s{1}\\d{1,2}|Sep\\s{1}\\d{1,2},\\s\\d{4})$',i.text))>0 and month==-1 and date=='':\n",
    "                month = 9\n",
    "                if ',' not in i.text.split(' ')[1]:\n",
    "                    date = i.text.split(' ')[1]\n",
    "                else:\n",
    "                    date = i.text.split(' ')[1][0]\n",
    "                    year = int(i.text.split(' ')[2])\n",
    "                break\n",
    "            elif len(re.findall(r'^(Oct\\s{1}\\d{1,2}|Oct\\s{1}\\d{1,2},\\s\\d{4})$',i.text))>0 and month==-1 and date=='':\n",
    "                month = 10\n",
    "                if ',' not in i.text.split(' ')[1]:\n",
    "                    date = i.text.split(' ')[1]\n",
    "                else:\n",
    "                    date = i.text.split(' ')[1][0]\n",
    "                    year = int(i.text.split(' ')[2])\n",
    "                break\n",
    "            elif len(re.findall(r'^(Nov\\s{1}\\d{1,2}|Nov\\s{1}\\d{1,2},\\s\\d{4})$',i.text))>0 and month==-1 and date=='':\n",
    "                month = 11\n",
    "                if ',' not in i.text.split(' ')[1]:\n",
    "                    date = i.text.split(' ')[1]\n",
    "                else:\n",
    "                    date = i.text.split(' ')[1][0]\n",
    "                    year = int(i.text.split(' ')[2])\n",
    "                break\n",
    "            elif len(re.findall(r'^(Dec\\s{1}\\d{1,2}|Dec\\s{1}\\d{1,2},\\s\\d{4})$',i.text))>0 and month==-1 and date=='':\n",
    "                month = 12\n",
    "                if ',' not in i.text.split(' ')[1]:\n",
    "                    date = i.text.split(' ')[1]\n",
    "                else:\n",
    "                    date = i.text.split(' ')[1][0]\n",
    "                    year = int(i.text.split(' ')[2])\n",
    "                break\n",
    "                \n",
    "    all_text = soup.findAll(text=True)\n",
    "    idx=0\n",
    "    for i in all_text:\n",
    "        if 'claps' in i and claps=='' and 'window' not in i:\n",
    "            claps = i.split(' ')[0]\n",
    "        elif i == 'Written by' and writer=='':\n",
    "            writer = all_text[idx+1]\n",
    "        elif 'min' in i.split(' ') and 'read' in i.split(' ') and read==-1:\n",
    "            read = i.split(' ')[2]\n",
    "        idx+=1\n",
    "    if claps=='':\n",
    "        claps=0\n",
    "    for i in soup.findAll('a'):\n",
    "        if writer in i.text:\n",
    "            user = i['href'].split('?')[0][1:]\n",
    "            break\n",
    "    if date == '':\n",
    "        date = 0\n",
    "        year = 0\n",
    "        month = 0\n",
    "    date = datetime.datetime(year, month, int(date))\n",
    "    dict_csv['title'].append(header)\n",
    "    dict_csv['published'].append(date)\n",
    "    dict_csv['claps'].append(claps)\n",
    "    dict_csv['author'].append(writer)\n",
    "    dict_csv['text'].append(text)\n",
    "    dict_csv['tags'].append(tag_list)\n",
    "    dict_csv['duration'].append(read)\n",
    "    dict_csv['username'].append(user)\n",
    "    time.sleep(0.5)\n",
    "    driver.get('https://medium.com/'+dict_csv['username'][-1])\n",
    "    page = driver.page_source\n",
    "    soup = bs(page, 'html5lib')\n",
    "    for i in soup.findAll('a'):\n",
    "        if 'following' in i['href']:\n",
    "            dict_csv['following'].append(i.text.split(' ')[0])\n",
    "        if 'followers' in i['href']:\n",
    "            dict_csv['followers'].append(i.text.split(' ')[0])\n",
    "            break\n",
    "    if len(dict_csv['following']) != len(dict_csv['url']):\n",
    "        dict_csv['following'].append('0')\n",
    "    if len(dict_csv['followers']) != len(dict_csv['url']):\n",
    "        dict_csv['followers'].append('0')"
   ]
  },
  {
   "cell_type": "code",
   "execution_count": 45,
   "metadata": {},
   "outputs": [],
   "source": [
    "dict_csv['url']=dict_csv['url'][:-1] #in case url is deleted"
   ]
  },
  {
   "cell_type": "code",
   "execution_count": 31,
   "metadata": {},
   "outputs": [],
   "source": [
    "dict_csv['url']=dict_csv['url'][:-1] #in case url is deleted\n",
    "dict_csv['title']=dict_csv['title'][:-1]\n",
    "dict_csv['published']=dict_csv['published'][:-1]\n",
    "dict_csv['claps']=dict_csv['claps'][:-1]\n",
    "dict_csv['author']=dict_csv['author'][:-1]\n",
    "dict_csv['text']=dict_csv['text'][:-1]\n",
    "dict_csv['tags']=dict_csv['tags'][:-1]\n",
    "dict_csv['duration']=dict_csv['duration'][:-1]\n",
    "dict_csv['username']=dict_csv['username'][:-1]"
   ]
  },
  {
   "cell_type": "code",
   "execution_count": 106,
   "metadata": {},
   "outputs": [],
   "source": [
    "dict_csv['following']=dict_csv['following'][:-1]\n",
    "dict_csv['followers']=dict_csv['followers'][:-1]"
   ]
  },
  {
   "cell_type": "code",
   "execution_count": 46,
   "metadata": {},
   "outputs": [],
   "source": [
    "pd.DataFrame(dict_csv).to_csv('medium-sports-data1.csv')#pd.DataFrame(dict_csv).to_csv('medium-tech-data.csv')\n",
    "## update lst pls"
   ]
  },
  {
   "cell_type": "code",
   "execution_count": 47,
   "metadata": {},
   "outputs": [],
   "source": [
    "lst = lst[index+1:]"
   ]
  },
  {
   "cell_type": "markdown",
   "metadata": {},
   "source": [
    "# Code for logging into medium"
   ]
  },
  {
   "cell_type": "code",
   "execution_count": 13,
   "metadata": {},
   "outputs": [],
   "source": [
    "driver.get('https://medium.com/topic/sports')"
   ]
  },
  {
   "cell_type": "code",
   "execution_count": 14,
   "metadata": {},
   "outputs": [],
   "source": [
    "page = driver.page_source\n",
    "soup = bs(page, 'html5lib')"
   ]
  },
  {
   "cell_type": "code",
   "execution_count": 15,
   "metadata": {},
   "outputs": [],
   "source": [
    "for i in soup.findAll('a'):\n",
    "    if 'signin' in i['href']:\n",
    "        break"
   ]
  },
  {
   "cell_type": "code",
   "execution_count": 16,
   "metadata": {},
   "outputs": [],
   "source": [
    "driver.get(i['href'])"
   ]
  },
  {
   "cell_type": "code",
   "execution_count": 17,
   "metadata": {},
   "outputs": [],
   "source": [
    "driver.find_elements_by_xpath('//button')[0].click()"
   ]
  },
  {
   "cell_type": "code",
   "execution_count": 18,
   "metadata": {},
   "outputs": [],
   "source": [
    "driver.find_elements_by_css_selector(\"input[type=email]\")[0].send_keys('shinu.shibu1798@gmail.com')"
   ]
  },
  {
   "cell_type": "code",
   "execution_count": 19,
   "metadata": {},
   "outputs": [],
   "source": [
    "driver.find_elements_by_css_selector(\"div[role=button]\")[0].click()"
   ]
  },
  {
   "cell_type": "code",
   "execution_count": 20,
   "metadata": {},
   "outputs": [
    {
     "data": {
      "text/plain": [
       "<a class=\"ce cf bi bj bk bl bm bn bo bp cg ch bs bt ci cj\" href=\"https://medium.com/m/signin?operation=login&amp;redirect=https%3A%2F%2Fmedium.com%2Ftopic%2Fsports&amp;source=--------------------------nav_reg-\" rel=\"noopener\">Sign in</a>"
      ]
     },
     "execution_count": 20,
     "metadata": {},
     "output_type": "execute_result"
    }
   ],
   "source": [
    "i"
   ]
  },
  {
   "cell_type": "code",
   "execution_count": null,
   "metadata": {},
   "outputs": [],
   "source": []
  }
 ],
 "metadata": {
  "kernelspec": {
   "display_name": "Python 3",
   "language": "python",
   "name": "python3"
  },
  "language_info": {
   "codemirror_mode": {
    "name": "ipython",
    "version": 3
   },
   "file_extension": ".py",
   "mimetype": "text/x-python",
   "name": "python",
   "nbconvert_exporter": "python",
   "pygments_lexer": "ipython3",
   "version": "3.7.3"
  }
 },
 "nbformat": 4,
 "nbformat_minor": 2
}
