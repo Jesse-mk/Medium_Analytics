{
 "cells": [
  {
   "cell_type": "code",
   "execution_count": 1,
   "metadata": {},
   "outputs": [],
   "source": [
    "import pandas as pd\n",
    "import numpy as np\n",
    "import matplotlib.pyplot as plt\n",
    "import seaborn as sn\n",
    "from sklearn.feature_extraction.text import TfidfVectorizer as tfidf\n",
    "from sklearn.model_selection import train_test_split\n",
    "import re\n",
    "import statsmodels.api as sm\n",
    "import matplotlib.pyplot as plt\n",
    "import statsmodels.formula.api as smf\n",
    "from sklearn.model_selection import cross_val_score, cross_val_predict\n",
    "from sklearn import metrics\n",
    "from sklearn.compose import ColumnTransformer\n",
    "from sklearn.pipeline import make_pipeline\n",
    "from sklearn.pipeline import Pipeline\n",
    "from sklearn.naive_bayes import MultinomialNB\n",
    "from sklearn.metrics import accuracy_score\n",
    "from sklearn.metrics import confusion_matrix\n",
    "from sklearn.feature_extraction.text import CountVectorizer as countvec"
   ]
  },
  {
   "cell_type": "code",
   "execution_count": 2,
   "metadata": {},
   "outputs": [],
   "source": [
    "## importing all csv data\n",
    "money = pd.read_csv('money_with_tags.csv').drop('Unnamed: 0', axis=1)\n",
    "tech = pd.read_csv('medium-tech-data.csv').drop('Unnamed: 0', axis=1)\n",
    "sports = pd.read_csv('medium-sports-data.csv').drop('Unnamed: 0', axis=1)\n",
    "politics = pd.read_csv('Politics_data_full.csv').drop('Unnamed: 0', axis=1)\n",
    "tech['type'] = [0]*len(tech)\n",
    "sports['type'] = [1]*len(sports)\n",
    "money['type'] = [2]*len(money)\n",
    "politics['type'] = [3]*len(politics)"
   ]
  },
  {
   "cell_type": "code",
   "execution_count": 3,
   "metadata": {},
   "outputs": [],
   "source": [
    "# removing columns in politics that are not in tech\n",
    "for i in politics.columns:\n",
    "    if i in tech.columns:\n",
    "        continue\n",
    "    else:\n",
    "        politics = politics.drop(i, axis=1)"
   ]
  },
  {
   "cell_type": "code",
   "execution_count": 4,
   "metadata": {},
   "outputs": [],
   "source": [
    "# removing columns in tech that are not in politics\n",
    "for i in tech.columns:\n",
    "    if i in politics.columns:\n",
    "        continue\n",
    "    else:\n",
    "        tech = tech.drop(i, axis=1)"
   ]
  },
  {
   "cell_type": "code",
   "execution_count": 5,
   "metadata": {},
   "outputs": [],
   "source": [
    "# removing columns in sports that are not in the other tables\n",
    "for i in sports.columns:\n",
    "    if i in politics.columns:\n",
    "        continue\n",
    "    else:\n",
    "        sports = sports.drop(i, axis=1)"
   ]
  },
  {
   "cell_type": "code",
   "execution_count": 6,
   "metadata": {},
   "outputs": [],
   "source": [
    "# removing columns in money that are not in the other tables\n",
    "for i in money.columns:\n",
    "    if i in politics.columns:\n",
    "        continue\n",
    "    else:\n",
    "        money = money.drop(i, axis=1)"
   ]
  },
  {
   "cell_type": "code",
   "execution_count": 7,
   "metadata": {},
   "outputs": [],
   "source": [
    "def convert_to_int(followers):\n",
    "    if followers[-1]=='K':\n",
    "        return 1000* float(followers[:-1])\n",
    "    return int(followers)\n",
    "def check_if_k(string):\n",
    "    if ',' in string:\n",
    "        return False\n",
    "    if 'fall' in string:\n",
    "        return False\n",
    "    if 'Whether' in string:\n",
    "        return False\n",
    "    if string[-1]=='K' and string[:-1].isalpha()==False:\n",
    "        return True\n",
    "    elif string[-1]!='K' and string.isalpha()==False:\n",
    "        return True\n",
    "    return False\n",
    "sports = sports.loc[sports['claps'].apply(check_if_k)].reset_index(drop=True)"
   ]
  },
  {
   "cell_type": "code",
   "execution_count": 8,
   "metadata": {},
   "outputs": [],
   "source": [
    "# clean sports table\n",
    "sports = sports.dropna().reset_index(drop=True)\n",
    "sports = sports.loc[list(sports['tags'].apply(lambda x: x[0]=='['))].reset_index(drop=True)\n",
    "sports['followers']=sports['followers'].apply(convert_to_int)\n",
    "sports['following']=sports['following'].apply(convert_to_int)\n",
    "sports['claps'] = sports['claps'].apply(convert_to_int)\n",
    "sports['published'] = pd.to_datetime(sports['published'])"
   ]
  },
  {
   "cell_type": "code",
   "execution_count": 9,
   "metadata": {},
   "outputs": [],
   "source": [
    "# clean politics table\n",
    "tech['followers']=tech['followers'].apply(convert_to_int)\n",
    "tech['following']=tech['following'].apply(convert_to_int)\n",
    "tech = tech.loc[tech['claps'].apply(check_if_k)].reset_index(drop=True)\n",
    "tech['claps']=tech['claps'].apply(convert_to_int)\n",
    "tech['published'] = pd.to_datetime(tech['published'])"
   ]
  },
  {
   "cell_type": "code",
   "execution_count": 10,
   "metadata": {},
   "outputs": [],
   "source": [
    "# clean politics table\n",
    "politics = politics[politics.claps != 2020].reset_index(drop=True)"
   ]
  },
  {
   "cell_type": "code",
   "execution_count": 11,
   "metadata": {},
   "outputs": [],
   "source": [
    "# concat \n",
    "c_table = pd.concat([tech,sports,money, politics],sort=False)"
   ]
  },
  {
   "cell_type": "code",
   "execution_count": 12,
   "metadata": {},
   "outputs": [],
   "source": [
    "#dropping features that don't have any effect on the model\n",
    "f_table = c_table.drop(['url', 'author', 'published','username'],axis=1).reset_index(drop=True)\n",
    "f_table = f_table.dropna()"
   ]
  },
  {
   "cell_type": "code",
   "execution_count": 13,
   "metadata": {},
   "outputs": [],
   "source": [
    "## Convert the tags and text columns to tfidf and add it to table\n",
    "\n",
    "## The following function converts list of tags to a combined\n",
    "## string\n",
    "def tag_words(tags):\n",
    "    return ' '.join(re.findall(\"\\w+\", tags)).lower()\n",
    "f_table['tags']=f_table['tags'].apply(tag_words)\n",
    "f_table['text']=f_table['text'].apply(tag_words)\n",
    "f_table['title']=f_table['title'].apply(tag_words)\n",
    "#vector = tfidf(stop_words = \"english\", strip_accents = 'ascii', max_features = 200)\n",
    "#vector.fit(f_table['text'])\n",
    "#text_tfidf = vector.transform(f_table['text']).toarray()\n",
    "#f_table = pd.concat([f_table,pd.DataFrame(text_tfidf, columns=vector.get_feature_names())],axis=1)\n",
    "#vector.fit(f_table['tags'])\n",
    "#text_tfidf = vector.transform(f_table['tags']).toarray()\n",
    "#f_table = pd.concat([f_table,pd.DataFrame(text_tfidf, columns=vector.get_feature_names())],axis=1)"
   ]
  },
  {
   "cell_type": "code",
   "execution_count": 14,
   "metadata": {},
   "outputs": [],
   "source": [
    "## drop unnecessary columns and split dataset into test, train and validation \n",
    "#f_table = f_table.drop(['text','tags'],axis=1)\n",
    "f_table = f_table.dropna()\n",
    "X= f_table.drop('type',axis=1)\n",
    "y= f_table['type'].values\n",
    "X_train, X_test, y_train, y_test = train_test_split(X, y, test_size=0.5)\n",
    "X_test, X_val, y_test, y_val = train_test_split(X_test, y_test, test_size=0.5)"
   ]
  },
  {
   "cell_type": "markdown",
   "metadata": {},
   "source": [
    "## Exploring the data"
   ]
  },
  {
   "cell_type": "code",
   "execution_count": 41,
   "metadata": {},
   "outputs": [],
   "source": [
    "tech = f_table.loc[f_table['type']==0]\n",
    "sports = f_table.loc[f_table['type']==1]\n",
    "money = f_table.loc[f_table['type']==2]\n",
    "politics = f_table.loc[f_table['type']==3]"
   ]
  },
  {
   "cell_type": "markdown",
   "metadata": {},
   "source": [
    "### Understanding what words are important in each category "
   ]
  },
  {
   "cell_type": "code",
   "execution_count": 75,
   "metadata": {},
   "outputs": [
    {
     "data": {
      "text/plain": [
       "Text(0, 0.5, 'Word Count')"
      ]
     },
     "execution_count": 75,
     "metadata": {},
     "output_type": "execute_result"
    },
    {
     "data": {
      "image/png": "[encoded data removed]",
      "text/plain": [
       "<Figure size 432x288 with 1 Axes>"
      ]
     },
     "metadata": {
      "needs_background": "light"
     },
     "output_type": "display_data"
    }
   ],
   "source": [
    "vector = tfidf(stop_words = \"english\", strip_accents = 'ascii')\n",
    "exp = vector.fit_transform(tech['text'])\n",
    "exp_tfidf = pd.DataFrame(exp.toarray(),columns=vector.get_feature_names()).sum(axis=0).sort_values(ascending=False)[:25]\n",
    "#a_vector = countvec(stop_words = \"english\", strip_accents = 'ascii', vocabulary=list(exp_tfidf))\n",
    "#pd.DataFrame(pd.DataFrame(vector.fit_transform(tech['text']).toarray(), columns=vector.get_feature_names()).sum(axis=0)).reset_index().plot.bar(x='index',y=0)\n",
    "pd.DataFrame(exp_tfidf).reset_index().plot.bar(x='index',y=0)\n",
    "plt.title('Word Counts of Words with high TF-IDF scores for Tech')\n",
    "plt.xlabel('Top 25 words ordered by TF-IDF scores')\n",
    "plt.ylabel('Word Count')"
   ]
  },
  {
   "cell_type": "code",
   "execution_count": 76,
   "metadata": {
    "scrolled": true
   },
   "outputs": [
    {
     "data": {
      "text/plain": [
       "Text(0, 0.5, 'Word Count')"
      ]
     },
     "execution_count": 76,
     "metadata": {},
     "output_type": "execute_result"
    },
    {
     "data": {
      "image/png": "[encoded data removed]",
      "text/plain": [
       "<Figure size 432x288 with 1 Axes>"
      ]
     },
     "metadata": {
      "needs_background": "light"
     },
     "output_type": "display_data"
    }
   ],
   "source": [
    "vector = tfidf(stop_words = \"english\", strip_accents = 'ascii')\n",
    "exp = vector.fit_transform(sports['text'])\n",
    "#exp_tfidf = pd.DataFrame(exp.toarray(),columns=vector.get_feature_names()).sum(axis=0).sort_values(ascending=False).index[:25]\n",
    "#a_vector = countvec(stop_words = \"english\", strip_accents = 'ascii', vocabulary=list(exp_tfidf))\n",
    "#pd.DataFrame(pd.DataFrame(vector.fit_transform(sports['text']).toarray(), columns=vector.get_feature_names()).sum(axis=0)).reset_index().plot.bar(x='index',y=0)\n",
    "#plt.title('Word Counts of Words with high TF-IDF scores for Sports')\n",
    "#plt.xlabel('Top 25 words ordered by TF-IDF scores')\n",
    "#plt.ylabel('Word Count')\n",
    "exp_tfidf = pd.DataFrame(exp.toarray(),columns=vector.get_feature_names()).sum(axis=0).sort_values(ascending=False)[:25]\n",
    "pd.DataFrame(exp_tfidf).reset_index().plot.bar(x='index',y=0)\n",
    "plt.title('Word Counts of Words with high TF-IDF scores for Tech')\n",
    "plt.xlabel('Top 25 words ordered by TF-IDF scores')\n",
    "plt.ylabel('Word Count')"
   ]
  },
  {
   "cell_type": "code",
   "execution_count": 77,
   "metadata": {},
   "outputs": [
    {
     "data": {
      "text/plain": [
       "Text(0, 0.5, 'Word Count')"
      ]
     },
     "execution_count": 77,
     "metadata": {},
     "output_type": "execute_result"
    },
    {
     "data": {
      "image/png": "[encoded data removed]",
      "text/plain": [
       "<Figure size 432x288 with 1 Axes>"
      ]
     },
     "metadata": {
      "needs_background": "light"
     },
     "output_type": "display_data"
    }
   ],
   "source": [
    "vector = tfidf(stop_words = \"english\", strip_accents = 'ascii')\n",
    "exp = vector.fit_transform(money['text'])\n",
    "exp_tfidf = pd.DataFrame(exp.toarray(),columns=vector.get_feature_names()).sum(axis=0).sort_values(ascending=False)[:25]\n",
    "#a_vector = countvec(stop_words = \"english\", strip_accents = 'ascii', vocabulary=list(exp_tfidf))\n",
    "#pd.DataFrame(pd.DataFrame(vector.fit_transform(tech['text']).toarray(), columns=vector.get_feature_names()).sum(axis=0)).reset_index().plot.bar(x='index',y=0)\n",
    "pd.DataFrame(exp_tfidf).reset_index().plot.bar(x='index',y=0)\n",
    "plt.title('Word Counts of Words with high TF-IDF scores for Tech')\n",
    "plt.xlabel('Top 25 words ordered by TF-IDF scores')\n",
    "plt.ylabel('Word Count')"
   ]
  },
  {
   "cell_type": "code",
   "execution_count": 78,
   "metadata": {},
   "outputs": [
    {
     "data": {
      "text/plain": [
       "Text(0, 0.5, 'Word Count')"
      ]
     },
     "execution_count": 78,
     "metadata": {},
     "output_type": "execute_result"
    },
    {
     "data": {
      "image/png": "[encoded data removed]",
      "text/plain": [
       "<Figure size 432x288 with 1 Axes>"
      ]
     },
     "metadata": {
      "needs_background": "light"
     },
     "output_type": "display_data"
    }
   ],
   "source": [
    "vector = tfidf(stop_words = \"english\", strip_accents = 'ascii')\n",
    "exp = vector.fit_transform(politics['text'])\n",
    "exp_tfidf = pd.DataFrame(exp.toarray(),columns=vector.get_feature_names()).sum(axis=0).sort_values(ascending=False)[:25]\n",
    "#a_vector = countvec(stop_words = \"english\", strip_accents = 'ascii', vocabulary=list(exp_tfidf))\n",
    "#pd.DataFrame(pd.DataFrame(vector.fit_transform(tech['text']).toarray(), columns=vector.get_feature_names()).sum(axis=0)).reset_index().plot.bar(x='index',y=0)\n",
    "pd.DataFrame(exp_tfidf).reset_index().plot.bar(x='index',y=0)\n",
    "plt.title('Word Counts of Words with high TF-IDF scores for Tech')\n",
    "plt.xlabel('Top 25 words ordered by TF-IDF scores')\n",
    "plt.ylabel('Word Count')"
   ]
  },
  {
   "cell_type": "markdown",
   "metadata": {},
   "source": [
    "## Implementing a Multinomial Naive Bayes Classification Model"
   ]
  },
  {
   "cell_type": "code",
   "execution_count": 20,
   "metadata": {},
   "outputs": [],
   "source": [
    "lst_model = []\n",
    "train_accuracy = []\n",
    "test_accuracy = []"
   ]
  },
  {
   "cell_type": "markdown",
   "metadata": {},
   "source": [
    "Since the Multinomial Naive Bayes Model works best with text data hence all other features such as followers and following were removed from the feature set. The only features used and worked best with the classifier are <b>text, tag and title</b>. <br>"
   ]
  },
  {
   "cell_type": "markdown",
   "metadata": {},
   "source": [
    "With stopwords:"
   ]
  },
  {
   "cell_type": "code",
   "execution_count": 21,
   "metadata": {},
   "outputs": [
    {
     "name": "stdout",
     "output_type": "stream",
     "text": [
      "Train accuracy: 0.9596\n",
      "Validation accuracy: 0.9250\n"
     ]
    }
   ],
   "source": [
    "preprocess = ColumnTransformer(\n",
    "    [('tags_tfidf', tfidf(ngram_range=([1, 1])), 'tags'),\n",
    "         ('text_tfidf', tfidf(ngram_range=(1,1)), 'text'),\n",
    "    ('title_tfidf', tfidf(ngram_range=(1,1)), 'title')])\n",
    "model = make_pipeline(\n",
    "    preprocess,\n",
    "    MultinomialNB())\n",
    "model.fit(X_train, y_train)\n",
    "y_train_pred = model.predict(X_train)\n",
    "y_pred = model.predict(X_val)\n",
    "lst_model.append(model)\n",
    "\n",
    "train_rmse = accuracy_score(y_train_pred, y_train)\n",
    "test_rmse = accuracy_score(y_pred, y_val)\n",
    "train_accuracy.append(train_rmse)\n",
    "test_accuracy.append(test_rmse)\n",
    "print('Train accuracy: %.4f' % train_rmse)\n",
    "print('Validation accuracy: %.4f' % test_rmse)"
   ]
  },
  {
   "cell_type": "code",
   "execution_count": 22,
   "metadata": {},
   "outputs": [
    {
     "name": "stdout",
     "output_type": "stream",
     "text": [
      "Train accuracy: 0.9574\n",
      "Validation accuracy: 0.9008\n"
     ]
    }
   ],
   "source": [
    "preprocess = ColumnTransformer(\n",
    "    [('tags_tfidf', tfidf(ngram_range=([1, 1])), 'tags'),\n",
    "         ('text_tfidf', tfidf(ngram_range=(1,2)), 'text'),\n",
    "    ('title_tfidf', tfidf(ngram_range=(1,2)), 'title')])\n",
    "model = make_pipeline(\n",
    "    preprocess,\n",
    "    MultinomialNB())\n",
    "model.fit(X_train, y_train)\n",
    "y_train_pred = model.predict(X_train)\n",
    "y_pred = model.predict(X_val)\n",
    "lst_model.append(model)\n",
    "\n",
    "train_rmse = accuracy_score(y_train_pred, y_train)\n",
    "test_rmse = accuracy_score(y_pred, y_val)\n",
    "train_accuracy.append(train_rmse)\n",
    "test_accuracy.append(test_rmse)\n",
    "print('Train accuracy: %.4f' % train_rmse)\n",
    "print('Validation accuracy: %.4f' % test_rmse)"
   ]
  },
  {
   "cell_type": "markdown",
   "metadata": {},
   "source": [
    "Without stopwords:"
   ]
  },
  {
   "cell_type": "code",
   "execution_count": 23,
   "metadata": {},
   "outputs": [
    {
     "name": "stdout",
     "output_type": "stream",
     "text": [
      "Train accuracy: 0.9680\n",
      "Validation accuracy: 0.9348\n"
     ]
    }
   ],
   "source": [
    "preprocess = ColumnTransformer(\n",
    "    [('tags_tfidf', tfidf(ngram_range=([1, 1]),stop_words='english'), 'tags'),\n",
    "         ('text_tfidf', tfidf(ngram_range=(1,1),stop_words='english'), 'text'),\n",
    "    ('title_tfidf', tfidf(ngram_range=(1,1),stop_words='english'), 'title')])\n",
    "model = make_pipeline(\n",
    "    preprocess,\n",
    "    MultinomialNB())\n",
    "model.fit(X_train, y_train)\n",
    "y_train_pred = model.predict(X_train)\n",
    "y_pred = model.predict(X_val)\n",
    "lst_model.append(model)\n",
    "\n",
    "train_rmse = accuracy_score(y_train_pred, y_train)\n",
    "test_rmse = accuracy_score(y_pred, y_val)\n",
    "train_accuracy.append(train_rmse)\n",
    "test_accuracy.append(test_rmse)\n",
    "print('Train accuracy: %.4f' % train_rmse)\n",
    "print('Validation accuracy: %.4f' % test_rmse)"
   ]
  },
  {
   "cell_type": "code",
   "execution_count": 24,
   "metadata": {},
   "outputs": [
    {
     "name": "stdout",
     "output_type": "stream",
     "text": [
      "Train accuracy: 0.9748\n",
      "Validation accuracy: 0.9233\n"
     ]
    }
   ],
   "source": [
    "preprocess = ColumnTransformer(\n",
    "    [('tags_tfidf', tfidf(ngram_range=([1, 1]),stop_words='english'), 'tags'),\n",
    "         ('text_tfidf', tfidf(ngram_range=(1,2),stop_words='english'), 'text'),\n",
    "    ('title_tfidf', tfidf(ngram_range=(1,2),stop_words='english'), 'title')])\n",
    "model = make_pipeline(\n",
    "    preprocess,\n",
    "    MultinomialNB())\n",
    "model.fit(X_train, y_train)\n",
    "y_train_pred = model.predict(X_train)\n",
    "y_pred = model.predict(X_val)\n",
    "lst_model.append(model)\n",
    "\n",
    "train_rmse = accuracy_score(y_train_pred, y_train)\n",
    "test_rmse = accuracy_score(y_pred, y_val)\n",
    "train_accuracy.append(train_rmse)\n",
    "test_accuracy.append(test_rmse)\n",
    "print('Train accuracy: %.4f' % train_rmse)\n",
    "print('Validation accuracy: %.4f' % test_rmse)"
   ]
  },
  {
   "cell_type": "code",
   "execution_count": 25,
   "metadata": {},
   "outputs": [],
   "source": [
    "train_val = []\n",
    "for i in range(len(train_accuracy)):\n",
    "    temp = []\n",
    "    if i==0 or i==1:\n",
    "        temp.append('include stop-words')\n",
    "    if i==2 or i==3:\n",
    "        temp.append('remove stop-words')\n",
    "    if i==0 or i==2:\n",
    "        temp.append('unigrams')\n",
    "    if i==1 or i==3:\n",
    "        temp.append('unigrams and bigrams')\n",
    "    temp.append(train_accuracy[i])\n",
    "    temp.append(test_accuracy[i])\n",
    "    train_val.append(temp)\n",
    "compiled_models = pd.DataFrame(train_val, columns=['Stop-Words','Unigrams/Bigrams','Train Accuracy','Validation Accuracy'])"
   ]
  },
  {
   "cell_type": "markdown",
   "metadata": {},
   "source": [
    "The model was further optimised by playing with ngrams when converting text, tag and title to tfidf.<br>\n",
    "The best combination of ngrams was unigrams for tags, text and title. Converting the tfidf to either unigrams or bigrams for any of the features resulted in the training data to be overfit, hence, the validation score would drop."
   ]
  },
  {
   "cell_type": "code",
   "execution_count": 26,
   "metadata": {},
   "outputs": [
    {
     "data": {
      "text/html": [
       "<div>\n",
       "<style scoped>\n",
       "    .dataframe tbody tr th:only-of-type {\n",
       "        vertical-align: middle;\n",
       "    }\n",
       "\n",
       "    .dataframe tbody tr th {\n",
       "        vertical-align: top;\n",
       "    }\n",
       "\n",
       "    .dataframe thead th {\n",
       "        text-align: right;\n",
       "    }\n",
       "</style>\n",
       "<table border=\"1\" class=\"dataframe\">\n",
       "  <thead>\n",
       "    <tr style=\"text-align: right;\">\n",
       "      <th></th>\n",
       "      <th>Stop-Words</th>\n",
       "      <th>Unigrams/Bigrams</th>\n",
       "      <th>Train Accuracy</th>\n",
       "      <th>Validation Accuracy</th>\n",
       "    </tr>\n",
       "  </thead>\n",
       "  <tbody>\n",
       "    <tr>\n",
       "      <th>0</th>\n",
       "      <td>include stop-words</td>\n",
       "      <td>unigrams</td>\n",
       "      <td>0.959606</td>\n",
       "      <td>0.924969</td>\n",
       "    </tr>\n",
       "    <tr>\n",
       "      <th>1</th>\n",
       "      <td>include stop-words</td>\n",
       "      <td>unigrams and bigrams</td>\n",
       "      <td>0.957351</td>\n",
       "      <td>0.900779</td>\n",
       "    </tr>\n",
       "    <tr>\n",
       "      <th>2</th>\n",
       "      <td>remove stop-words</td>\n",
       "      <td>unigrams</td>\n",
       "      <td>0.968013</td>\n",
       "      <td>0.934809</td>\n",
       "    </tr>\n",
       "    <tr>\n",
       "      <th>3</th>\n",
       "      <td>remove stop-words</td>\n",
       "      <td>unigrams and bigrams</td>\n",
       "      <td>0.974780</td>\n",
       "      <td>0.923329</td>\n",
       "    </tr>\n",
       "  </tbody>\n",
       "</table>\n",
       "</div>"
      ],
      "text/plain": [
       "           Stop-Words      Unigrams/Bigrams  Train Accuracy  \\\n",
       "0  include stop-words              unigrams        0.959606   \n",
       "1  include stop-words  unigrams and bigrams        0.957351   \n",
       "2   remove stop-words              unigrams        0.968013   \n",
       "3   remove stop-words  unigrams and bigrams        0.974780   \n",
       "\n",
       "   Validation Accuracy  \n",
       "0             0.924969  \n",
       "1             0.900779  \n",
       "2             0.934809  \n",
       "3             0.923329  "
      ]
     },
     "execution_count": 26,
     "metadata": {},
     "output_type": "execute_result"
    }
   ],
   "source": [
    "compiled_models"
   ]
  },
  {
   "cell_type": "markdown",
   "metadata": {},
   "source": [
    "The test score for the best model:"
   ]
  },
  {
   "cell_type": "code",
   "execution_count": 27,
   "metadata": {},
   "outputs": [
    {
     "name": "stdout",
     "output_type": "stream",
     "text": [
      "Test accuracy: 0.9475\n"
     ]
    }
   ],
   "source": [
    "y_test_pred = lst_model[2].predict(X_test)\n",
    "print('Test accuracy: %.4f' % accuracy_score(y_test_pred, y_test))"
   ]
  },
  {
   "cell_type": "code",
   "execution_count": 28,
   "metadata": {},
   "outputs": [
    {
     "data": {
      "image/png": "[encoded data removed]",
      "text/plain": [
       "<Figure size 288x288 with 2 Axes>"
      ]
     },
     "metadata": {
      "needs_background": "light"
     },
     "output_type": "display_data"
    }
   ],
   "source": [
    "C = confusion_matrix(y_test, y_test_pred)\n",
    "C = C / C.astype(np.float).sum(axis=1)\n",
    "classes = ['tech', 'sports','money','politics']\n",
    "df_confusion = pd.DataFrame(C, columns=classes, index=classes)\n",
    "import matplotlib.pyplot as plt\n",
    "def plot_confusion_matrix(df_confusion, title='Confusion matrix', cmap=plt.cm.gray_r):\n",
    "    plt.matshow(df_confusion, cmap=cmap) # imshow\n",
    "    #plt.title(title)\n",
    "    plt.colorbar()\n",
    "    tick_marks = np.arange(len(df_confusion.columns))\n",
    "    plt.xticks(tick_marks, df_confusion.columns, rotation=45)\n",
    "    plt.yticks(tick_marks, df_confusion.index)\n",
    "    #plt.tight_layout()\n",
    "    plt.ylabel(df_confusion.index.name)\n",
    "    plt.xlabel(df_confusion.columns.name)\n",
    "\n",
    "plot_confusion_matrix(df_confusion)"
   ]
  },
  {
   "cell_type": "markdown",
   "metadata": {},
   "source": [
    "_____________________________\n",
    "<b>##Include everything above on the presentation. The Regression model was a bust :((<b>"
   ]
  },
  {
   "cell_type": "markdown",
   "metadata": {},
   "source": [
    "## Creating a Poisson Regression Model"
   ]
  },
  {
   "cell_type": "code",
   "execution_count": 81,
   "metadata": {},
   "outputs": [],
   "source": [
    "expr = \"\"\"claps ~ followers  + following\"\"\"\n",
    "for i in f_table.columns:\n",
    "    if i not in expr:\n",
    "        expr += (\"\"\" + \"\"\"+i)\n",
    "poisson_training_results = sm.GLM(y_train, X_train, family=sm.families.Poisson()).fit()"
   ]
  },
  {
   "cell_type": "code",
   "execution_count": 83,
   "metadata": {},
   "outputs": [
    {
     "name": "stdout",
     "output_type": "stream",
     "text": [
      "                 Generalized Linear Model Regression Results                  \n",
      "==============================================================================\n",
      "Dep. Variable:                      y   No. Observations:                 4939\n",
      "Model:                            GLM   Df Residuals:                     4540\n",
      "Model Family:                 Poisson   Df Model:                          398\n",
      "Link Function:                    log   Scale:                          1.0000\n",
      "Method:                          IRLS   Log-Likelihood:            -9.2164e+05\n",
      "Date:                Wed, 04 Dec 2019   Deviance:                   1.8149e+06\n",
      "Time:                        12:07:14   Pearson chi2:                 5.26e+06\n",
      "No. Iterations:                    14                                         \n",
      "Covariance Type:            nonrobust                                         \n",
      "==============================================================================\n",
      "                 coef    std err          z      P>|z|      [0.025      0.975]\n",
      "------------------------------------------------------------------------------\n",
      "x1          2.009e-11   1.37e-12     14.689      0.000    1.74e-11    2.28e-11\n",
      "x2         -5.655e-12   4.63e-13    -12.212      0.000   -6.56e-12   -4.75e-12\n",
      "x3            -0.0315      0.002    -15.386      0.000      -0.036      -0.027\n",
      "x4             0.3399      0.018     18.545      0.000       0.304       0.376\n",
      "x5             0.7489      0.023     32.896      0.000       0.704       0.793\n",
      "x6             1.4368      0.027     53.932      0.000       1.385       1.489\n",
      "x7            -1.1479      0.031    -36.733      0.000      -1.209      -1.087\n",
      "x8            -1.0260      0.027    -38.396      0.000      -1.078      -0.974\n",
      "x9             1.4355      0.024     60.151      0.000       1.389       1.482\n",
      "x10           -0.2639      0.027     -9.660      0.000      -0.317      -0.210\n",
      "x11            0.0879      0.021      4.225      0.000       0.047       0.129\n",
      "x12           -0.1359      0.023     -5.948      0.000      -0.181      -0.091\n",
      "x13            0.3477      0.023     15.215      0.000       0.303       0.392\n",
      "x14            2.1264      0.011    198.784      0.000       2.105       2.147\n",
      "x15            1.7220      0.024     71.679      0.000       1.675       1.769\n",
      "x16            1.8505      0.022     83.444      0.000       1.807       1.894\n",
      "x17           -0.0381      0.025     -1.515      0.130      -0.087       0.011\n",
      "x18            0.3426      0.026     12.954      0.000       0.291       0.394\n",
      "x19            0.1890      0.025      7.441      0.000       0.139       0.239\n",
      "x20            0.9129      0.024     38.533      0.000       0.866       0.959\n",
      "x21            2.0024      0.014    139.517      0.000       1.974       2.031\n",
      "x22           -0.1747      0.019     -9.091      0.000      -0.212      -0.137\n",
      "x23            0.4765      0.027     17.972      0.000       0.425       0.528\n",
      "x24           -0.7034      0.032    -22.218      0.000      -0.765      -0.641\n",
      "x25           -0.5925      0.023    -25.251      0.000      -0.639      -0.547\n",
      "x26            0.6682      0.025     26.661      0.000       0.619       0.717\n",
      "x27            0.1735      0.019      9.116      0.000       0.136       0.211\n",
      "x28            1.6311      0.028     58.369      0.000       1.576       1.686\n",
      "x29            0.9861      0.028     34.794      0.000       0.931       1.042\n",
      "x30            0.2449      0.033      7.519      0.000       0.181       0.309\n",
      "x31            0.0788      0.015      5.140      0.000       0.049       0.109\n",
      "x32            1.2132      0.012     97.332      0.000       1.189       1.238\n",
      "x33            0.5172      0.024     21.686      0.000       0.470       0.564\n",
      "x34            0.5264      0.022     23.399      0.000       0.482       0.570\n",
      "x35            2.2036      0.022     99.002      0.000       2.160       2.247\n",
      "x36           -1.3364      0.028    -47.445      0.000      -1.392      -1.281\n",
      "x37            0.0619      0.021      2.894      0.004       0.020       0.104\n",
      "x38            0.3647      0.031     11.837      0.000       0.304       0.425\n",
      "x39            1.3143      0.010    129.947      0.000       1.294       1.334\n",
      "x40           -0.6354      0.019    -33.022      0.000      -0.673      -0.598\n",
      "x41            0.1026      0.020      5.172      0.000       0.064       0.141\n",
      "x42            0.8761      0.021     41.240      0.000       0.834       0.918\n",
      "x43            1.5808      0.024     66.668      0.000       1.534       1.627\n",
      "x44           -0.0988      0.025     -4.022      0.000      -0.147      -0.051\n",
      "x45           -1.6625      0.026    -63.391      0.000      -1.714      -1.611\n",
      "x46            0.1435      0.027      5.219      0.000       0.090       0.197\n",
      "x47           -0.6341      0.026    -24.252      0.000      -0.685      -0.583\n",
      "x48            0.4734      0.029     16.594      0.000       0.418       0.529\n",
      "x49            0.4191      0.021     19.710      0.000       0.377       0.461\n",
      "x50           -1.6911      0.030    -57.275      0.000      -1.749      -1.633\n",
      "x51            0.1154      0.027      4.298      0.000       0.063       0.168\n",
      "x52           -0.9803      0.027    -36.327      0.000      -1.033      -0.927\n",
      "x53           -0.3203      0.025    -12.858      0.000      -0.369      -0.272\n",
      "x54            1.1753      0.013     90.083      0.000       1.150       1.201\n",
      "x55            0.1839      0.027      6.697      0.000       0.130       0.238\n",
      "x56            0.6519      0.026     25.527      0.000       0.602       0.702\n",
      "x57            1.7383      0.022     79.025      0.000       1.695       1.781\n",
      "x58           -0.4553      0.018    -24.635      0.000      -0.492      -0.419\n",
      "x59            1.1467      0.022     52.238      0.000       1.104       1.190\n",
      "x60            0.5926      0.022     26.474      0.000       0.549       0.636\n",
      "x61            1.3373      0.015     88.791      0.000       1.308       1.367\n",
      "x62            0.8549      0.019     46.122      0.000       0.819       0.891\n",
      "x63           -1.8909      0.030    -62.655      0.000      -1.950      -1.832\n",
      "x64           -2.2171      0.034    -64.644      0.000      -2.284      -2.150\n",
      "x65            0.3735      0.024     15.251      0.000       0.325       0.421\n",
      "x66            0.1583      0.024      6.651      0.000       0.112       0.205\n",
      "x67            1.4490      0.012    122.200      0.000       1.426       1.472\n",
      "x68            0.7011      0.025     28.073      0.000       0.652       0.750\n",
      "x69           -0.8083      0.019    -41.895      0.000      -0.846      -0.770\n",
      "x70            0.2729      0.026     10.503      0.000       0.222       0.324\n",
      "x71            0.8943      0.028     32.220      0.000       0.840       0.949\n",
      "x72            0.8071      0.029     28.123      0.000       0.751       0.863\n",
      "x73            0.8873      0.017     52.266      0.000       0.854       0.921\n",
      "x74            0.3800      0.023     16.367      0.000       0.335       0.426\n",
      "x75           -0.7392      0.023    -31.903      0.000      -0.785      -0.694\n",
      "x76           -0.3812      0.028    -13.829      0.000      -0.435      -0.327\n",
      "x77           -0.4091      0.019    -21.431      0.000      -0.447      -0.372\n",
      "x78            0.5469      0.020     27.075      0.000       0.507       0.586\n",
      "x79            1.1692      0.014     86.075      0.000       1.143       1.196\n",
      "x80            0.4777      0.027     17.868      0.000       0.425       0.530\n",
      "x81            1.4930      0.027     55.529      0.000       1.440       1.546\n",
      "x82            0.5921      0.032     18.256      0.000       0.529       0.656\n",
      "x83            0.5602      0.020     27.875      0.000       0.521       0.600\n",
      "x84            0.6758      0.016     41.061      0.000       0.644       0.708\n",
      "x85            3.8454      0.027    144.974      0.000       3.793       3.897\n",
      "x86            0.4512      0.025     17.980      0.000       0.402       0.500\n",
      "x87           -0.5877      0.023    -25.855      0.000      -0.632      -0.543\n",
      "x88            0.7275      0.020     36.121      0.000       0.688       0.767\n",
      "x89            1.1698      0.020     57.563      0.000       1.130       1.210\n",
      "x90            1.7192      0.029     58.337      0.000       1.661       1.777\n",
      "x91            0.3326      0.019     17.158      0.000       0.295       0.371\n",
      "x92            0.8711      0.023     38.431      0.000       0.827       0.916\n",
      "x93           -1.0552      0.029    -35.849      0.000      -1.113      -0.997\n",
      "x94            0.8831      0.025     35.019      0.000       0.834       0.933\n",
      "x95            0.7998      0.023     34.457      0.000       0.754       0.845\n",
      "x96            0.3291      0.017     19.751      0.000       0.296       0.362\n",
      "x97            0.6203      0.017     37.482      0.000       0.588       0.653\n",
      "x98           -1.8841      0.029    -64.617      0.000      -1.941      -1.827\n",
      "x99            1.7599      0.025     71.028      0.000       1.711       1.808\n",
      "x100          -1.1729      0.028    -42.278      0.000      -1.227      -1.119\n",
      "x101          -1.1073      0.026    -42.192      0.000      -1.159      -1.056\n",
      "x102           1.2692      0.020     64.262      0.000       1.231       1.308\n",
      "x103           1.5375      0.028     54.127      0.000       1.482       1.593\n",
      "x104           0.8182      0.027     30.025      0.000       0.765       0.872\n",
      "x105          -1.8136      0.030    -59.526      0.000      -1.873      -1.754\n",
      "x106           0.1945      0.025      7.709      0.000       0.145       0.244\n",
      "x107           1.3211      0.024     55.675      0.000       1.275       1.368\n",
      "x108           0.1505      0.030      5.068      0.000       0.092       0.209\n",
      "x109           0.4232      0.028     15.267      0.000       0.369       0.478\n",
      "x110           2.0091      0.021     96.282      0.000       1.968       2.050\n",
      "x111          -0.0297      0.018     -1.660      0.097      -0.065       0.005\n",
      "x112           1.2476      0.029     43.091      0.000       1.191       1.304\n",
      "x113           1.2161      0.018     69.475      0.000       1.182       1.250\n",
      "x114           0.6741      0.018     37.879      0.000       0.639       0.709\n",
      "x115           2.3259      0.015    152.092      0.000       2.296       2.356\n",
      "x116           0.0675      0.013      5.338      0.000       0.043       0.092\n",
      "x117          -0.4117      0.023    -18.095      0.000      -0.456      -0.367\n",
      "x118          -0.8265      0.031    -27.022      0.000      -0.886      -0.767\n",
      "x119           1.2780      0.021     60.634      0.000       1.237       1.319\n",
      "x120           1.1027      0.019     58.837      0.000       1.066       1.139\n",
      "x121           1.4905      0.016     93.898      0.000       1.459       1.522\n",
      "x122           1.1937      0.018     67.621      0.000       1.159       1.228\n",
      "x123           0.5518      0.025     22.359      0.000       0.503       0.600\n",
      "x124          -0.1149      0.026     -4.497      0.000      -0.165      -0.065\n",
      "x125           1.3840      0.024     56.999      0.000       1.336       1.432\n",
      "x126           2.0011      0.026     76.300      0.000       1.950       2.053\n",
      "x127          -0.5132      0.021    -24.362      0.000      -0.554      -0.472\n",
      "x128           0.3273      0.030     11.003      0.000       0.269       0.386\n",
      "x129           1.5102      0.019     80.730      0.000       1.474       1.547\n",
      "x130           1.0050      0.012     84.300      0.000       0.982       1.028\n",
      "x131           0.3397      0.021     16.144      0.000       0.298       0.381\n",
      "x132          -0.4238      0.025    -17.271      0.000      -0.472      -0.376\n",
      "x133           1.1785      0.027     43.089      0.000       1.125       1.232\n",
      "x134           0.8519      0.024     35.308      0.000       0.805       0.899\n",
      "x135           1.8198      0.022     82.353      0.000       1.776       1.863\n",
      "x136          -0.5542      0.019    -29.105      0.000      -0.592      -0.517\n",
      "x137          -0.3649      0.029    -12.775      0.000      -0.421      -0.309\n",
      "x138          -0.6652      0.029    -22.908      0.000      -0.722      -0.608\n",
      "x139          -0.4347      0.025    -17.686      0.000      -0.483      -0.386\n",
      "x140          -0.8503      0.019    -43.804      0.000      -0.888      -0.812\n",
      "x141           1.3692      0.028     48.640      0.000       1.314       1.424\n",
      "x142           0.7832      0.018     42.355      0.000       0.747       0.819\n",
      "x143           0.0754      0.018      4.179      0.000       0.040       0.111\n",
      "x144           0.9872      0.023     42.097      0.000       0.941       1.033\n",
      "x145          -0.5119      0.025    -20.738      0.000      -0.560      -0.463\n",
      "x146          -0.3265      0.021    -15.457      0.000      -0.368      -0.285\n",
      "x147          -0.9844      0.027    -36.864      0.000      -1.037      -0.932\n",
      "x148           0.5060      0.022     23.483      0.000       0.464       0.548\n",
      "x149           0.8457      0.023     37.408      0.000       0.801       0.890\n",
      "x150           0.7256      0.016     45.391      0.000       0.694       0.757\n",
      "x151          -1.5827      0.023    -68.333      0.000      -1.628      -1.537\n",
      "x152          -0.5292      0.025    -20.961      0.000      -0.579      -0.480\n",
      "x153          -0.2760      0.015    -18.687      0.000      -0.305      -0.247\n",
      "x154          -0.0735      0.025     -2.892      0.004      -0.123      -0.024\n",
      "x155           1.0886      0.009    122.454      0.000       1.071       1.106\n",
      "x156          -0.5719      0.024    -23.540      0.000      -0.619      -0.524\n",
      "x157          -0.8174      0.030    -26.963      0.000      -0.877      -0.758\n",
      "x158          -0.0156      0.029     -0.546      0.585      -0.072       0.040\n",
      "x159           0.5798      0.031     18.854      0.000       0.520       0.640\n",
      "x160           0.7964      0.026     30.943      0.000       0.746       0.847\n",
      "x161           0.0392      0.017      2.340      0.019       0.006       0.072\n",
      "x162           0.2657      0.017     15.593      0.000       0.232       0.299\n",
      "x163           0.0731      0.028      2.594      0.009       0.018       0.128\n",
      "x164           1.6961      0.025     68.678      0.000       1.648       1.745\n",
      "x165          -0.8893      0.021    -42.336      0.000      -0.931      -0.848\n",
      "x166           0.5673      0.027     21.174      0.000       0.515       0.620\n",
      "x167           0.3475      0.023     14.990      0.000       0.302       0.393\n",
      "x168          -0.8282      0.031    -27.131      0.000      -0.888      -0.768\n",
      "x169           0.0112      0.022      0.515      0.606      -0.031       0.054\n",
      "x170          -0.7676      0.018    -43.772      0.000      -0.802      -0.733\n",
      "x171           1.7174      0.022     78.129      0.000       1.674       1.760\n",
      "x172           0.5908      0.014     43.571      0.000       0.564       0.617\n",
      "x173          -0.0487      0.012     -3.900      0.000      -0.073      -0.024\n",
      "x174          -0.6363      0.030    -21.143      0.000      -0.695      -0.577\n",
      "x175           0.4346      0.026     16.764      0.000       0.384       0.485\n",
      "x176          -0.8993      0.022    -40.618      0.000      -0.943      -0.856\n",
      "x177           0.6511      0.022     29.555      0.000       0.608       0.694\n",
      "x178           0.9907      0.017     59.277      0.000       0.958       1.023\n",
      "x179          -0.7961      0.026    -30.900      0.000      -0.847      -0.746\n",
      "x180          -0.5766      0.025    -23.486      0.000      -0.625      -0.528\n",
      "x181           0.6649      0.011     59.497      0.000       0.643       0.687\n",
      "x182          -0.0124      0.027     -0.454      0.650      -0.066       0.041\n",
      "x183           0.8145      0.031     26.557      0.000       0.754       0.875\n",
      "x184           1.7125      0.017     97.920      0.000       1.678       1.747\n",
      "x185           1.2117      0.022     54.113      0.000       1.168       1.256\n",
      "x186           0.0165      0.013      1.234      0.217      -0.010       0.043\n",
      "x187          -0.1989      0.023     -8.810      0.000      -0.243      -0.155\n",
      "x188           0.0594      0.021      2.817      0.005       0.018       0.101\n",
      "x189           1.0696      0.017     63.515      0.000       1.037       1.103\n",
      "x190           0.5194      0.021     24.647      0.000       0.478       0.561\n",
      "x191           0.7331      0.023     31.493      0.000       0.688       0.779\n",
      "x192           0.0567      0.024      2.343      0.019       0.009       0.104\n",
      "x193          -0.3405      0.031    -11.118      0.000      -0.401      -0.280\n",
      "x194           0.8699      0.022     39.277      0.000       0.827       0.913\n",
      "x195           0.4381      0.017     25.492      0.000       0.404       0.472\n",
      "x196          -0.0261      0.026     -1.007      0.314      -0.077       0.025\n",
      "x197           1.1104      0.012     89.281      0.000       1.086       1.135\n",
      "x198           0.2590      0.027      9.441      0.000       0.205       0.313\n",
      "x199           2.5128      0.017    148.769      0.000       2.480       2.546\n",
      "x200          -1.2270      0.026    -47.036      0.000      -1.278      -1.176\n",
      "x201           0.4857      0.016     30.003      0.000       0.454       0.517\n",
      "x202           0.9326      0.019     49.175      0.000       0.895       0.970\n",
      "x203           0.5833      0.022     26.740      0.000       0.541       0.626\n",
      "x204           1.5170      0.034     44.328      0.000       1.450       1.584\n",
      "x205           1.1713      0.045     25.863      0.000       1.083       1.260\n",
      "x206           0.6843      0.034     20.328      0.000       0.618       0.750\n",
      "x207           1.6509      0.020     83.120      0.000       1.612       1.690\n",
      "x208           1.3694      0.080     17.176      0.000       1.213       1.526\n",
      "x209           0.2557      0.019     13.200      0.000       0.218       0.294\n",
      "x210           2.0983      0.013    155.855      0.000       2.072       2.125\n",
      "x211           1.5264      0.019     81.317      0.000       1.490       1.563\n",
      "x212          -0.1332      0.039     -3.443      0.001      -0.209      -0.057\n",
      "x213           1.5767      0.025     63.184      0.000       1.528       1.626\n",
      "x214           2.1446      0.012    176.090      0.000       2.121       2.168\n",
      "x215           0.6052      0.073      8.249      0.000       0.461       0.749\n",
      "x216          -0.8430      0.030    -28.568      0.000      -0.901      -0.785\n",
      "x217           0.4731      0.022     21.107      0.000       0.429       0.517\n",
      "x218           1.1008      0.017     65.009      0.000       1.068       1.134\n",
      "x219          -1.3399      0.068    -19.610      0.000      -1.474      -1.206\n",
      "x220           0.5229      0.026     20.441      0.000       0.473       0.573\n",
      "x221           1.5396      0.022     68.770      0.000       1.496       1.583\n",
      "x222           0.9666      0.038     25.527      0.000       0.892       1.041\n",
      "x223           1.2177      0.011    115.925      0.000       1.197       1.238\n",
      "x224           0.5580      0.060      9.261      0.000       0.440       0.676\n",
      "x225          -0.5454      0.058     -9.350      0.000      -0.660      -0.431\n",
      "x226           2.5131      0.036     70.132      0.000       2.443       2.583\n",
      "x227           0.4632      0.071      6.570      0.000       0.325       0.601\n",
      "x228           2.1968      0.023     96.176      0.000       2.152       2.242\n",
      "x229           2.6987      0.015    179.901      0.000       2.669       2.728\n",
      "x230           0.0954      0.028      3.396      0.001       0.040       0.150\n",
      "x231          -0.2002      0.034     -5.968      0.000      -0.266      -0.134\n",
      "x232           0.5094      0.025     20.378      0.000       0.460       0.558\n",
      "x233          -0.0097      0.054     -0.179      0.858      -0.116       0.097\n",
      "x234           0.9569      0.047     20.541      0.000       0.866       1.048\n",
      "x235           0.4451      0.032     13.766      0.000       0.382       0.509\n",
      "x236           2.0456      0.013    162.009      0.000       2.021       2.070\n",
      "x237          -4.2390      0.066    -64.495      0.000      -4.368      -4.110\n",
      "x238           1.0603      0.049     21.545      0.000       0.964       1.157\n",
      "x239          -3.4072      0.161    -21.183      0.000      -3.722      -3.092\n",
      "x240           0.0687      0.061      1.135      0.256      -0.050       0.187\n",
      "x241           2.0063      0.022     90.366      0.000       1.963       2.050\n",
      "x242           1.7126      0.009    188.029      0.000       1.695       1.730\n",
      "x243           1.0082      0.012     83.293      0.000       0.984       1.032\n",
      "x244           0.8109      0.047     17.289      0.000       0.719       0.903\n",
      "x245           1.9264      0.030     63.407      0.000       1.867       1.986\n",
      "x246           1.2307      0.021     58.468      0.000       1.189       1.272\n",
      "x247           1.5142      0.029     52.301      0.000       1.458       1.571\n",
      "x248           1.8926      0.019    100.016      0.000       1.856       1.930\n",
      "x249           2.5922      0.010    263.136      0.000       2.573       2.611\n",
      "x250           3.1574      0.012    264.434      0.000       3.134       3.181\n",
      "x251           1.6064      0.010    153.062      0.000       1.586       1.627\n",
      "x252           5.7835      0.023    255.090      0.000       5.739       5.828\n",
      "x253           0.9532      0.017     56.191      0.000       0.920       0.986\n",
      "x254           1.6660      0.016    106.749      0.000       1.635       1.697\n",
      "x255           1.2646      0.020     63.474      0.000       1.226       1.304\n",
      "x256           1.2253      0.016     78.315      0.000       1.195       1.256\n",
      "x257           1.7689      0.032     55.403      0.000       1.706       1.831\n",
      "x258           1.5372      0.017     90.279      0.000       1.504       1.571\n",
      "x259           0.1296      0.103      1.258      0.208      -0.072       0.332\n",
      "x260           1.0233      0.033     30.577      0.000       0.958       1.089\n",
      "x261           0.8858      0.021     42.714      0.000       0.845       0.926\n",
      "x262           0.9219      0.015     62.439      0.000       0.893       0.951\n",
      "x263           2.2611      0.011    205.327      0.000       2.239       2.283\n",
      "x264           1.2937      0.064     20.064      0.000       1.167       1.420\n",
      "x265           1.5103      0.016     95.327      0.000       1.479       1.541\n",
      "x266           1.1325      0.023     48.872      0.000       1.087       1.178\n",
      "x267           1.6135      0.106     15.276      0.000       1.407       1.821\n",
      "x268           1.8913      0.018    105.632      0.000       1.856       1.926\n",
      "x269           0.7482      0.037     20.255      0.000       0.676       0.821\n",
      "x270           0.3978      0.021     18.787      0.000       0.356       0.439\n",
      "x271          -0.2946      0.019    -15.898      0.000      -0.331      -0.258\n",
      "x272           1.4672      0.026     56.369      0.000       1.416       1.518\n",
      "x273          -0.6203      0.064     -9.755      0.000      -0.745      -0.496\n",
      "x274           0.1788      0.075      2.380      0.017       0.032       0.326\n",
      "x275           1.4396      0.013    113.845      0.000       1.415       1.464\n",
      "x276          -2.2647      0.057    -39.834      0.000      -2.376      -2.153\n",
      "x277           1.5797      0.015    104.442      0.000       1.550       1.609\n",
      "x278           2.3453      0.015    160.902      0.000       2.317       2.374\n",
      "x279           1.8029      0.011    168.366      0.000       1.782       1.824\n",
      "x280           0.1618      0.025      6.578      0.000       0.114       0.210\n",
      "x281          -0.2447      0.061     -3.988      0.000      -0.365      -0.124\n",
      "x282           0.4903      0.052      9.393      0.000       0.388       0.593\n",
      "x283           1.7366      0.015    114.202      0.000       1.707       1.766\n",
      "x284           1.6085      0.025     64.349      0.000       1.559       1.657\n",
      "x285           1.8068      0.041     43.934      0.000       1.726       1.887\n",
      "x286           2.5590      0.014    177.637      0.000       2.531       2.587\n",
      "x287           0.5242      0.018     28.482      0.000       0.488       0.560\n",
      "x288           1.2234      0.021     58.109      0.000       1.182       1.265\n",
      "x289           0.6830      0.021     33.150      0.000       0.643       0.723\n",
      "x290           1.2762      0.028     45.007      0.000       1.221       1.332\n",
      "x291           3.8534      0.007    546.799      0.000       3.840       3.867\n",
      "x292           0.6342      0.022     28.868      0.000       0.591       0.677\n",
      "x293           0.3150      0.054      5.849      0.000       0.209       0.421\n",
      "x294           2.5840      0.028     92.650      0.000       2.529       2.639\n",
      "x295           1.5845      0.014    117.030      0.000       1.558       1.611\n",
      "x296           1.1461      0.060     18.969      0.000       1.028       1.265\n",
      "x297           1.1681      0.022     52.296      0.000       1.124       1.212\n",
      "x298           0.7604      0.046     16.513      0.000       0.670       0.851\n",
      "x299           1.2394      0.039     31.972      0.000       1.163       1.315\n",
      "x300           2.3406      0.013    186.026      0.000       2.316       2.365\n",
      "x301           0.9296      0.024     38.515      0.000       0.882       0.977\n",
      "x302           2.5658      0.013    204.102      0.000       2.541       2.590\n",
      "x303           1.9470      0.027     71.554      0.000       1.894       2.000\n",
      "x304          -0.8236      0.020    -41.914      0.000      -0.862      -0.785\n",
      "x305           3.1268      0.011    277.255      0.000       3.105       3.149\n",
      "x306          -1.9696      0.068    -28.998      0.000      -2.103      -1.837\n",
      "x307          -0.0896      0.064     -1.406      0.160      -0.214       0.035\n",
      "x308          -0.4426      0.076     -5.817      0.000      -0.592      -0.293\n",
      "x309           0.7948      0.048     16.513      0.000       0.700       0.889\n",
      "x310           5.9404      0.193     30.816      0.000       5.563       6.318\n",
      "x311           2.0127      0.049     41.277      0.000       1.917       2.108\n",
      "x312          -0.8534      0.032    -26.685      0.000      -0.916      -0.791\n",
      "x313          -0.0772      0.050     -1.559      0.119      -0.174       0.020\n",
      "x314           2.1202      0.017    125.553      0.000       2.087       2.153\n",
      "x315           1.2432      0.041     30.489      0.000       1.163       1.323\n",
      "x316           0.6645      0.018     37.771      0.000       0.630       0.699\n",
      "x317           1.7196      0.014    119.303      0.000       1.691       1.748\n",
      "x318           1.4997      0.016     92.272      0.000       1.468       1.532\n",
      "x319           1.1370      0.026     43.339      0.000       1.086       1.188\n",
      "x320          -1.0383      0.047    -21.955      0.000      -1.131      -0.946\n",
      "x321           1.7980      0.014    127.864      0.000       1.770       1.826\n",
      "x322           0.1794      0.050      3.590      0.000       0.081       0.277\n",
      "x323           1.4774      0.046     32.271      0.000       1.388       1.567\n",
      "x324           1.2541      0.017     73.457      0.000       1.221       1.288\n",
      "x325           0.0530      0.051      1.049      0.294      -0.046       0.152\n",
      "x326           0.0839      0.029      2.884      0.004       0.027       0.141\n",
      "x327           0.0879      0.021      4.165      0.000       0.047       0.129\n",
      "x328           2.2317      0.013    176.506      0.000       2.207       2.256\n",
      "x329           2.9284      0.013    219.800      0.000       2.902       2.955\n",
      "x330          -0.1091      0.036     -2.997      0.003      -0.180      -0.038\n",
      "x331           1.1803      0.038     31.052      0.000       1.106       1.255\n",
      "x332          -0.0595      0.056     -1.067      0.286      -0.169       0.050\n",
      "x333          -0.2750      0.032     -8.634      0.000      -0.337      -0.213\n",
      "x334           0.2024      0.017     11.744      0.000       0.169       0.236\n",
      "x335           1.7308      0.014    119.708      0.000       1.703       1.759\n",
      "x336          -0.2060      0.040     -5.176      0.000      -0.284      -0.128\n",
      "x337          -0.3952      0.028    -14.148      0.000      -0.450      -0.340\n",
      "x338           1.4231      0.028     51.370      0.000       1.369       1.477\n",
      "x339           2.0837      0.012    179.063      0.000       2.061       2.107\n",
      "x340          -0.3552      0.040     -8.841      0.000      -0.434      -0.276\n",
      "x341           1.3340      0.023     56.830      0.000       1.288       1.380\n",
      "x342           0.9264      0.053     17.520      0.000       0.823       1.030\n",
      "x343           2.0520      0.010    196.568      0.000       2.031       2.072\n",
      "x344           1.9393      0.014    142.904      0.000       1.913       1.966\n",
      "x345           0.4287      0.016     26.921      0.000       0.397       0.460\n",
      "x346           0.7088      0.041     17.142      0.000       0.628       0.790\n",
      "x347           1.3294      0.017     80.204      0.000       1.297       1.362\n",
      "x348           1.3133      0.015     84.800      0.000       1.283       1.344\n",
      "x349           0.3372      0.054      6.213      0.000       0.231       0.444\n",
      "x350           1.0820      0.056     19.442      0.000       0.973       1.191\n",
      "x351           1.4549      0.016     93.405      0.000       1.424       1.485\n",
      "x352           0.9052      0.019     48.565      0.000       0.869       0.942\n",
      "x353           2.4856      0.039     63.656      0.000       2.409       2.562\n",
      "x354           1.5783      0.027     58.624      0.000       1.526       1.631\n",
      "x355           3.0656      0.022    140.082      0.000       3.023       3.108\n",
      "x356           0.8945      0.021     41.661      0.000       0.852       0.937\n",
      "x357           1.1527      0.043     26.673      0.000       1.068       1.237\n",
      "x358           3.4184      0.065     52.884      0.000       3.292       3.545\n",
      "x359           1.7866      0.029     62.286      0.000       1.730       1.843\n",
      "x360          -1.9488      0.060    -32.252      0.000      -2.067      -1.830\n",
      "x361           2.8157      0.009    314.740      0.000       2.798       2.833\n",
      "x362           0.9696      0.021     45.603      0.000       0.928       1.011\n",
      "x363           1.8304      0.015    125.841      0.000       1.802       1.859\n",
      "x364          -3.4239      0.087    -39.192      0.000      -3.595      -3.253\n",
      "x365           0.6921      0.025     27.320      0.000       0.642       0.742\n",
      "x366           0.8215      0.015     55.488      0.000       0.793       0.851\n",
      "x367           0.8026      0.017     48.389      0.000       0.770       0.835\n",
      "x368           1.3794      0.011    126.409      0.000       1.358       1.401\n",
      "x369           2.2931      0.013    179.614      0.000       2.268       2.318\n",
      "x370           0.0393      0.044      0.891      0.373      -0.047       0.126\n",
      "x371           1.3433      0.065     20.585      0.000       1.215       1.471\n",
      "x372          -0.2358      0.048     -4.919      0.000      -0.330      -0.142\n",
      "x373           0.1809      0.046      3.942      0.000       0.091       0.271\n",
      "x374           2.8727      0.039     72.835      0.000       2.795       2.950\n",
      "x375           1.0514      0.042     24.918      0.000       0.969       1.134\n",
      "x376          -2.4464      0.044    -55.400      0.000      -2.533      -2.360\n",
      "x377          -0.3288      0.059     -5.536      0.000      -0.445      -0.212\n",
      "x378           2.0389      0.032     64.564      0.000       1.977       2.101\n",
      "x379           1.6633      0.008    197.107      0.000       1.647       1.680\n",
      "x380           1.0372      0.009    118.229      0.000       1.020       1.054\n",
      "x381          -1.9334      0.041    -47.579      0.000      -2.013      -1.854\n",
      "x382           0.4321      0.036     11.998      0.000       0.362       0.503\n",
      "x383           2.1507      0.034     63.571      0.000       2.084       2.217\n",
      "x384          -1.1461      0.046    -25.049      0.000      -1.236      -1.056\n",
      "x385           0.5723      0.040     14.224      0.000       0.493       0.651\n",
      "x386           1.5472      0.018     87.130      0.000       1.512       1.582\n",
      "x387          -6.2263      0.135    -46.234      0.000      -6.490      -5.962\n",
      "x388           2.2581      0.014    160.915      0.000       2.231       2.286\n",
      "x389           0.1814      0.061      2.968      0.003       0.062       0.301\n",
      "x390          -2.3711      0.081    -29.183      0.000      -2.530      -2.212\n",
      "x391          -1.9875      0.073    -27.202      0.000      -2.131      -1.844\n",
      "x392           1.0843      0.045     23.945      0.000       0.996       1.173\n",
      "x393           1.0592      0.027     38.531      0.000       1.005       1.113\n",
      "x394          -3.9025      0.090    -43.355      0.000      -4.079      -3.726\n",
      "x395           1.5534      0.022     71.861      0.000       1.511       1.596\n",
      "x396           0.8213      0.024     34.491      0.000       0.775       0.868\n",
      "x397           1.0960      0.016     66.466      0.000       1.064       1.128\n",
      "x398          -0.0894      0.018     -4.912      0.000      -0.125      -0.054\n",
      "x399           1.0476      0.019     53.819      0.000       1.009       1.086\n",
      "x400           0.5796      0.022     25.904      0.000       0.536       0.623\n",
      "x401           0.5578      0.018     31.282      0.000       0.523       0.593\n",
      "x402           0.9695      0.050     19.399      0.000       0.872       1.067\n",
      "x403          -1.6318      0.079    -20.675      0.000      -1.786      -1.477\n",
      "==============================================================================\n"
     ]
    }
   ],
   "source": [
    "print(poisson_training_results.summary())"
   ]
  },
  {
   "cell_type": "code",
   "execution_count": 84,
   "metadata": {},
   "outputs": [],
   "source": [
    "poisson_predictions = poisson_training_results.predict(X_train)\n",
    "#.summary_frame() returns a pandas DataFrame\n",
    "#predictions_summary_frame = poisson_predictions.summary_frame()\n",
    "#print(predictions_summary_frame)"
   ]
  },
  {
   "cell_type": "code",
   "execution_count": 85,
   "metadata": {},
   "outputs": [
    {
     "name": "stdout",
     "output_type": "stream",
     "text": [
      "[370.1079497  117.51776072   4.86315552 ...  10.41905201  15.3677639\n",
      " 107.10964222]\n",
      "4939\n"
     ]
    }
   ],
   "source": [
    "print(poisson_training_results.mu)\n",
    "print(len(poisson_training_results.mu))"
   ]
  },
  {
   "cell_type": "code",
   "execution_count": 86,
   "metadata": {},
   "outputs": [
    {
     "data": {
      "text/plain": [
       "253961.3428946017"
      ]
     },
     "execution_count": 86,
     "metadata": {},
     "output_type": "execute_result"
    }
   ],
   "source": [
    "from sklearn.metrics import mean_squared_error\n",
    "mean_squared_error(poisson_predictions, y_train)\n",
    "#poisson_predictions.toarray()"
   ]
  },
  {
   "cell_type": "code",
   "execution_count": null,
   "metadata": {},
   "outputs": [],
   "source": []
  },
  {
   "cell_type": "markdown",
   "metadata": {},
   "source": [
    "## Creating a Negative Binomial Model"
   ]
  },
  {
   "cell_type": "code",
   "execution_count": 87,
   "metadata": {},
   "outputs": [],
   "source": [
    "df_train = pd.DataFrame(X_train,columns=f_table.drop('claps',axis=1).columns)\n",
    "df_train['lambda']=poisson_training_results.mu\n",
    "df_train['claps']=y_train\n",
    "df_train['aux_ols_dep'] = df_train.apply(lambda x: ((x['claps'] - x['lambda'])**2 - x['claps']) / x['lambda'], axis=1)\n",
    "ols_expr = \"\"\"aux_ols_dep ~ Q(\"lambda\") - 1\"\"\"\n",
    "aux_olsr_results = smf.ols(ols_expr, df_train).fit()"
   ]
  },
  {
   "cell_type": "code",
   "execution_count": 88,
   "metadata": {},
   "outputs": [
    {
     "name": "stdout",
     "output_type": "stream",
     "text": [
      "Q(\"lambda\")    0.218962\n",
      "dtype: float64\n"
     ]
    }
   ],
   "source": [
    "print(aux_olsr_results.params)"
   ]
  },
  {
   "cell_type": "code",
   "execution_count": 89,
   "metadata": {},
   "outputs": [
    {
     "data": {
      "text/plain": [
       "Q(\"lambda\")    2.291848\n",
       "dtype: float64"
      ]
     },
     "execution_count": 89,
     "metadata": {},
     "output_type": "execute_result"
    }
   ],
   "source": [
    "aux_olsr_results.tvalues"
   ]
  },
  {
   "cell_type": "code",
   "execution_count": 90,
   "metadata": {},
   "outputs": [],
   "source": [
    "nb2_training_results = sm.GLM(y_train, X_train,family=sm.families.NegativeBinomial(alpha=aux_olsr_results.params[0])).fit()"
   ]
  },
  {
   "cell_type": "code",
   "execution_count": 91,
   "metadata": {},
   "outputs": [
    {
     "name": "stdout",
     "output_type": "stream",
     "text": [
      "                 Generalized Linear Model Regression Results                  \n",
      "==============================================================================\n",
      "Dep. Variable:                      y   No. Observations:                 4939\n",
      "Model:                            GLM   Df Residuals:                     4540\n",
      "Model Family:        NegativeBinomial   Df Model:                          398\n",
      "Link Function:                    log   Scale:                          1.0000\n",
      "Method:                          IRLS   Log-Likelihood:                -54936.\n",
      "Date:                Wed, 04 Dec 2019   Deviance:                       67746.\n",
      "Time:                        12:07:58   Pearson chi2:                 7.32e+05\n",
      "No. Iterations:                   100                                         \n",
      "Covariance Type:            nonrobust                                         \n",
      "==============================================================================\n",
      "                 coef    std err          z      P>|z|      [0.025      0.975]\n",
      "------------------------------------------------------------------------------\n",
      "x1          6.307e-12   9.07e-12      0.695      0.487   -1.15e-11    2.41e-11\n",
      "x2         -5.607e-12   1.22e-12     -4.594      0.000      -8e-12   -3.22e-12\n",
      "x3             0.6437      0.011     57.363      0.000       0.622       0.666\n",
      "x4            -0.1755      0.115     -1.528      0.127      -0.401       0.050\n",
      "x5            -0.2783      0.146     -1.907      0.057      -0.564       0.008\n",
      "x6             0.5325      0.155      3.434      0.001       0.229       0.836\n",
      "x7            -1.4920      0.150     -9.920      0.000      -1.787      -1.197\n",
      "x8             1.8169      0.172     10.584      0.000       1.480       2.153\n",
      "x9             0.4701      0.182      2.585      0.010       0.114       0.827\n",
      "x10            0.0290      0.197      0.147      0.883      -0.358       0.416\n",
      "x11           -0.9493      0.119     -8.010      0.000      -1.182      -0.717\n",
      "x12            0.0309      0.124      0.249      0.803      -0.212       0.274\n",
      "x13           -0.1429      0.130     -1.095      0.274      -0.399       0.113\n",
      "x14            2.0571      0.102     20.096      0.000       1.856       2.258\n",
      "x15            0.4265      0.180      2.369      0.018       0.074       0.779\n",
      "x16            0.9627      0.161      5.973      0.000       0.647       1.279\n",
      "x17           -0.0398      0.171     -0.232      0.816      -0.376       0.296\n",
      "x18            0.6339      0.159      3.995      0.000       0.323       0.945\n",
      "x19           -0.6000      0.177     -3.385      0.001      -0.947      -0.253\n",
      "x20            0.4753      0.158      3.009      0.003       0.166       0.785\n",
      "x21            1.4197      0.102     13.941      0.000       1.220       1.619\n",
      "x22            0.6694      0.117      5.736      0.000       0.441       0.898\n",
      "x23            1.9178      0.184     10.443      0.000       1.558       2.278\n",
      "x24           -1.2237      0.203     -6.035      0.000      -1.621      -0.826\n",
      "x25           -0.3114      0.138     -2.262      0.024      -0.581      -0.042\n",
      "x26           -0.5868      0.159     -3.697      0.000      -0.898      -0.276\n",
      "x27           -0.3630      0.131     -2.765      0.006      -0.620      -0.106\n",
      "x28            1.8929      0.195      9.697      0.000       1.510       2.276\n",
      "x29            0.3910      0.195      2.010      0.044       0.010       0.772\n",
      "x30           -0.8977      0.211     -4.249      0.000      -1.312      -0.484\n",
      "x31            0.2890      0.113      2.558      0.011       0.068       0.510\n",
      "x32            0.8123      0.100      8.094      0.000       0.616       1.009\n",
      "x33            0.8168      0.154      5.304      0.000       0.515       1.119\n",
      "x34           -0.3739      0.119     -3.139      0.002      -0.607      -0.140\n",
      "x35            3.0112      0.175     17.220      0.000       2.668       3.354\n",
      "x36           -1.1057      0.183     -6.054      0.000      -1.464      -0.748\n",
      "x37           -0.9251      0.113     -8.170      0.000      -1.147      -0.703\n",
      "x38           -0.8939      0.181     -4.930      0.000      -1.249      -0.538\n",
      "x39            1.0234      0.073     14.024      0.000       0.880       1.166\n",
      "x40            0.9534      0.122      7.823      0.000       0.715       1.192\n",
      "x41           -0.8293      0.108     -7.666      0.000      -1.041      -0.617\n",
      "x42           -0.6700      0.120     -5.580      0.000      -0.905      -0.435\n",
      "x43            0.8384      0.162      5.164      0.000       0.520       1.157\n",
      "x44            0.0725      0.162      0.448      0.654      -0.245       0.390\n",
      "x45           -1.1585      0.168     -6.910      0.000      -1.487      -0.830\n",
      "x46            0.1260      0.179      0.704      0.481      -0.225       0.477\n",
      "x47           -0.6539      0.181     -3.607      0.000      -1.009      -0.299\n",
      "x48           -0.4095      0.196     -2.086      0.037      -0.794      -0.025\n",
      "x49           -0.0296      0.148     -0.200      0.842      -0.320       0.261\n",
      "x50            0.3298      0.169      1.954      0.051      -0.001       0.661\n",
      "x51            1.9218      0.182     10.579      0.000       1.566       2.278\n",
      "x52           -1.7067      0.171     -9.977      0.000      -2.042      -1.371\n",
      "x53            0.6946      0.156      4.465      0.000       0.390       0.999\n",
      "x54            1.3933      0.112     12.482      0.000       1.175       1.612\n",
      "x55           -0.2153      0.184     -1.172      0.241      -0.575       0.145\n",
      "x56            0.1445      0.178      0.813      0.416      -0.204       0.493\n",
      "x57            0.2822      0.158      1.785      0.074      -0.028       0.592\n",
      "x58           -1.3112      0.104    -12.616      0.000      -1.515      -1.108\n",
      "x59            0.2872      0.135      2.120      0.034       0.022       0.553\n",
      "x60            0.7299      0.157      4.636      0.000       0.421       1.038\n",
      "x61            0.3624      0.086      4.219      0.000       0.194       0.531\n",
      "x62            0.8609      0.118      7.268      0.000       0.629       1.093\n",
      "x63           -0.9265      0.205     -4.530      0.000      -1.327      -0.526\n",
      "x64           -2.0188      0.212     -9.509      0.000      -2.435      -1.603\n",
      "x65           -0.3160      0.158     -1.994      0.046      -0.627      -0.005\n",
      "x66           -0.6133      0.145     -4.224      0.000      -0.898      -0.329\n",
      "x67            1.4698      0.101     14.573      0.000       1.272       1.668\n",
      "x68           -0.1797      0.179     -1.002      0.316      -0.531       0.172\n",
      "x69           -1.1858      0.096    -12.321      0.000      -1.374      -0.997\n",
      "x70            0.9232      0.167      5.518      0.000       0.595       1.251\n",
      "x71            0.4874      0.193      2.527      0.012       0.109       0.865\n",
      "x72            1.7208      0.188      9.161      0.000       1.353       2.089\n",
      "x73            0.2477      0.119      2.081      0.037       0.014       0.481\n",
      "x74           -0.5421      0.165     -3.278      0.001      -0.866      -0.218\n",
      "x75            0.7945      0.149      5.348      0.000       0.503       1.086\n",
      "x76           -0.7459      0.157     -4.748      0.000      -1.054      -0.438\n",
      "x77            0.3255      0.117      2.774      0.006       0.096       0.555\n",
      "x78           -0.5088      0.119     -4.271      0.000      -0.742      -0.275\n",
      "x79            1.0319      0.104      9.958      0.000       0.829       1.235\n",
      "x80            0.2518      0.176      1.432      0.152      -0.093       0.596\n",
      "x81           -0.2351      0.179     -1.314      0.189      -0.586       0.116\n",
      "x82           -0.6188      0.204     -3.037      0.002      -1.018      -0.219\n",
      "x83           -1.3723      0.116    -11.803      0.000      -1.600      -1.144\n",
      "x84            0.7753      0.117      6.628      0.000       0.546       1.005\n",
      "x85            1.3890      0.201      6.919      0.000       0.996       1.782\n",
      "x86            0.7875      0.173      4.560      0.000       0.449       1.126\n",
      "x87           -0.2790      0.146     -1.905      0.057      -0.566       0.008\n",
      "x88            0.2988      0.141      2.121      0.034       0.023       0.575\n",
      "x89            0.6011      0.146      4.114      0.000       0.315       0.887\n",
      "x90           -0.5840      0.206     -2.830      0.005      -0.988      -0.180\n",
      "x91           -0.3283      0.121     -2.705      0.007      -0.566      -0.090\n",
      "x92            0.4778      0.107      4.482      0.000       0.269       0.687\n",
      "x93           -1.3618      0.168     -8.127      0.000      -1.690      -1.033\n",
      "x94            0.8001      0.170      4.709      0.000       0.467       1.133\n",
      "x95            0.6162      0.169      3.651      0.000       0.285       0.947\n",
      "x96           -0.7766      0.116     -6.710      0.000      -1.003      -0.550\n",
      "x97            0.4156      0.120      3.455      0.001       0.180       0.651\n",
      "x98           -0.7845      0.180     -4.367      0.000      -1.137      -0.432\n",
      "x99            1.0047      0.169      5.946      0.000       0.673       1.336\n",
      "x100          -1.2951      0.181     -7.168      0.000      -1.649      -0.941\n",
      "x101           0.0822      0.180      0.456      0.648      -0.271       0.435\n",
      "x102          -0.3208      0.140     -2.293      0.022      -0.595      -0.047\n",
      "x103           1.5535      0.186      8.358      0.000       1.189       1.918\n",
      "x104           1.1039      0.189      5.826      0.000       0.733       1.475\n",
      "x105           0.2597      0.195      1.329      0.184      -0.123       0.643\n",
      "x106           1.4517      0.172      8.435      0.000       1.114       1.789\n",
      "x107          -0.1404      0.161     -0.873      0.383      -0.456       0.175\n",
      "x108          -0.5414      0.210     -2.579      0.010      -0.953      -0.130\n",
      "x109          -0.3628      0.188     -1.933      0.053      -0.731       0.005\n",
      "x110           0.8556      0.136      6.277      0.000       0.588       1.123\n",
      "x111          -0.4711      0.103     -4.589      0.000      -0.672      -0.270\n",
      "x112          -0.7546      0.193     -3.902      0.000      -1.134      -0.376\n",
      "x113           1.0600      0.125      8.499      0.000       0.816       1.304\n",
      "x114           0.3351      0.120      2.797      0.005       0.100       0.570\n",
      "x115           2.1958      0.108     20.294      0.000       1.984       2.408\n",
      "x116          -1.4482      0.077    -18.848      0.000      -1.599      -1.298\n",
      "x117          -1.5892      0.131    -12.133      0.000      -1.846      -1.333\n",
      "x118          -0.4317      0.151     -2.865      0.004      -0.727      -0.136\n",
      "x119           0.7702      0.125      6.180      0.000       0.526       1.015\n",
      "x120           0.7970      0.130      6.146      0.000       0.543       1.051\n",
      "x121           1.3174      0.109     12.068      0.000       1.103       1.531\n",
      "x122          -0.6532      0.129     -5.068      0.000      -0.906      -0.401\n",
      "x123           0.5007      0.161      3.113      0.002       0.185       0.816\n",
      "x124          -0.0314      0.162     -0.193      0.847      -0.350       0.287\n",
      "x125           3.5770      0.162     22.145      0.000       3.260       3.894\n",
      "x126          -0.0954      0.170     -0.560      0.575      -0.429       0.238\n",
      "x127          -0.9390      0.103     -9.148      0.000      -1.140      -0.738\n",
      "x128           0.0708      0.191      0.370      0.711      -0.304       0.446\n",
      "x129           0.2821      0.138      2.051      0.040       0.012       0.552\n",
      "x130           0.5498      0.085      6.432      0.000       0.382       0.717\n",
      "x131           0.0970      0.147      0.661      0.509      -0.191       0.385\n",
      "x132          -0.6854      0.160     -4.272      0.000      -1.000      -0.371\n",
      "x133           3.1453      0.175     17.975      0.000       2.802       3.488\n",
      "x134           0.3730      0.144      2.598      0.009       0.092       0.654\n",
      "x135           0.6262      0.130      4.827      0.000       0.372       0.880\n",
      "x136           0.4143      0.100      4.127      0.000       0.218       0.611\n",
      "x137           0.8052      0.175      4.604      0.000       0.462       1.148\n",
      "x138          -1.2638      0.148     -8.541      0.000      -1.554      -0.974\n",
      "x139          -1.4932      0.132    -11.350      0.000      -1.751      -1.235\n",
      "x140          -1.2461      0.096    -12.925      0.000      -1.435      -1.057\n",
      "x141          -0.0646      0.192     -0.337      0.736      -0.441       0.312\n",
      "x142          -0.4316      0.114     -3.786      0.000      -0.655      -0.208\n",
      "x143          -0.5012      0.095     -5.303      0.000      -0.686      -0.316\n",
      "x144           0.2325      0.160      1.455      0.146      -0.081       0.546\n",
      "x145           0.5792      0.145      3.990      0.000       0.295       0.864\n",
      "x146          -0.2504      0.116     -2.159      0.031      -0.478      -0.023\n",
      "x147          -0.4870      0.163     -2.979      0.003      -0.807      -0.167\n",
      "x148           1.1371      0.145      7.866      0.000       0.854       1.420\n",
      "x149           0.3628      0.167      2.175      0.030       0.036       0.690\n",
      "x150           0.4757      0.123      3.879      0.000       0.235       0.716\n",
      "x151          -0.8027      0.135     -5.931      0.000      -1.068      -0.537\n",
      "x152           0.7563      0.134      5.637      0.000       0.493       1.019\n",
      "x153          -0.5887      0.094     -6.266      0.000      -0.773      -0.405\n",
      "x154          -0.5116      0.172     -2.972      0.003      -0.849      -0.174\n",
      "x155           1.4787      0.080     18.552      0.000       1.322       1.635\n",
      "x156          -0.9963      0.105     -9.473      0.000      -1.202      -0.790\n",
      "x157          -0.5811      0.167     -3.487      0.000      -0.908      -0.254\n",
      "x158          -0.5855      0.182     -3.212      0.001      -0.943      -0.228\n",
      "x159          -0.2445      0.197     -1.243      0.214      -0.630       0.141\n",
      "x160           0.8192      0.155      5.269      0.000       0.514       1.124\n",
      "x161          -0.5245      0.116     -4.509      0.000      -0.752      -0.296\n",
      "x162          -0.0580      0.094     -0.615      0.539      -0.243       0.127\n",
      "x163          -0.4676      0.173     -2.700      0.007      -0.807      -0.128\n",
      "x164           1.4746      0.182      8.124      0.000       1.119       1.830\n",
      "x165          -0.9059      0.110     -8.222      0.000      -1.122      -0.690\n",
      "x166          -0.3034      0.146     -2.071      0.038      -0.590      -0.016\n",
      "x167           0.3009      0.133      2.258      0.024       0.040       0.562\n",
      "x168           0.9252      0.206      4.491      0.000       0.521       1.329\n",
      "x169           0.3269      0.106      3.078      0.002       0.119       0.535\n",
      "x170           0.7911      0.096      8.234      0.000       0.603       0.979\n",
      "x171           0.6234      0.129      4.841      0.000       0.371       0.876\n",
      "x172           1.6250      0.107     15.257      0.000       1.416       1.834\n",
      "x173          -0.5935      0.091     -6.551      0.000      -0.771      -0.416\n",
      "x174          -1.2303      0.168     -7.315      0.000      -1.560      -0.901\n",
      "x175           0.3148      0.187      1.688      0.091      -0.051       0.680\n",
      "x176          -0.6811      0.153     -4.452      0.000      -0.981      -0.381\n",
      "x177           0.8842      0.152      5.801      0.000       0.585       1.183\n",
      "x178           0.0305      0.115      0.264      0.791      -0.196       0.257\n",
      "x179           4.6594      0.162     28.754      0.000       4.342       4.977\n",
      "x180          -1.0637      0.155     -6.882      0.000      -1.367      -0.761\n",
      "x181           0.1060      0.061      1.733      0.083      -0.014       0.226\n",
      "x182           0.0519      0.183      0.283      0.777      -0.307       0.411\n",
      "x183           0.7604      0.166      4.588      0.000       0.436       1.085\n",
      "x184           2.5805      0.139     18.624      0.000       2.309       2.852\n",
      "x185           2.3623      0.158     14.933      0.000       2.052       2.672\n",
      "x186           0.6381      0.120      5.334      0.000       0.404       0.873\n",
      "x187           0.6152      0.162      3.799      0.000       0.298       0.933\n",
      "x188          -0.2450      0.126     -1.938      0.053      -0.493       0.003\n",
      "x189           0.4544      0.129      3.510      0.000       0.201       0.708\n",
      "x190           1.3276      0.140      9.470      0.000       1.053       1.602\n",
      "x191           0.0725      0.120      0.602      0.547      -0.163       0.308\n",
      "x192          -0.7108      0.161     -4.405      0.000      -1.027      -0.395\n",
      "x193           0.3447      0.208      1.656      0.098      -0.063       0.753\n",
      "x194           0.1406      0.139      1.010      0.313      -0.132       0.414\n",
      "x195           0.1704      0.107      1.588      0.112      -0.040       0.381\n",
      "x196          -0.6658      0.143     -4.650      0.000      -0.946      -0.385\n",
      "x197           0.6996      0.077      9.100      0.000       0.549       0.850\n",
      "x198           2.3505      0.179     13.137      0.000       2.000       2.701\n",
      "x199           0.5969      0.129      4.617      0.000       0.343       0.850\n",
      "x200          -0.6394      0.166     -3.851      0.000      -0.965      -0.314\n",
      "x201          -0.2580      0.102     -2.526      0.012      -0.458      -0.058\n",
      "x202          -0.1445      0.111     -1.299      0.194      -0.362       0.074\n",
      "x203          -0.6841      0.145     -4.723      0.000      -0.968      -0.400\n",
      "x204           0.4608      0.206      2.241      0.025       0.058       0.864\n",
      "x205           1.4134      0.300      4.717      0.000       0.826       2.001\n",
      "x206           0.3984      0.172      2.317      0.021       0.061       0.735\n",
      "x207           1.3804      0.115     12.026      0.000       1.155       1.605\n",
      "x208           0.6502      0.397      1.639      0.101      -0.128       1.428\n",
      "x209           0.8335      0.123      6.766      0.000       0.592       1.075\n",
      "x210           1.7360      0.132     13.135      0.000       1.477       1.995\n",
      "x211           2.2716      0.114     19.999      0.000       2.049       2.494\n",
      "x212           0.0693      0.158      0.437      0.662      -0.241       0.380\n",
      "x213          -0.6292      0.182     -3.449      0.001      -0.987      -0.272\n",
      "x214           2.1589      0.118     18.256      0.000       1.927       2.391\n",
      "x215          -1.7347      0.460     -3.773      0.000      -2.636      -0.834\n",
      "x216           0.7402      0.300      2.464      0.014       0.151       1.329\n",
      "x217           1.2487      0.085     14.750      0.000       1.083       1.415\n",
      "x218           1.0385      0.086     12.086      0.000       0.870       1.207\n",
      "x219           0.5063      0.538      0.941      0.347      -0.549       1.561\n",
      "x220           1.3308      0.159      8.392      0.000       1.020       1.642\n",
      "x221           3.5048      0.153     22.955      0.000       3.206       3.804\n",
      "x222           2.1882      0.210     10.431      0.000       1.777       2.599\n",
      "x223           1.3679      0.077     17.768      0.000       1.217       1.519\n",
      "x224           0.9570      0.366      2.616      0.009       0.240       1.674\n",
      "x225           0.6675      0.193      3.457      0.001       0.289       1.046\n",
      "x226           2.5929      0.232     11.165      0.000       2.138       3.048\n",
      "x227           0.8345      0.322      2.595      0.009       0.204       1.465\n",
      "x228           3.3513      0.173     19.350      0.000       3.012       3.691\n",
      "x229           2.0198      0.117     17.241      0.000       1.790       2.249\n",
      "x230          -0.1545      0.194     -0.795      0.427      -0.536       0.227\n",
      "x231           0.9410      0.131      7.195      0.000       0.685       1.197\n",
      "x232           1.2616      0.119     10.607      0.000       1.029       1.495\n",
      "x233          -0.2649      0.264     -1.005      0.315      -0.782       0.252\n",
      "x234           0.4028      0.304      1.326      0.185      -0.193       0.998\n",
      "x235           1.0431      0.175      5.948      0.000       0.699       1.387\n",
      "x236           3.3515      0.152     22.116      0.000       3.055       3.649\n",
      "x237          -3.2738      0.412     -7.940      0.000      -4.082      -2.466\n",
      "x238           0.7793      0.264      2.951      0.003       0.262       1.297\n",
      "x239          -6.3714      0.942     -6.765      0.000      -8.217      -4.526\n",
      "x240           0.0397      0.257      0.155      0.877      -0.463       0.543\n",
      "x241           2.5740      0.159     16.163      0.000       2.262       2.886\n",
      "x242           1.7439      0.068     25.777      0.000       1.611       1.877\n",
      "x243           0.7247      0.080      9.007      0.000       0.567       0.882\n",
      "x244           0.7131      0.223      3.202      0.001       0.277       1.150\n",
      "x245           2.1307      0.164     12.996      0.000       1.809       2.452\n",
      "x246           2.3938      0.100     23.948      0.000       2.198       2.590\n",
      "x247           1.6285      0.159     10.235      0.000       1.317       1.940\n",
      "x248           1.8892      0.103     18.261      0.000       1.686       2.092\n",
      "x249           3.0290      0.086     35.318      0.000       2.861       3.197\n",
      "x250           2.8525      0.106     26.997      0.000       2.645       3.060\n",
      "x251           2.4511      0.089     27.688      0.000       2.278       2.625\n",
      "x252           2.1110      0.277      7.622      0.000       1.568       2.654\n",
      "x253          -0.0982      0.095     -1.036      0.300      -0.284       0.088\n",
      "x254           1.3316      0.088     15.168      0.000       1.159       1.504\n",
      "x255           1.7927      0.112     15.986      0.000       1.573       2.013\n",
      "x256           2.0531      0.094     21.793      0.000       1.868       2.238\n",
      "x257           1.4241      0.160      8.878      0.000       1.110       1.738\n",
      "x258           0.9223      0.097      9.502      0.000       0.732       1.113\n",
      "x259           2.2423      0.441      5.083      0.000       1.378       3.107\n",
      "x260           2.0645      0.182     11.367      0.000       1.709       2.420\n",
      "x261           1.6093      0.132     12.221      0.000       1.351       1.867\n",
      "x262           1.3800      0.094     14.743      0.000       1.197       1.563\n",
      "x263           2.2838      0.085     26.930      0.000       2.118       2.450\n",
      "x264           0.9239      0.346      2.667      0.008       0.245       1.603\n",
      "x265           0.8965      0.132      6.804      0.000       0.638       1.155\n",
      "x266           1.2050      0.139      8.643      0.000       0.932       1.478\n",
      "x267           1.4412      0.521      2.765      0.006       0.419       2.463\n",
      "x268           2.7270      0.102     26.832      0.000       2.528       2.926\n",
      "x269           1.5449      0.161      9.615      0.000       1.230       1.860\n",
      "x270           1.6201      0.122     13.307      0.000       1.382       1.859\n",
      "x271          -0.0941      0.075     -1.256      0.209      -0.241       0.053\n",
      "x272           0.6702      0.146      4.588      0.000       0.384       0.957\n",
      "x273           0.3433      0.279      1.232      0.218      -0.203       0.890\n",
      "x274          -0.7336      0.294     -2.493      0.013      -1.310      -0.157\n",
      "x275           1.1572      0.108     10.690      0.000       0.945       1.369\n",
      "x276           1.9172      0.223      8.585      0.000       1.480       2.355\n",
      "x277           1.7762      0.133     13.378      0.000       1.516       2.036\n",
      "x278           2.4971      0.097     25.872      0.000       2.308       2.686\n",
      "x279           2.0740      0.078     26.737      0.000       1.922       2.226\n",
      "x280           0.9295      0.125      7.450      0.000       0.685       1.174\n",
      "x281           0.1315      0.366      0.359      0.719      -0.586       0.849\n",
      "x282           0.0960      0.298      0.322      0.748      -0.489       0.680\n",
      "x283           1.3668      0.088     15.523      0.000       1.194       1.539\n",
      "x284           1.7068      0.170     10.015      0.000       1.373       2.041\n",
      "x285           2.8463      0.233     12.227      0.000       2.390       3.303\n",
      "x286           3.6324      0.126     28.719      0.000       3.385       3.880\n",
      "x287           1.5266      0.086     17.649      0.000       1.357       1.696\n",
      "x288           0.9693      0.106      9.135      0.000       0.761       1.177\n",
      "x289           1.3662      0.148      9.243      0.000       1.076       1.656\n",
      "x290           3.7002      0.151     24.479      0.000       3.404       3.996\n",
      "x291           5.1091      0.084     60.749      0.000       4.944       5.274\n",
      "x292           1.6794      0.114     14.751      0.000       1.456       1.903\n",
      "x293           0.6552      0.190      3.454      0.001       0.283       1.027\n",
      "x294           2.2092      0.292      7.558      0.000       1.636       2.782\n",
      "x295           2.0285      0.111     18.208      0.000       1.810       2.247\n",
      "x296           0.5950      0.337      1.767      0.077      -0.065       1.255\n",
      "x297           1.6027      0.113     14.194      0.000       1.381       1.824\n",
      "x298           0.9367      0.203      4.617      0.000       0.539       1.334\n",
      "x299          -0.1568      0.274     -0.573      0.567      -0.693       0.380\n",
      "x300           2.1497      0.084     25.711      0.000       1.986       2.314\n",
      "x301           1.0999      0.130      8.464      0.000       0.845       1.355\n",
      "x302           1.8026      0.106     16.962      0.000       1.594       2.011\n",
      "x303           2.1943      0.171     12.855      0.000       1.860       2.529\n",
      "x304          -0.4857      0.135     -3.591      0.000      -0.751      -0.221\n",
      "x305           3.4892      0.091     38.257      0.000       3.310       3.668\n",
      "x306          -4.0460      0.285    -14.187      0.000      -4.605      -3.487\n",
      "x307           1.8070      0.297      6.090      0.000       1.225       2.389\n",
      "x308          -0.6930      0.360     -1.927      0.054      -1.398       0.012\n",
      "x309          -0.2776      0.283     -0.982      0.326      -0.832       0.276\n",
      "x310           8.8451      1.069      8.278      0.000       6.751      10.939\n",
      "x311           1.6007      0.274      5.840      0.000       1.064       2.138\n",
      "x312          -0.4102      0.211     -1.948      0.051      -0.823       0.002\n",
      "x313          -2.2893      0.311     -7.368      0.000      -2.898      -1.680\n",
      "x314           1.2157      0.129      9.452      0.000       0.964       1.468\n",
      "x315           1.2035      0.195      6.185      0.000       0.822       1.585\n",
      "x316           0.7604      0.109      6.946      0.000       0.546       0.975\n",
      "x317           2.4681      0.094     26.163      0.000       2.283       2.653\n",
      "x318           2.4699      0.135     18.331      0.000       2.206       2.734\n",
      "x319           1.1768      0.104     11.302      0.000       0.973       1.381\n",
      "x320          -0.3676      0.210     -1.754      0.079      -0.778       0.043\n",
      "x321           4.2118      0.082     51.330      0.000       4.051       4.373\n",
      "x322           2.2143      0.289      7.663      0.000       1.648       2.781\n",
      "x323           2.6416      0.261     10.126      0.000       2.130       3.153\n",
      "x324           2.0217      0.086     23.493      0.000       1.853       2.190\n",
      "x325           1.6760      0.285      5.879      0.000       1.117       2.235\n",
      "x326           0.4531      0.114      3.960      0.000       0.229       0.677\n",
      "x327           1.7440      0.101     17.324      0.000       1.547       1.941\n",
      "x328           2.9623      0.076     39.133      0.000       2.814       3.111\n",
      "x329           2.4666      0.121     20.336      0.000       2.229       2.704\n",
      "x330           0.6909      0.174      3.971      0.000       0.350       1.032\n",
      "x331           1.0648      0.238      4.481      0.000       0.599       1.531\n",
      "x332           0.8596      0.248      3.467      0.001       0.374       1.346\n",
      "x333          -1.1697      0.161     -7.254      0.000      -1.486      -0.854\n",
      "x334           3.1629      0.116     27.359      0.000       2.936       3.389\n",
      "x335           0.9023      0.103      8.801      0.000       0.701       1.103\n",
      "x336           0.2603      0.183      1.419      0.156      -0.099       0.620\n",
      "x337           1.0981      0.119      9.237      0.000       0.865       1.331\n",
      "x338           2.2611      0.139     16.300      0.000       1.989       2.533\n",
      "x339           3.1885      0.054     58.605      0.000       3.082       3.295\n",
      "x340           0.4007      0.155      2.586      0.010       0.097       0.704\n",
      "x341           1.3833      0.126     10.941      0.000       1.136       1.631\n",
      "x342          -0.0209      0.251     -0.083      0.934      -0.513       0.471\n",
      "x343           1.6984      0.094     18.040      0.000       1.514       1.883\n",
      "x344           3.0212      0.114     26.527      0.000       2.798       3.244\n",
      "x345           1.1631      0.100     11.640      0.000       0.967       1.359\n",
      "x346           0.5845      0.153      3.827      0.000       0.285       0.884\n",
      "x347           1.6949      0.104     16.240      0.000       1.490       1.899\n",
      "x348           1.2525      0.094     13.339      0.000       1.068       1.437\n",
      "x349           0.4015      0.242      1.658      0.097      -0.073       0.876\n",
      "x350           0.7073      0.315      2.242      0.025       0.089       1.326\n",
      "x351           2.0786      0.096     21.677      0.000       1.891       2.267\n",
      "x352           2.7089      0.116     23.406      0.000       2.482       2.936\n",
      "x353           2.2031      0.202     10.904      0.000       1.807       2.599\n",
      "x354           2.3067      0.139     16.638      0.000       2.035       2.578\n",
      "x355           2.5889      0.182     14.220      0.000       2.232       2.946\n",
      "x356           1.7663      0.104     16.947      0.000       1.562       1.971\n",
      "x357           0.3372      0.214      1.578      0.114      -0.082       0.756\n",
      "x358           3.7360      0.527      7.090      0.000       2.703       4.769\n",
      "x359           1.0641      0.171      6.208      0.000       0.728       1.400\n",
      "x360          -1.7993      0.271     -6.636      0.000      -2.331      -1.268\n",
      "x361           3.1430      0.074     42.482      0.000       2.998       3.288\n",
      "x362           2.9264      0.149     19.696      0.000       2.635       3.218\n",
      "x363           1.3959      0.105     13.304      0.000       1.190       1.602\n",
      "x364          -0.6478      0.262     -2.468      0.014      -1.162      -0.133\n",
      "x365           1.0553      0.099     10.635      0.000       0.861       1.250\n",
      "x366           1.1275      0.107     10.526      0.000       0.918       1.337\n",
      "x367           2.2461      0.102     21.967      0.000       2.046       2.447\n",
      "x368           2.5994      0.052     50.164      0.000       2.498       2.701\n",
      "x369           2.3968      0.105     22.777      0.000       2.191       2.603\n",
      "x370          -0.6253      0.165     -3.797      0.000      -0.948      -0.303\n",
      "x371           4.0812      0.267     15.288      0.000       3.558       4.604\n",
      "x372           1.6083      0.224      7.170      0.000       1.169       2.048\n",
      "x373          -0.0574      0.187     -0.307      0.759      -0.424       0.309\n",
      "x374           0.5557      0.294      1.890      0.059      -0.021       1.132\n",
      "x375           2.8583      0.252     11.322      0.000       2.364       3.353\n",
      "x376          -0.1885      0.303     -0.623      0.533      -0.782       0.405\n",
      "x377          -0.2955      0.218     -1.356      0.175      -0.723       0.132\n",
      "x378           0.6062      0.156      3.896      0.000       0.301       0.911\n",
      "x379           2.3030      0.076     30.402      0.000       2.155       2.451\n",
      "x380           3.2023      0.059     54.531      0.000       3.087       3.317\n",
      "x381          -0.9460      0.188     -5.032      0.000      -1.314      -0.578\n",
      "x382           0.7013      0.216      3.253      0.001       0.279       1.124\n",
      "x383           1.2605      0.204      6.181      0.000       0.861       1.660\n",
      "x384          -0.1941      0.166     -1.172      0.241      -0.519       0.130\n",
      "x385           1.5023      0.166      9.040      0.000       1.177       1.828\n",
      "x386           1.2875      0.131      9.795      0.000       1.030       1.545\n",
      "x387          -9.0133      0.614    -14.671      0.000     -10.217      -7.809\n",
      "x388           2.7653      0.079     34.850      0.000       2.610       2.921\n",
      "x389          -0.5884      0.220     -2.679      0.007      -1.019      -0.158\n",
      "x390          -0.6123      0.384     -1.593      0.111      -1.366       0.141\n",
      "x391          -0.6942      0.270     -2.575      0.010      -1.223      -0.166\n",
      "x392           1.1103      0.291      3.818      0.000       0.540       1.680\n",
      "x393           1.2038      0.117     10.297      0.000       0.975       1.433\n",
      "x394          -1.5489      0.298     -5.196      0.000      -2.133      -0.965\n",
      "x395           3.1479      0.153     20.537      0.000       2.848       3.448\n",
      "x396           0.8929      0.123      7.261      0.000       0.652       1.134\n",
      "x397           1.2350      0.106     11.654      0.000       1.027       1.443\n",
      "x398           4.1999      0.106     39.482      0.000       3.991       4.408\n",
      "x399           1.7018      0.091     18.765      0.000       1.524       1.880\n",
      "x400           1.8505      0.152     12.205      0.000       1.553       2.148\n",
      "x401           2.7583      0.108     25.529      0.000       2.547       2.970\n",
      "x402           1.0639      0.262      4.062      0.000       0.551       1.577\n",
      "x403          -1.0239      0.297     -3.448      0.001      -1.606      -0.442\n",
      "==============================================================================\n"
     ]
    }
   ],
   "source": [
    "print(nb2_training_results.summary())"
   ]
  },
  {
   "cell_type": "code",
   "execution_count": 92,
   "metadata": {},
   "outputs": [
    {
     "data": {
      "text/plain": [
       "3936932.8664925788"
      ]
     },
     "execution_count": 92,
     "metadata": {},
     "output_type": "execute_result"
    }
   ],
   "source": [
    "nb2_predictions = nb2_training_results.predict(X_train)\n",
    "mean_squared_error(nb2_predictions, y_train)"
   ]
  },
  {
   "cell_type": "code",
   "execution_count": null,
   "metadata": {},
   "outputs": [],
   "source": []
  },
  {
   "cell_type": "code",
   "execution_count": null,
   "metadata": {},
   "outputs": [],
   "source": []
  }
 ],
 "metadata": {
  "kernelspec": {
   "display_name": "Python 3",
   "language": "python",
   "name": "python3"
  },
  "language_info": {
   "codemirror_mode": {
    "name": "ipython",
    "version": 3
   },
   "file_extension": ".py",
   "mimetype": "text/x-python",
   "name": "python",
   "nbconvert_exporter": "python",
   "pygments_lexer": "ipython3",
   "version": "3.7.3"
  }
 },
 "nbformat": 4,
 "nbformat_minor": 2
}
